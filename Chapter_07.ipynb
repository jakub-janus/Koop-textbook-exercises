{
 "cells": [
  {
   "cell_type": "markdown",
   "metadata": {},
   "source": [
    "**Python solutions to Gary Koop's \"Analysis of Economic Data\" (4th ed., 2013)**\n",
    "\n",
    "**Chapter 7: Regression with Dummy Variables**\n",
    "\n",
    "Jakub Janus, [jakub.janus@uek.krakow.pl](jakub.janus@uek.krakow.pl)"
   ]
  },
  {
   "cell_type": "markdown",
   "metadata": {},
   "source": [
    "# Exercise 7.1\n",
    "Using the data set HPRICE.XLS, calculate and interpret descriptive statistics and\n",
    "a correlation matrix for the five dummy variables listed in Example 7.1. How can\n",
    "you interpret the mean of a dummy variable?"
   ]
  },
  {
   "cell_type": "code",
   "execution_count": null,
   "metadata": {},
   "outputs": [],
   "source": []
  },
  {
   "cell_type": "code",
   "execution_count": null,
   "metadata": {},
   "outputs": [],
   "source": []
  },
  {
   "cell_type": "code",
   "execution_count": null,
   "metadata": {},
   "outputs": [],
   "source": []
  },
  {
   "cell_type": "code",
   "execution_count": null,
   "metadata": {},
   "outputs": [],
   "source": []
  },
  {
   "cell_type": "code",
   "execution_count": null,
   "metadata": {},
   "outputs": [],
   "source": []
  },
  {
   "cell_type": "code",
   "execution_count": null,
   "metadata": {},
   "outputs": [],
   "source": []
  },
  {
   "cell_type": "code",
   "execution_count": null,
   "metadata": {},
   "outputs": [],
   "source": []
  },
  {
   "cell_type": "markdown",
   "metadata": {},
   "source": [
    "# Exercise 7.7\n",
    "WAGEDISC.XLS contains data on N = 100 employees in a particular occupation.\n",
    "Suppose that interest centers on investigating the factors that explain salary differences\n",
    "with a view to addressing the issue of sex discrimination in this occupation.\n",
    "The data set contains the following variables:\n",
    "* Y = salary (measured in thousands of dollars)\n",
    "* X1 = education level (measured in years of schooling)\n",
    "* X2 = experience level (measured in years of employment)\n",
    "* D = sex (1 for male, 0 for female).\n",
    "\n",
    "(a) Calculate and discuss descriptive statistics for this data set. For instance, what\n",
    "is the mean salary?\n",
    "\n",
    "(b) Calculate the mean salary for female employees and male employees separately.\n",
    "Compare.\n",
    "\n",
    "(c) Run a simple regression of Y on D. Is the slope coefficient in this regression\n",
    "statistically significant? Compare your regression result with your finding in\n",
    "part (b). Can you use these findings to conclude that women are discriminated\n",
    "against in this occupation?\n",
    "\n",
    "(d) Run a multiple regression of Y on X1, X2 and D. Write a short report outlining\n",
    "your findings and addressing the issue of wage discrimination in this\n",
    "occupation. Are your results statistically significant?\n",
    "\n",
    "(e) Compare your results in part (d) to the results in part (c). Why do they differ?\n",
    "Hint: Calculate a correlation matrix for all the explanatory variables and think\n",
    "intuitively about what the correlations mean.\n",
    "\n",
    "(f) Construct a new variable Z = DX2 and run a regression of Y on X1, X2, D\n",
    "and Z. Is Z statistically significant? How would the short report you wrote\n",
    "in part (d) change? Explain verbally what the coefficient on Z measures."
   ]
  },
  {
   "cell_type": "code",
   "execution_count": null,
   "metadata": {},
   "outputs": [],
   "source": []
  }
 ],
 "metadata": {
  "kernelspec": {
   "display_name": "Python 3",
   "language": "python",
   "name": "python3"
  },
  "language_info": {
   "codemirror_mode": {
    "name": "ipython",
    "version": 3
   },
   "file_extension": ".py",
   "mimetype": "text/x-python",
   "name": "python",
   "nbconvert_exporter": "python",
   "pygments_lexer": "ipython3",
   "version": "3.7.4"
  }
 },
 "nbformat": 4,
 "nbformat_minor": 2
}
