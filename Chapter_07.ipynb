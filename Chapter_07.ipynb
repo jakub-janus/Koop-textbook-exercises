{
 "cells": [
  {
   "cell_type": "markdown",
   "metadata": {},
   "source": [
    "**Python solutions to Gary Koop's \"Analysis of Economic Data\" (4th ed., 2013)**\n",
    "\n",
    "**Chapter 7: Regression with Dummy Variables**\n",
    "\n",
    "Jakub Janus, [jakub.janus@uek.krakow.pl](jakub.janus@uek.krakow.pl)"
   ]
  },
  {
   "cell_type": "markdown",
   "metadata": {},
   "source": [
    "# Exercise 7.1\n",
    "Using the data set HPRICE.XLS, calculate and interpret descriptive statistics and\n",
    "a correlation matrix for the five dummy variables listed in Example 7.1. How can\n",
    "you interpret the mean of a dummy variable?"
   ]
  },
  {
   "cell_type": "code",
   "execution_count": 1,
   "metadata": {},
   "outputs": [
    {
     "output_type": "execute_result",
     "data": {
      "text/plain": [
       "               D1          D2          D3          D4          D5\n",
       "count  546.000000  546.000000  546.000000  546.000000  546.000000\n",
       "mean     0.858974    0.177656    0.349817    0.045788    0.316850\n",
       "std      0.348367    0.382573    0.477349    0.209216    0.465675\n",
       "min      0.000000    0.000000    0.000000    0.000000    0.000000\n",
       "25%      1.000000    0.000000    0.000000    0.000000    0.000000\n",
       "50%      1.000000    0.000000    0.000000    0.000000    0.000000\n",
       "75%      1.000000    0.000000    1.000000    0.000000    1.000000\n",
       "max      1.000000    1.000000    1.000000    1.000000    1.000000"
      ],
      "text/html": "<div>\n<style scoped>\n    .dataframe tbody tr th:only-of-type {\n        vertical-align: middle;\n    }\n\n    .dataframe tbody tr th {\n        vertical-align: top;\n    }\n\n    .dataframe thead th {\n        text-align: right;\n    }\n</style>\n<table border=\"1\" class=\"dataframe\">\n  <thead>\n    <tr style=\"text-align: right;\">\n      <th></th>\n      <th>D1</th>\n      <th>D2</th>\n      <th>D3</th>\n      <th>D4</th>\n      <th>D5</th>\n    </tr>\n  </thead>\n  <tbody>\n    <tr>\n      <th>count</th>\n      <td>546.000000</td>\n      <td>546.000000</td>\n      <td>546.000000</td>\n      <td>546.000000</td>\n      <td>546.000000</td>\n    </tr>\n    <tr>\n      <th>mean</th>\n      <td>0.858974</td>\n      <td>0.177656</td>\n      <td>0.349817</td>\n      <td>0.045788</td>\n      <td>0.316850</td>\n    </tr>\n    <tr>\n      <th>std</th>\n      <td>0.348367</td>\n      <td>0.382573</td>\n      <td>0.477349</td>\n      <td>0.209216</td>\n      <td>0.465675</td>\n    </tr>\n    <tr>\n      <th>min</th>\n      <td>0.000000</td>\n      <td>0.000000</td>\n      <td>0.000000</td>\n      <td>0.000000</td>\n      <td>0.000000</td>\n    </tr>\n    <tr>\n      <th>25%</th>\n      <td>1.000000</td>\n      <td>0.000000</td>\n      <td>0.000000</td>\n      <td>0.000000</td>\n      <td>0.000000</td>\n    </tr>\n    <tr>\n      <th>50%</th>\n      <td>1.000000</td>\n      <td>0.000000</td>\n      <td>0.000000</td>\n      <td>0.000000</td>\n      <td>0.000000</td>\n    </tr>\n    <tr>\n      <th>75%</th>\n      <td>1.000000</td>\n      <td>0.000000</td>\n      <td>1.000000</td>\n      <td>0.000000</td>\n      <td>1.000000</td>\n    </tr>\n    <tr>\n      <th>max</th>\n      <td>1.000000</td>\n      <td>1.000000</td>\n      <td>1.000000</td>\n      <td>1.000000</td>\n      <td>1.000000</td>\n    </tr>\n  </tbody>\n</table>\n</div>"
     },
     "metadata": {},
     "execution_count": 1
    }
   ],
   "source": [
    "import pandas as pd\n",
    "hprice = pd.read_excel(r'datasets\\HPRICE.xls')\n",
    "# Rename Y and dummy variables\n",
    "hprice = hprice.rename(columns = {'sale price': 'Y', 'driveway': 'D1', 'rec room': 'D2', 'basement': 'D3', 'gas': 'D4', 'air cond': 'D5'})\n",
    "# Descriptive statistics\n",
    "D_all = hprice[['D1', 'D2', 'D3', 'D4', 'D5']]\n",
    "D_all.describe()"
   ]
  },
  {
   "cell_type": "code",
   "execution_count": 2,
   "metadata": {},
   "outputs": [
    {
     "output_type": "execute_result",
     "data": {
      "text/plain": [
       "          D1        D2        D3        D4        D5\n",
       "D1  1.000000  0.091959  0.043428 -0.011942  0.106290\n",
       "D2  0.091959  1.000000  0.372434 -0.010119  0.136626\n",
       "D3  0.043428  0.372434  1.000000  0.004677  0.045248\n",
       "D4 -0.011942 -0.010119  0.004677  1.000000 -0.130350\n",
       "D5  0.106290  0.136626  0.045248 -0.130350  1.000000"
      ],
      "text/html": "<div>\n<style scoped>\n    .dataframe tbody tr th:only-of-type {\n        vertical-align: middle;\n    }\n\n    .dataframe tbody tr th {\n        vertical-align: top;\n    }\n\n    .dataframe thead th {\n        text-align: right;\n    }\n</style>\n<table border=\"1\" class=\"dataframe\">\n  <thead>\n    <tr style=\"text-align: right;\">\n      <th></th>\n      <th>D1</th>\n      <th>D2</th>\n      <th>D3</th>\n      <th>D4</th>\n      <th>D5</th>\n    </tr>\n  </thead>\n  <tbody>\n    <tr>\n      <th>D1</th>\n      <td>1.000000</td>\n      <td>0.091959</td>\n      <td>0.043428</td>\n      <td>-0.011942</td>\n      <td>0.106290</td>\n    </tr>\n    <tr>\n      <th>D2</th>\n      <td>0.091959</td>\n      <td>1.000000</td>\n      <td>0.372434</td>\n      <td>-0.010119</td>\n      <td>0.136626</td>\n    </tr>\n    <tr>\n      <th>D3</th>\n      <td>0.043428</td>\n      <td>0.372434</td>\n      <td>1.000000</td>\n      <td>0.004677</td>\n      <td>0.045248</td>\n    </tr>\n    <tr>\n      <th>D4</th>\n      <td>-0.011942</td>\n      <td>-0.010119</td>\n      <td>0.004677</td>\n      <td>1.000000</td>\n      <td>-0.130350</td>\n    </tr>\n    <tr>\n      <th>D5</th>\n      <td>0.106290</td>\n      <td>0.136626</td>\n      <td>0.045248</td>\n      <td>-0.130350</td>\n      <td>1.000000</td>\n    </tr>\n  </tbody>\n</table>\n</div>"
     },
     "metadata": {},
     "execution_count": 2
    }
   ],
   "source": [
    "# Correlation matrix\n",
    "D_all.corr()"
   ]
  },
  {
   "source": [
    "# Exercise 7.2\n",
    "\n",
    "Interpret the statistical information in Example 7.3. Are all of the explanatory\n",
    "variables statistically significant?"
   ],
   "cell_type": "markdown",
   "metadata": {}
  },
  {
   "cell_type": "code",
   "execution_count": 3,
   "metadata": {},
   "outputs": [
    {
     "output_type": "execute_result",
     "data": {
      "text/plain": [
       "<class 'statsmodels.iolib.summary2.Summary'>\n",
       "\"\"\"\n",
       "                  Results: Ordinary least squares\n",
       "===================================================================\n",
       "Model:              OLS              Adj. R-squared:     0.137     \n",
       "Dependent Variable: Y                AIC:                12602.0015\n",
       "Date:               2021-04-01 19:08 BIC:                12614.9093\n",
       "No. Observations:   546              Log-Likelihood:     -6298.0   \n",
       "Df Model:           2                F-statistic:        44.41     \n",
       "Df Residuals:       543              Prob (F-statistic): 1.38e-18  \n",
       "R-squared:          0.141            Scale:              6.1506e+08\n",
       "-------------------------------------------------------------------\n",
       "            Coef.     Std.Err.    t    P>|t|    [0.025     0.975]  \n",
       "-------------------------------------------------------------------\n",
       "const     47099.0805 2837.6181 16.5981 0.0000 41525.0270 52673.1339\n",
       "D1        21159.9073 3062.4416  6.9095 0.0000 15144.2233 27175.5912\n",
       "D2        16023.6859 2788.6279  5.7461 0.0000 10545.8659 21501.5060\n",
       "-------------------------------------------------------------------\n",
       "Omnibus:              137.449       Durbin-Watson:          0.895  \n",
       "Prob(Omnibus):        0.000         Jarque-Bera (JB):       321.949\n",
       "Skew:                 1.300         Prob(JB):               0.000  \n",
       "Kurtosis:             5.718         Condition No.:          5      \n",
       "===================================================================\n",
       "\n",
       "\"\"\""
      ],
      "text/html": "<table class=\"simpletable\">\n<tr>\n        <td>Model:</td>               <td>OLS</td>         <td>Adj. R-squared:</td>      <td>0.137</td>  \n</tr>\n<tr>\n  <td>Dependent Variable:</td>         <td>Y</td>               <td>AIC:</td>         <td>12602.0015</td>\n</tr>\n<tr>\n         <td>Date:</td>        <td>2021-04-01 19:08</td>        <td>BIC:</td>         <td>12614.9093</td>\n</tr>\n<tr>\n   <td>No. Observations:</td>         <td>546</td>         <td>Log-Likelihood:</td>     <td>-6298.0</td> \n</tr>\n<tr>\n       <td>Df Model:</td>              <td>2</td>           <td>F-statistic:</td>        <td>44.41</td>  \n</tr>\n<tr>\n     <td>Df Residuals:</td>           <td>543</td>       <td>Prob (F-statistic):</td>  <td>1.38e-18</td> \n</tr>\n<tr>\n      <td>R-squared:</td>            <td>0.141</td>            <td>Scale:</td>        <td>6.1506e+08</td>\n</tr>\n</table>\n<table class=\"simpletable\">\n<tr>\n    <td></td>       <th>Coef.</th>   <th>Std.Err.</th>     <th>t</th>     <th>P>|t|</th>   <th>[0.025</th>     <th>0.975]</th>  \n</tr>\n<tr>\n  <th>const</th> <td>47099.0805</td> <td>2837.6181</td> <td>16.5981</td> <td>0.0000</td> <td>41525.0270</td> <td>52673.1339</td>\n</tr>\n<tr>\n  <th>D1</th>    <td>21159.9073</td> <td>3062.4416</td> <td>6.9095</td>  <td>0.0000</td> <td>15144.2233</td> <td>27175.5912</td>\n</tr>\n<tr>\n  <th>D2</th>    <td>16023.6859</td> <td>2788.6279</td> <td>5.7461</td>  <td>0.0000</td> <td>10545.8659</td> <td>21501.5060</td>\n</tr>\n</table>\n<table class=\"simpletable\">\n<tr>\n     <td>Omnibus:</td>    <td>137.449</td>  <td>Durbin-Watson:</td>    <td>0.895</td> \n</tr>\n<tr>\n  <td>Prob(Omnibus):</td>  <td>0.000</td>  <td>Jarque-Bera (JB):</td> <td>321.949</td>\n</tr>\n<tr>\n       <td>Skew:</td>      <td>1.300</td>      <td>Prob(JB):</td>      <td>0.000</td> \n</tr>\n<tr>\n     <td>Kurtosis:</td>    <td>5.718</td>   <td>Condition No.:</td>      <td>5</td>   \n</tr>\n</table>"
     },
     "metadata": {},
     "execution_count": 3
    }
   ],
   "source": [
    "import statsmodels.api as sm\n",
    "formula_Y_D_12 = sm.OLS(hprice['Y'], sm.add_constant(hprice[['D1', 'D2']]))\n",
    "reg_Y_D_12 = formula_Y_D_12.fit()\n",
    "reg_Y_D_12.summary2()"
   ]
  },
  {
   "source": [
    "# Exercise 7.3\n",
    "\n",
    "Using the house price data from HPRICE.XLS, let the dependent variable (Y) be\n",
    "the price of a house. The dummy variable D1 = 1 if the house has a driveway (0\n",
    "otherwise) and D2 = 1 if the house has a recreation room (0 otherwise).\n",
    "\n",
    "(a) Without using regression techniques, calculate the average price of the four\n",
    "types of house listed in Example 7.3."
   ],
   "cell_type": "markdown",
   "metadata": {}
  },
  {
   "cell_type": "code",
   "execution_count": 4,
   "metadata": {},
   "outputs": [
    {
     "output_type": "execute_result",
     "data": {
      "text/plain": [
       "     type          mean\n",
       "0  type_1  84753.333333\n",
       "1  type_2  68147.221636\n",
       "2  type_3  57071.428571\n",
       "3  type_4  47704.214286"
      ],
      "text/html": "<div>\n<style scoped>\n    .dataframe tbody tr th:only-of-type {\n        vertical-align: middle;\n    }\n\n    .dataframe tbody tr th {\n        vertical-align: top;\n    }\n\n    .dataframe thead th {\n        text-align: right;\n    }\n</style>\n<table border=\"1\" class=\"dataframe\">\n  <thead>\n    <tr style=\"text-align: right;\">\n      <th></th>\n      <th>type</th>\n      <th>mean</th>\n    </tr>\n  </thead>\n  <tbody>\n    <tr>\n      <th>0</th>\n      <td>type_1</td>\n      <td>84753.333333</td>\n    </tr>\n    <tr>\n      <th>1</th>\n      <td>type_2</td>\n      <td>68147.221636</td>\n    </tr>\n    <tr>\n      <th>2</th>\n      <td>type_3</td>\n      <td>57071.428571</td>\n    </tr>\n    <tr>\n      <th>3</th>\n      <td>type_4</td>\n      <td>47704.214286</td>\n    </tr>\n  </tbody>\n</table>\n</div>"
     },
     "metadata": {},
     "execution_count": 4
    }
   ],
   "source": [
    "# Type 1: D1 = 1, D2 = 1\n",
    "type_1_mean = hprice.loc[hprice['D1'] == 1].loc[hprice['D2'] == 1, ['Y']].mean()\n",
    "# Type 2: D1 = 1, D2 = 0\n",
    "type_2_mean = hprice.loc[hprice['D1'] == 1].loc[hprice['D2'] == 0, ['Y']].mean()\n",
    "# Type 3: D1 = 0, D2 = 1\n",
    "type_3_mean = hprice.loc[hprice['D1'] == 0].loc[hprice['D2'] == 1, ['Y']].mean()\n",
    "# Type 4: D1 = 0, D2 = 0\n",
    "type_4_mean = hprice.loc[hprice['D1'] == 0].loc[hprice['D2'] == 0, ['Y']].mean()\n",
    "# Table\n",
    "pd.DataFrame([['type_1', type_1_mean.values[0]], ['type_2', type_2_mean.values[0]], ['type_3', type_3_mean.values[0]], ['type_4', type_4_mean.values[0]]], columns=['type', 'mean'])"
   ]
  },
  {
   "source": [
    "(b) How do these average prices relate to the regression coefficients and results\n",
    "in Example 7.3?"
   ],
   "cell_type": "markdown",
   "metadata": {}
  },
  {
   "cell_type": "code",
   "execution_count": 5,
   "metadata": {},
   "outputs": [
    {
     "output_type": "execute_result",
     "data": {
      "text/plain": [
       "     type          mean    regression\n",
       "0  type_1  84753.333333  84282.673721\n",
       "1  type_2  68147.221636  68258.987771\n",
       "2  type_3  57071.428571  63122.766448\n",
       "3  type_4  47704.214286  47099.080498"
      ],
      "text/html": "<div>\n<style scoped>\n    .dataframe tbody tr th:only-of-type {\n        vertical-align: middle;\n    }\n\n    .dataframe tbody tr th {\n        vertical-align: top;\n    }\n\n    .dataframe thead th {\n        text-align: right;\n    }\n</style>\n<table border=\"1\" class=\"dataframe\">\n  <thead>\n    <tr style=\"text-align: right;\">\n      <th></th>\n      <th>type</th>\n      <th>mean</th>\n      <th>regression</th>\n    </tr>\n  </thead>\n  <tbody>\n    <tr>\n      <th>0</th>\n      <td>type_1</td>\n      <td>84753.333333</td>\n      <td>84282.673721</td>\n    </tr>\n    <tr>\n      <th>1</th>\n      <td>type_2</td>\n      <td>68147.221636</td>\n      <td>68258.987771</td>\n    </tr>\n    <tr>\n      <th>2</th>\n      <td>type_3</td>\n      <td>57071.428571</td>\n      <td>63122.766448</td>\n    </tr>\n    <tr>\n      <th>3</th>\n      <td>type_4</td>\n      <td>47704.214286</td>\n      <td>47099.080498</td>\n    </tr>\n  </tbody>\n</table>\n</div>"
     },
     "metadata": {},
     "execution_count": 5
    }
   ],
   "source": [
    "coef_const = reg_Y_D_12.params['const']\n",
    "coef_D1 = reg_Y_D_12.params['D1']\n",
    "coef_D2 = reg_Y_D_12.params['D2']\n",
    "reg_type_1 = coef_const + coef_D1 + coef_D2\n",
    "reg_type_2 = coef_const + coef_D1\n",
    "reg_type_3 = coef_const + coef_D2\n",
    "reg_type_4 = coef_const\n",
    "pd.DataFrame([['type_1', type_1_mean.values[0], reg_type_1], ['type_2', type_2_mean.values[0], reg_type_2], ['type_3', type_3_mean.values[0], reg_type_3], ['type_4', type_4_mean.values[0], reg_type_4]], columns=['type', 'mean', 'regression'])"
   ]
  },
  {
   "source": [
    "# Exercise 7.4\n",
    "\n",
    "Use data set HPRICE.XLS and the five dummy variables, D1 to D5 (i.e. the\n",
    "dummy variables for whether a house has a driveway, a recreation room, a basement,\n",
    "gas central heating and air conditioning) listed in Example 7.1.\n",
    "\n",
    "(a) With five dummy variables, how many different categories of house are possible\n",
    "(e.g. houses with a driveway, a recreation room, a basement and gas\n",
    "central heating but no air conditioning comprise one class.) What implications\n",
    "does this have for interpreting regression results?\n"
   ],
   "cell_type": "markdown",
   "metadata": {}
  },
  {
   "cell_type": "code",
   "execution_count": 6,
   "metadata": {},
   "outputs": [
    {
     "output_type": "execute_result",
     "data": {
      "text/plain": [
       "32"
      ]
     },
     "metadata": {},
     "execution_count": 6
    }
   ],
   "source": [
    "house_categories = 2**5\n",
    "house_categories"
   ]
  },
  {
   "source": [
    "(b) How would you calculate the number of houses in each category? For instance,\n",
    "of the 546 houses in the data set, how many have a driveway, gas central\n",
    "heating and air conditioning but no recreation room and no basement?"
   ],
   "cell_type": "markdown",
   "metadata": {}
  },
  {
   "cell_type": "code",
   "execution_count": 7,
   "metadata": {},
   "outputs": [
    {
     "output_type": "execute_result",
     "data": {
      "text/plain": [
       "    D1  D2  D3  D4  D5  no_houses\n",
       "0    0   0   0   0   0         42\n",
       "1    0   0   0   0   1          8\n",
       "2    0   0   0   1   0          2\n",
       "3    0   0   0   1   1          0\n",
       "4    0   0   1   0   0         11\n",
       "5    0   0   1   0   1          5\n",
       "6    0   0   1   1   0          2\n",
       "7    0   0   1   1   1          0\n",
       "8    0   1   0   0   0          2\n",
       "9    0   1   0   0   1          0\n",
       "10   0   1   0   1   0          0\n",
       "11   0   1   0   1   1          0\n",
       "12   0   1   1   0   0          3\n",
       "13   0   1   1   0   1          2\n",
       "14   0   1   1   1   0          0\n",
       "15   0   1   1   1   1          0\n",
       "16   1   0   0   0   0        183\n",
       "17   1   0   0   0   1         81\n",
       "18   1   0   0   1   0         12\n",
       "19   1   0   0   1   1          1\n",
       "20   1   0   1   0   0         64\n",
       "21   1   0   1   0   1         34\n",
       "22   1   0   1   1   0          4\n",
       "23   1   0   1   1   1          0\n",
       "24   1   1   0   0   0          6\n",
       "25   1   1   0   0   1         17\n",
       "26   1   1   0   1   0          1\n",
       "27   1   1   0   1   1          0\n",
       "28   1   1   1   0   0         38\n",
       "29   1   1   1   0   1         25\n",
       "30   1   1   1   1   0          3\n",
       "31   1   1   1   1   1          0"
      ],
      "text/html": "<div>\n<style scoped>\n    .dataframe tbody tr th:only-of-type {\n        vertical-align: middle;\n    }\n\n    .dataframe tbody tr th {\n        vertical-align: top;\n    }\n\n    .dataframe thead th {\n        text-align: right;\n    }\n</style>\n<table border=\"1\" class=\"dataframe\">\n  <thead>\n    <tr style=\"text-align: right;\">\n      <th></th>\n      <th>D1</th>\n      <th>D2</th>\n      <th>D3</th>\n      <th>D4</th>\n      <th>D5</th>\n      <th>no_houses</th>\n    </tr>\n  </thead>\n  <tbody>\n    <tr>\n      <th>0</th>\n      <td>0</td>\n      <td>0</td>\n      <td>0</td>\n      <td>0</td>\n      <td>0</td>\n      <td>42</td>\n    </tr>\n    <tr>\n      <th>1</th>\n      <td>0</td>\n      <td>0</td>\n      <td>0</td>\n      <td>0</td>\n      <td>1</td>\n      <td>8</td>\n    </tr>\n    <tr>\n      <th>2</th>\n      <td>0</td>\n      <td>0</td>\n      <td>0</td>\n      <td>1</td>\n      <td>0</td>\n      <td>2</td>\n    </tr>\n    <tr>\n      <th>3</th>\n      <td>0</td>\n      <td>0</td>\n      <td>0</td>\n      <td>1</td>\n      <td>1</td>\n      <td>0</td>\n    </tr>\n    <tr>\n      <th>4</th>\n      <td>0</td>\n      <td>0</td>\n      <td>1</td>\n      <td>0</td>\n      <td>0</td>\n      <td>11</td>\n    </tr>\n    <tr>\n      <th>5</th>\n      <td>0</td>\n      <td>0</td>\n      <td>1</td>\n      <td>0</td>\n      <td>1</td>\n      <td>5</td>\n    </tr>\n    <tr>\n      <th>6</th>\n      <td>0</td>\n      <td>0</td>\n      <td>1</td>\n      <td>1</td>\n      <td>0</td>\n      <td>2</td>\n    </tr>\n    <tr>\n      <th>7</th>\n      <td>0</td>\n      <td>0</td>\n      <td>1</td>\n      <td>1</td>\n      <td>1</td>\n      <td>0</td>\n    </tr>\n    <tr>\n      <th>8</th>\n      <td>0</td>\n      <td>1</td>\n      <td>0</td>\n      <td>0</td>\n      <td>0</td>\n      <td>2</td>\n    </tr>\n    <tr>\n      <th>9</th>\n      <td>0</td>\n      <td>1</td>\n      <td>0</td>\n      <td>0</td>\n      <td>1</td>\n      <td>0</td>\n    </tr>\n    <tr>\n      <th>10</th>\n      <td>0</td>\n      <td>1</td>\n      <td>0</td>\n      <td>1</td>\n      <td>0</td>\n      <td>0</td>\n    </tr>\n    <tr>\n      <th>11</th>\n      <td>0</td>\n      <td>1</td>\n      <td>0</td>\n      <td>1</td>\n      <td>1</td>\n      <td>0</td>\n    </tr>\n    <tr>\n      <th>12</th>\n      <td>0</td>\n      <td>1</td>\n      <td>1</td>\n      <td>0</td>\n      <td>0</td>\n      <td>3</td>\n    </tr>\n    <tr>\n      <th>13</th>\n      <td>0</td>\n      <td>1</td>\n      <td>1</td>\n      <td>0</td>\n      <td>1</td>\n      <td>2</td>\n    </tr>\n    <tr>\n      <th>14</th>\n      <td>0</td>\n      <td>1</td>\n      <td>1</td>\n      <td>1</td>\n      <td>0</td>\n      <td>0</td>\n    </tr>\n    <tr>\n      <th>15</th>\n      <td>0</td>\n      <td>1</td>\n      <td>1</td>\n      <td>1</td>\n      <td>1</td>\n      <td>0</td>\n    </tr>\n    <tr>\n      <th>16</th>\n      <td>1</td>\n      <td>0</td>\n      <td>0</td>\n      <td>0</td>\n      <td>0</td>\n      <td>183</td>\n    </tr>\n    <tr>\n      <th>17</th>\n      <td>1</td>\n      <td>0</td>\n      <td>0</td>\n      <td>0</td>\n      <td>1</td>\n      <td>81</td>\n    </tr>\n    <tr>\n      <th>18</th>\n      <td>1</td>\n      <td>0</td>\n      <td>0</td>\n      <td>1</td>\n      <td>0</td>\n      <td>12</td>\n    </tr>\n    <tr>\n      <th>19</th>\n      <td>1</td>\n      <td>0</td>\n      <td>0</td>\n      <td>1</td>\n      <td>1</td>\n      <td>1</td>\n    </tr>\n    <tr>\n      <th>20</th>\n      <td>1</td>\n      <td>0</td>\n      <td>1</td>\n      <td>0</td>\n      <td>0</td>\n      <td>64</td>\n    </tr>\n    <tr>\n      <th>21</th>\n      <td>1</td>\n      <td>0</td>\n      <td>1</td>\n      <td>0</td>\n      <td>1</td>\n      <td>34</td>\n    </tr>\n    <tr>\n      <th>22</th>\n      <td>1</td>\n      <td>0</td>\n      <td>1</td>\n      <td>1</td>\n      <td>0</td>\n      <td>4</td>\n    </tr>\n    <tr>\n      <th>23</th>\n      <td>1</td>\n      <td>0</td>\n      <td>1</td>\n      <td>1</td>\n      <td>1</td>\n      <td>0</td>\n    </tr>\n    <tr>\n      <th>24</th>\n      <td>1</td>\n      <td>1</td>\n      <td>0</td>\n      <td>0</td>\n      <td>0</td>\n      <td>6</td>\n    </tr>\n    <tr>\n      <th>25</th>\n      <td>1</td>\n      <td>1</td>\n      <td>0</td>\n      <td>0</td>\n      <td>1</td>\n      <td>17</td>\n    </tr>\n    <tr>\n      <th>26</th>\n      <td>1</td>\n      <td>1</td>\n      <td>0</td>\n      <td>1</td>\n      <td>0</td>\n      <td>1</td>\n    </tr>\n    <tr>\n      <th>27</th>\n      <td>1</td>\n      <td>1</td>\n      <td>0</td>\n      <td>1</td>\n      <td>1</td>\n      <td>0</td>\n    </tr>\n    <tr>\n      <th>28</th>\n      <td>1</td>\n      <td>1</td>\n      <td>1</td>\n      <td>0</td>\n      <td>0</td>\n      <td>38</td>\n    </tr>\n    <tr>\n      <th>29</th>\n      <td>1</td>\n      <td>1</td>\n      <td>1</td>\n      <td>0</td>\n      <td>1</td>\n      <td>25</td>\n    </tr>\n    <tr>\n      <th>30</th>\n      <td>1</td>\n      <td>1</td>\n      <td>1</td>\n      <td>1</td>\n      <td>0</td>\n      <td>3</td>\n    </tr>\n    <tr>\n      <th>31</th>\n      <td>1</td>\n      <td>1</td>\n      <td>1</td>\n      <td>1</td>\n      <td>1</td>\n      <td>0</td>\n    </tr>\n  </tbody>\n</table>\n</div>"
     },
     "metadata": {},
     "execution_count": 7
    }
   ],
   "source": [
    "houses_summary = []\n",
    "for D1 in range(0, 2):\n",
    "    for D2 in range(0, 2):\n",
    "        for D3 in range(0, 2):\n",
    "            for D4 in range(0, 2):\n",
    "                for D5 in range(0, 2):\n",
    "                    no_houses = len(hprice.loc[(hprice['D1'] == D1) \n",
    "                    & (hprice['D2'] == D2) \n",
    "                    & (hprice['D3'] == D3) \n",
    "                    & (hprice['D4'] == D4) \n",
    "                    & (hprice['D5'] == D5)])\n",
    "                    houses_summary.append([D1, D2, D3, D4, D5, no_houses])\n",
    "pd.DataFrame(houses_summary,  columns=['D1', 'D2', 'D3', 'D4', 'D5', 'no_houses'])   "
   ]
  },
  {
   "source": [
    "(c) Run a regression of the price of a house (Y) on the five dummy variables."
   ],
   "cell_type": "markdown",
   "metadata": {}
  },
  {
   "cell_type": "code",
   "execution_count": 8,
   "metadata": {},
   "outputs": [
    {
     "output_type": "execute_result",
     "data": {
      "text/plain": [
       "<class 'statsmodels.iolib.summary2.Summary'>\n",
       "\"\"\"\n",
       "                  Results: Ordinary least squares\n",
       "===================================================================\n",
       "Model:              OLS              Adj. R-squared:     0.325     \n",
       "Dependent Variable: Y                AIC:                12470.8566\n",
       "Date:               2021-04-01 19:08 BIC:                12496.6723\n",
       "No. Observations:   546              Log-Likelihood:     -6229.4   \n",
       "Df Model:           5                F-statistic:        53.55     \n",
       "Df Residuals:       540              Prob (F-statistic): 3.94e-45  \n",
       "R-squared:          0.331            Scale:              4.8110e+08\n",
       "-------------------------------------------------------------------\n",
       "            Coef.     Std.Err.    t    P>|t|    [0.025     0.975]  \n",
       "-------------------------------------------------------------------\n",
       "const     40183.6841 2610.1675 15.3951 0.0000 35056.3579 45311.0104\n",
       "D1        18139.6654 2720.9557  6.6667 0.0000 12794.7104 23484.6203\n",
       "D2         9614.0806 2675.0455  3.5940 0.0004  4359.3101 14868.8511\n",
       "D3         5858.2681 2121.0774  2.7619 0.0059  1691.6942 10024.8420\n",
       "D4        19386.2540 4529.7741  4.2797 0.0000 10488.1163 28284.3917\n",
       "D5        24337.8383 2063.4441 11.7948 0.0000 20284.4773 28391.1992\n",
       "-------------------------------------------------------------------\n",
       "Omnibus:              135.960       Durbin-Watson:          1.180  \n",
       "Prob(Omnibus):        0.000         Jarque-Bera (JB):       375.202\n",
       "Skew:                 1.213         Prob(JB):               0.000  \n",
       "Kurtosis:             6.256         Condition No.:          7      \n",
       "===================================================================\n",
       "\n",
       "\"\"\""
      ],
      "text/html": "<table class=\"simpletable\">\n<tr>\n        <td>Model:</td>               <td>OLS</td>         <td>Adj. R-squared:</td>      <td>0.325</td>  \n</tr>\n<tr>\n  <td>Dependent Variable:</td>         <td>Y</td>               <td>AIC:</td>         <td>12470.8566</td>\n</tr>\n<tr>\n         <td>Date:</td>        <td>2021-04-01 19:08</td>        <td>BIC:</td>         <td>12496.6723</td>\n</tr>\n<tr>\n   <td>No. Observations:</td>         <td>546</td>         <td>Log-Likelihood:</td>     <td>-6229.4</td> \n</tr>\n<tr>\n       <td>Df Model:</td>              <td>5</td>           <td>F-statistic:</td>        <td>53.55</td>  \n</tr>\n<tr>\n     <td>Df Residuals:</td>           <td>540</td>       <td>Prob (F-statistic):</td>  <td>3.94e-45</td> \n</tr>\n<tr>\n      <td>R-squared:</td>            <td>0.331</td>            <td>Scale:</td>        <td>4.8110e+08</td>\n</tr>\n</table>\n<table class=\"simpletable\">\n<tr>\n    <td></td>       <th>Coef.</th>   <th>Std.Err.</th>     <th>t</th>     <th>P>|t|</th>   <th>[0.025</th>     <th>0.975]</th>  \n</tr>\n<tr>\n  <th>const</th> <td>40183.6841</td> <td>2610.1675</td> <td>15.3951</td> <td>0.0000</td> <td>35056.3579</td> <td>45311.0104</td>\n</tr>\n<tr>\n  <th>D1</th>    <td>18139.6654</td> <td>2720.9557</td> <td>6.6667</td>  <td>0.0000</td> <td>12794.7104</td> <td>23484.6203</td>\n</tr>\n<tr>\n  <th>D2</th>     <td>9614.0806</td> <td>2675.0455</td> <td>3.5940</td>  <td>0.0004</td>  <td>4359.3101</td> <td>14868.8511</td>\n</tr>\n<tr>\n  <th>D3</th>     <td>5858.2681</td> <td>2121.0774</td> <td>2.7619</td>  <td>0.0059</td>  <td>1691.6942</td> <td>10024.8420</td>\n</tr>\n<tr>\n  <th>D4</th>    <td>19386.2540</td> <td>4529.7741</td> <td>4.2797</td>  <td>0.0000</td> <td>10488.1163</td> <td>28284.3917</td>\n</tr>\n<tr>\n  <th>D5</th>    <td>24337.8383</td> <td>2063.4441</td> <td>11.7948</td> <td>0.0000</td> <td>20284.4773</td> <td>28391.1992</td>\n</tr>\n</table>\n<table class=\"simpletable\">\n<tr>\n     <td>Omnibus:</td>    <td>135.960</td>  <td>Durbin-Watson:</td>    <td>1.180</td> \n</tr>\n<tr>\n  <td>Prob(Omnibus):</td>  <td>0.000</td>  <td>Jarque-Bera (JB):</td> <td>375.202</td>\n</tr>\n<tr>\n       <td>Skew:</td>      <td>1.213</td>      <td>Prob(JB):</td>      <td>0.000</td> \n</tr>\n<tr>\n     <td>Kurtosis:</td>    <td>6.256</td>   <td>Condition No.:</td>      <td>7</td>   \n</tr>\n</table>"
     },
     "metadata": {},
     "execution_count": 8
    }
   ],
   "source": [
    "formula_Y_D_all = sm.OLS(hprice['Y'], sm.add_constant(D_all))\n",
    "reg_Y_D_all = formula_Y_D_all.fit()\n",
    "reg_Y_D_all.summary2()"
   ]
  },
  {
   "source": [
    "(d) Discuss the statistical significance of the explanatory variables."
   ],
   "cell_type": "markdown",
   "metadata": {}
  },
  {
   "cell_type": "code",
   "execution_count": 9,
   "metadata": {},
   "outputs": [
    {
     "output_type": "execute_result",
     "data": {
      "text/plain": [
       "const    True\n",
       "D1       True\n",
       "D2       True\n",
       "D3       True\n",
       "D4       True\n",
       "D5       True\n",
       "dtype: bool"
      ]
     },
     "metadata": {},
     "execution_count": 9
    }
   ],
   "source": [
    "reg_Y_D_all.pvalues < 0.05"
   ]
  },
  {
   "source": [
    "(e) Calculate the average price for a few categories of housing (e.g. those with a\n",
    "driveway, a recreation room and a basement but no gas central heating and\n",
    "no air conditioning)."
   ],
   "cell_type": "markdown",
   "metadata": {}
  },
  {
   "cell_type": "code",
   "execution_count": 10,
   "metadata": {},
   "outputs": [
    {
     "output_type": "execute_result",
     "data": {
      "text/plain": [
       "    D1  D2  D3  D4  D5   houses_price\n",
       "0    0   0   0   0   0   43893.928571\n",
       "1    0   0   0   0   1   53362.500000\n",
       "2    0   0   0   1   0   36250.000000\n",
       "3    0   0   0   1   1            NaN\n",
       "4    0   0   1   0   0   50000.000000\n",
       "5    0   0   1   0   1   62690.000000\n",
       "6    0   0   1   1   0   66450.000000\n",
       "7    0   0   1   1   1            NaN\n",
       "8    0   1   0   0   0   36500.000000\n",
       "9    0   1   0   0   1            NaN\n",
       "10   0   1   0   1   0            NaN\n",
       "11   0   1   0   1   1            NaN\n",
       "12   0   1   1   0   0   65166.666667\n",
       "13   0   1   1   0   1   65500.000000\n",
       "14   0   1   1   1   0            NaN\n",
       "15   0   1   1   1   1            NaN\n",
       "16   1   0   0   0   0   56629.808743\n",
       "17   1   0   0   0   1   86297.432099\n",
       "18   1   0   0   1   0   76341.666667\n",
       "19   1   0   0   1   1   52000.000000\n",
       "20   1   0   1   0   0   66140.625000\n",
       "21   1   0   1   0   1   83363.235294\n",
       "22   1   0   1   1   0  109750.000000\n",
       "23   1   0   1   1   1            NaN\n",
       "24   1   1   0   0   0   68416.666667\n",
       "25   1   1   0   0   1   97332.352941\n",
       "26   1   1   0   1   0   87000.000000\n",
       "27   1   1   0   1   1            NaN\n",
       "28   1   1   1   0   0   71961.842105\n",
       "29   1   1   1   0   1   98196.000000\n",
       "30   1   1   1   1   0   95400.000000\n",
       "31   1   1   1   1   1            NaN"
      ],
      "text/html": "<div>\n<style scoped>\n    .dataframe tbody tr th:only-of-type {\n        vertical-align: middle;\n    }\n\n    .dataframe tbody tr th {\n        vertical-align: top;\n    }\n\n    .dataframe thead th {\n        text-align: right;\n    }\n</style>\n<table border=\"1\" class=\"dataframe\">\n  <thead>\n    <tr style=\"text-align: right;\">\n      <th></th>\n      <th>D1</th>\n      <th>D2</th>\n      <th>D3</th>\n      <th>D4</th>\n      <th>D5</th>\n      <th>houses_price</th>\n    </tr>\n  </thead>\n  <tbody>\n    <tr>\n      <th>0</th>\n      <td>0</td>\n      <td>0</td>\n      <td>0</td>\n      <td>0</td>\n      <td>0</td>\n      <td>43893.928571</td>\n    </tr>\n    <tr>\n      <th>1</th>\n      <td>0</td>\n      <td>0</td>\n      <td>0</td>\n      <td>0</td>\n      <td>1</td>\n      <td>53362.500000</td>\n    </tr>\n    <tr>\n      <th>2</th>\n      <td>0</td>\n      <td>0</td>\n      <td>0</td>\n      <td>1</td>\n      <td>0</td>\n      <td>36250.000000</td>\n    </tr>\n    <tr>\n      <th>3</th>\n      <td>0</td>\n      <td>0</td>\n      <td>0</td>\n      <td>1</td>\n      <td>1</td>\n      <td>NaN</td>\n    </tr>\n    <tr>\n      <th>4</th>\n      <td>0</td>\n      <td>0</td>\n      <td>1</td>\n      <td>0</td>\n      <td>0</td>\n      <td>50000.000000</td>\n    </tr>\n    <tr>\n      <th>5</th>\n      <td>0</td>\n      <td>0</td>\n      <td>1</td>\n      <td>0</td>\n      <td>1</td>\n      <td>62690.000000</td>\n    </tr>\n    <tr>\n      <th>6</th>\n      <td>0</td>\n      <td>0</td>\n      <td>1</td>\n      <td>1</td>\n      <td>0</td>\n      <td>66450.000000</td>\n    </tr>\n    <tr>\n      <th>7</th>\n      <td>0</td>\n      <td>0</td>\n      <td>1</td>\n      <td>1</td>\n      <td>1</td>\n      <td>NaN</td>\n    </tr>\n    <tr>\n      <th>8</th>\n      <td>0</td>\n      <td>1</td>\n      <td>0</td>\n      <td>0</td>\n      <td>0</td>\n      <td>36500.000000</td>\n    </tr>\n    <tr>\n      <th>9</th>\n      <td>0</td>\n      <td>1</td>\n      <td>0</td>\n      <td>0</td>\n      <td>1</td>\n      <td>NaN</td>\n    </tr>\n    <tr>\n      <th>10</th>\n      <td>0</td>\n      <td>1</td>\n      <td>0</td>\n      <td>1</td>\n      <td>0</td>\n      <td>NaN</td>\n    </tr>\n    <tr>\n      <th>11</th>\n      <td>0</td>\n      <td>1</td>\n      <td>0</td>\n      <td>1</td>\n      <td>1</td>\n      <td>NaN</td>\n    </tr>\n    <tr>\n      <th>12</th>\n      <td>0</td>\n      <td>1</td>\n      <td>1</td>\n      <td>0</td>\n      <td>0</td>\n      <td>65166.666667</td>\n    </tr>\n    <tr>\n      <th>13</th>\n      <td>0</td>\n      <td>1</td>\n      <td>1</td>\n      <td>0</td>\n      <td>1</td>\n      <td>65500.000000</td>\n    </tr>\n    <tr>\n      <th>14</th>\n      <td>0</td>\n      <td>1</td>\n      <td>1</td>\n      <td>1</td>\n      <td>0</td>\n      <td>NaN</td>\n    </tr>\n    <tr>\n      <th>15</th>\n      <td>0</td>\n      <td>1</td>\n      <td>1</td>\n      <td>1</td>\n      <td>1</td>\n      <td>NaN</td>\n    </tr>\n    <tr>\n      <th>16</th>\n      <td>1</td>\n      <td>0</td>\n      <td>0</td>\n      <td>0</td>\n      <td>0</td>\n      <td>56629.808743</td>\n    </tr>\n    <tr>\n      <th>17</th>\n      <td>1</td>\n      <td>0</td>\n      <td>0</td>\n      <td>0</td>\n      <td>1</td>\n      <td>86297.432099</td>\n    </tr>\n    <tr>\n      <th>18</th>\n      <td>1</td>\n      <td>0</td>\n      <td>0</td>\n      <td>1</td>\n      <td>0</td>\n      <td>76341.666667</td>\n    </tr>\n    <tr>\n      <th>19</th>\n      <td>1</td>\n      <td>0</td>\n      <td>0</td>\n      <td>1</td>\n      <td>1</td>\n      <td>52000.000000</td>\n    </tr>\n    <tr>\n      <th>20</th>\n      <td>1</td>\n      <td>0</td>\n      <td>1</td>\n      <td>0</td>\n      <td>0</td>\n      <td>66140.625000</td>\n    </tr>\n    <tr>\n      <th>21</th>\n      <td>1</td>\n      <td>0</td>\n      <td>1</td>\n      <td>0</td>\n      <td>1</td>\n      <td>83363.235294</td>\n    </tr>\n    <tr>\n      <th>22</th>\n      <td>1</td>\n      <td>0</td>\n      <td>1</td>\n      <td>1</td>\n      <td>0</td>\n      <td>109750.000000</td>\n    </tr>\n    <tr>\n      <th>23</th>\n      <td>1</td>\n      <td>0</td>\n      <td>1</td>\n      <td>1</td>\n      <td>1</td>\n      <td>NaN</td>\n    </tr>\n    <tr>\n      <th>24</th>\n      <td>1</td>\n      <td>1</td>\n      <td>0</td>\n      <td>0</td>\n      <td>0</td>\n      <td>68416.666667</td>\n    </tr>\n    <tr>\n      <th>25</th>\n      <td>1</td>\n      <td>1</td>\n      <td>0</td>\n      <td>0</td>\n      <td>1</td>\n      <td>97332.352941</td>\n    </tr>\n    <tr>\n      <th>26</th>\n      <td>1</td>\n      <td>1</td>\n      <td>0</td>\n      <td>1</td>\n      <td>0</td>\n      <td>87000.000000</td>\n    </tr>\n    <tr>\n      <th>27</th>\n      <td>1</td>\n      <td>1</td>\n      <td>0</td>\n      <td>1</td>\n      <td>1</td>\n      <td>NaN</td>\n    </tr>\n    <tr>\n      <th>28</th>\n      <td>1</td>\n      <td>1</td>\n      <td>1</td>\n      <td>0</td>\n      <td>0</td>\n      <td>71961.842105</td>\n    </tr>\n    <tr>\n      <th>29</th>\n      <td>1</td>\n      <td>1</td>\n      <td>1</td>\n      <td>0</td>\n      <td>1</td>\n      <td>98196.000000</td>\n    </tr>\n    <tr>\n      <th>30</th>\n      <td>1</td>\n      <td>1</td>\n      <td>1</td>\n      <td>1</td>\n      <td>0</td>\n      <td>95400.000000</td>\n    </tr>\n    <tr>\n      <th>31</th>\n      <td>1</td>\n      <td>1</td>\n      <td>1</td>\n      <td>1</td>\n      <td>1</td>\n      <td>NaN</td>\n    </tr>\n  </tbody>\n</table>\n</div>"
     },
     "metadata": {},
     "execution_count": 10
    }
   ],
   "source": [
    "houses_average_price = []\n",
    "for D1 in range(0, 2):\n",
    "    for D2 in range(0, 2):\n",
    "        for D3 in range(0, 2):\n",
    "            for D4 in range(0, 2):\n",
    "                for D5 in range(0, 2):\n",
    "                    houses_price = hprice.loc[(hprice['D1'] == D1) \n",
    "                    & (hprice['D2'] == D2) \n",
    "                    & (hprice['D3'] == D3) \n",
    "                    & (hprice['D4'] == D4) \n",
    "                    & (hprice['D5'] == D5), 'Y'].mean()\n",
    "                    houses_average_price.append([D1, D2, D3, D4, D5, houses_price])\n",
    "pd.DataFrame(houses_average_price,  columns=['D1', 'D2', 'D3', 'D4', 'D5', 'houses_price'])   "
   ]
  },
  {
   "source": [
    "(f) Which house characteristic tends to raise the price of a house the most?"
   ],
   "cell_type": "markdown",
   "metadata": {}
  },
  {
   "cell_type": "code",
   "execution_count": 11,
   "metadata": {},
   "outputs": [
    {
     "output_type": "execute_result",
     "data": {
      "text/plain": [
       "24337.838251003515"
      ]
     },
     "metadata": {},
     "execution_count": 11
    }
   ],
   "source": [
    "reg_Y_D_all.params['D5']"
   ]
  },
  {
   "source": [
    "# Exercise 7.5\n",
    "Use data set in HPRICE.XLS. Consider the five dummy variables, D1 to D5, listed\n",
    "in Example 7.1 and the following four non-dummy explanatory variables:\n",
    "* X1 = the lot size of the property (in square feet)\n",
    "* X2 = the number of bedrooms\n",
    "* X3 = the number of bathrooms\n",
    "* X4 = the number of storeys (excluding the basement).\n",
    "\n",
    "(a) Run a regression of Y on D1, . . ., D5, X1, . . ., X4."
   ],
   "cell_type": "markdown",
   "metadata": {}
  },
  {
   "cell_type": "code",
   "execution_count": 12,
   "metadata": {},
   "outputs": [
    {
     "output_type": "execute_result",
     "data": {
      "text/plain": [
       "<class 'statsmodels.iolib.summary2.Summary'>\n",
       "\"\"\"\n",
       "                  Results: Ordinary least squares\n",
       "===================================================================\n",
       "Model:              OLS              Adj. R-squared:     0.633     \n",
       "Dependent Variable: Y                AIC:                12143.0303\n",
       "Date:               2021-04-01 19:08 BIC:                12186.0565\n",
       "No. Observations:   546              Log-Likelihood:     -6061.5   \n",
       "Df Model:           9                F-statistic:        105.2     \n",
       "Df Residuals:       536              Prob (F-statistic): 2.05e-112 \n",
       "R-squared:          0.639            Scale:              2.6203e+08\n",
       "-------------------------------------------------------------------\n",
       "           Coef.     Std.Err.    t    P>|t|     [0.025     0.975]  \n",
       "-------------------------------------------------------------------\n",
       "const    -8182.9975 3528.8496 -2.3189 0.0208 -15115.0685 -1250.9264\n",
       "D1        9477.8199 2110.7939  4.4902 0.0000   5331.3770 13624.2628\n",
       "D2        4543.8866 1990.3155  2.2830 0.0228    634.1115  8453.6617\n",
       "D3        7252.6093 1636.0504  4.4330 0.0000   4038.7524 10466.4662\n",
       "D4       13139.1704 3361.0809  3.9092 0.0001   6536.6640 19741.6768\n",
       "D5       13612.4566 1624.5447  8.3792 0.0000  10421.2016 16803.7117\n",
       "X1           4.3318    0.3493 12.4007 0.0000      3.6456     5.0180\n",
       "X2        2348.7440 1095.5318  2.1439 0.0325    196.6816  4500.8065\n",
       "X3       14865.4754 1556.2249  9.5523 0.0000  11808.4276 17922.5232\n",
       "X4        6371.0797  967.8858  6.5825 0.0000   4469.7652  8272.3942\n",
       "-------------------------------------------------------------------\n",
       "Omnibus:              109.550       Durbin-Watson:          1.536  \n",
       "Prob(Omnibus):        0.000         Jarque-Bera (JB):       318.734\n",
       "Skew:                 0.961         Prob(JB):               0.000  \n",
       "Kurtosis:             6.212         Condition No.:          30175  \n",
       "===================================================================\n",
       "* The condition number is large (3e+04). This might indicate\n",
       "strong multicollinearity or other numerical problems.\n",
       "\"\"\""
      ],
      "text/html": "<table class=\"simpletable\">\n<tr>\n        <td>Model:</td>               <td>OLS</td>         <td>Adj. R-squared:</td>      <td>0.633</td>  \n</tr>\n<tr>\n  <td>Dependent Variable:</td>         <td>Y</td>               <td>AIC:</td>         <td>12143.0303</td>\n</tr>\n<tr>\n         <td>Date:</td>        <td>2021-04-01 19:08</td>        <td>BIC:</td>         <td>12186.0565</td>\n</tr>\n<tr>\n   <td>No. Observations:</td>         <td>546</td>         <td>Log-Likelihood:</td>     <td>-6061.5</td> \n</tr>\n<tr>\n       <td>Df Model:</td>              <td>9</td>           <td>F-statistic:</td>        <td>105.2</td>  \n</tr>\n<tr>\n     <td>Df Residuals:</td>           <td>536</td>       <td>Prob (F-statistic):</td>  <td>2.05e-112</td>\n</tr>\n<tr>\n      <td>R-squared:</td>            <td>0.639</td>            <td>Scale:</td>        <td>2.6203e+08</td>\n</tr>\n</table>\n<table class=\"simpletable\">\n<tr>\n    <td></td>       <th>Coef.</th>   <th>Std.Err.</th>     <th>t</th>     <th>P>|t|</th>   <th>[0.025</th>      <th>0.975]</th>  \n</tr>\n<tr>\n  <th>const</th> <td>-8182.9975</td> <td>3528.8496</td> <td>-2.3189</td> <td>0.0208</td> <td>-15115.0685</td> <td>-1250.9264</td>\n</tr>\n<tr>\n  <th>D1</th>     <td>9477.8199</td> <td>2110.7939</td> <td>4.4902</td>  <td>0.0000</td>  <td>5331.3770</td>  <td>13624.2628</td>\n</tr>\n<tr>\n  <th>D2</th>     <td>4543.8866</td> <td>1990.3155</td> <td>2.2830</td>  <td>0.0228</td>  <td>634.1115</td>    <td>8453.6617</td>\n</tr>\n<tr>\n  <th>D3</th>     <td>7252.6093</td> <td>1636.0504</td> <td>4.4330</td>  <td>0.0000</td>  <td>4038.7524</td>  <td>10466.4662</td>\n</tr>\n<tr>\n  <th>D4</th>    <td>13139.1704</td> <td>3361.0809</td> <td>3.9092</td>  <td>0.0001</td>  <td>6536.6640</td>  <td>19741.6768</td>\n</tr>\n<tr>\n  <th>D5</th>    <td>13612.4566</td> <td>1624.5447</td> <td>8.3792</td>  <td>0.0000</td> <td>10421.2016</td>  <td>16803.7117</td>\n</tr>\n<tr>\n  <th>X1</th>      <td>4.3318</td>    <td>0.3493</td>   <td>12.4007</td> <td>0.0000</td>   <td>3.6456</td>      <td>5.0180</td>  \n</tr>\n<tr>\n  <th>X2</th>     <td>2348.7440</td> <td>1095.5318</td> <td>2.1439</td>  <td>0.0325</td>  <td>196.6816</td>    <td>4500.8065</td>\n</tr>\n<tr>\n  <th>X3</th>    <td>14865.4754</td> <td>1556.2249</td> <td>9.5523</td>  <td>0.0000</td> <td>11808.4276</td>  <td>17922.5232</td>\n</tr>\n<tr>\n  <th>X4</th>     <td>6371.0797</td> <td>967.8858</td>  <td>6.5825</td>  <td>0.0000</td>  <td>4469.7652</td>   <td>8272.3942</td>\n</tr>\n</table>\n<table class=\"simpletable\">\n<tr>\n     <td>Omnibus:</td>    <td>109.550</td>  <td>Durbin-Watson:</td>    <td>1.536</td> \n</tr>\n<tr>\n  <td>Prob(Omnibus):</td>  <td>0.000</td>  <td>Jarque-Bera (JB):</td> <td>318.734</td>\n</tr>\n<tr>\n       <td>Skew:</td>      <td>0.961</td>      <td>Prob(JB):</td>      <td>0.000</td> \n</tr>\n<tr>\n     <td>Kurtosis:</td>    <td>6.212</td>   <td>Condition No.:</td>    <td>30175</td> \n</tr>\n</table>"
     },
     "metadata": {},
     "execution_count": 12
    }
   ],
   "source": [
    "hprice = hprice.rename(columns = {'lot size': 'X1', '#bedroom': 'X2', '#bath': 'X3', '#stories': 'X4'})\n",
    "formula_Y_all = sm.OLS(hprice['Y'], sm.add_constant(hprice[['D1', 'D2', 'D3', 'D4', 'D5', 'X1', 'X2', 'X3', 'X4']]))\n",
    "reg_Y_all = formula_Y_all.fit()\n",
    "reg_Y_all.summary2()"
   ]
  },
  {
   "source": [
    "# Exercise 7.6\n",
    "\n",
    "Use data set HPRICE.XLS. Consider the five dummy variables, D1 to D5, and the\n",
    "four non-dummy variables, X1 to X4, discussed in Exercise 7.5.\n",
    "\n",
    "(a) Experiment with different configurations of these explanatory variables with\n",
    "some interaction terms (e.g. try including 10 explanatory variables: D1 to D5,\n",
    "X1 to X4 and an interaction term, such as, Z = D1X2)."
   ],
   "cell_type": "markdown",
   "metadata": {}
  },
  {
   "cell_type": "code",
   "execution_count": 13,
   "metadata": {},
   "outputs": [
    {
     "output_type": "execute_result",
     "data": {
      "text/plain": [
       "<class 'statsmodels.iolib.summary2.Summary'>\n",
       "\"\"\"\n",
       "                  Results: Ordinary least squares\n",
       "===================================================================\n",
       "Model:              OLS              Adj. R-squared:     0.635     \n",
       "Dependent Variable: Y                AIC:                12140.2429\n",
       "Date:               2021-04-01 19:08 BIC:                12187.5717\n",
       "No. Observations:   546              Log-Likelihood:     -6059.1   \n",
       "Df Model:           10               F-statistic:        95.83     \n",
       "Df Residuals:       535              Prob (F-statistic): 2.12e-112 \n",
       "R-squared:          0.642            Scale:              2.6023e+08\n",
       "-------------------------------------------------------------------\n",
       "           Coef.     Std.Err.    t    P>|t|     [0.025     0.975]  \n",
       "-------------------------------------------------------------------\n",
       "const     4999.5810 7017.8682  0.7124 0.4765  -8786.3755 18785.5374\n",
       "D1       -6366.8494 7596.6232 -0.8381 0.4023 -21289.7168  8556.0181\n",
       "D2        4218.6253 1989.1122  2.1209 0.0344    311.1974  8126.0532\n",
       "D3        7429.2705 1632.4452  4.5510 0.0000   4222.4821 10636.0588\n",
       "D4       13429.7558 3352.1780  4.0063 0.0001   6844.7105 20014.8012\n",
       "D5       13556.5333 1619.1540  8.3726 0.0000  10375.8543 16737.2124\n",
       "X1           4.3059    0.3483 12.3616 0.0000      3.6216     4.9901\n",
       "X2       -1980.3724 2273.6752 -0.8710 0.3841  -6446.7983  2486.0535\n",
       "X3       14759.1141 1551.6385  9.5120 0.0000  11711.0630 17807.1652\n",
       "X4        6336.2109  964.6857  6.5682 0.0000   4441.1746  8231.2472\n",
       "D1X2      5345.3506 2462.5832  2.1706 0.0304    507.8324 10182.8687\n",
       "-------------------------------------------------------------------\n",
       "Omnibus:              105.276       Durbin-Watson:          1.529  \n",
       "Prob(Omnibus):        0.000         Jarque-Bera (JB):       303.645\n",
       "Skew:                 0.927         Prob(JB):               0.000  \n",
       "Kurtosis:             6.148         Condition No.:          85168  \n",
       "===================================================================\n",
       "* The condition number is large (9e+04). This might indicate\n",
       "strong multicollinearity or other numerical problems.\n",
       "\"\"\""
      ],
      "text/html": "<table class=\"simpletable\">\n<tr>\n        <td>Model:</td>               <td>OLS</td>         <td>Adj. R-squared:</td>      <td>0.635</td>  \n</tr>\n<tr>\n  <td>Dependent Variable:</td>         <td>Y</td>               <td>AIC:</td>         <td>12140.2429</td>\n</tr>\n<tr>\n         <td>Date:</td>        <td>2021-04-01 19:08</td>        <td>BIC:</td>         <td>12187.5717</td>\n</tr>\n<tr>\n   <td>No. Observations:</td>         <td>546</td>         <td>Log-Likelihood:</td>     <td>-6059.1</td> \n</tr>\n<tr>\n       <td>Df Model:</td>             <td>10</td>           <td>F-statistic:</td>        <td>95.83</td>  \n</tr>\n<tr>\n     <td>Df Residuals:</td>           <td>535</td>       <td>Prob (F-statistic):</td>  <td>2.12e-112</td>\n</tr>\n<tr>\n      <td>R-squared:</td>            <td>0.642</td>            <td>Scale:</td>        <td>2.6023e+08</td>\n</tr>\n</table>\n<table class=\"simpletable\">\n<tr>\n    <td></td>       <th>Coef.</th>   <th>Std.Err.</th>     <th>t</th>     <th>P>|t|</th>   <th>[0.025</th>      <th>0.975]</th>  \n</tr>\n<tr>\n  <th>const</th>  <td>4999.5810</td> <td>7017.8682</td> <td>0.7124</td>  <td>0.4765</td> <td>-8786.3755</td>  <td>18785.5374</td>\n</tr>\n<tr>\n  <th>D1</th>    <td>-6366.8494</td> <td>7596.6232</td> <td>-0.8381</td> <td>0.4023</td> <td>-21289.7168</td>  <td>8556.0181</td>\n</tr>\n<tr>\n  <th>D2</th>     <td>4218.6253</td> <td>1989.1122</td> <td>2.1209</td>  <td>0.0344</td>  <td>311.1974</td>    <td>8126.0532</td>\n</tr>\n<tr>\n  <th>D3</th>     <td>7429.2705</td> <td>1632.4452</td> <td>4.5510</td>  <td>0.0000</td>  <td>4222.4821</td>  <td>10636.0588</td>\n</tr>\n<tr>\n  <th>D4</th>    <td>13429.7558</td> <td>3352.1780</td> <td>4.0063</td>  <td>0.0001</td>  <td>6844.7105</td>  <td>20014.8012</td>\n</tr>\n<tr>\n  <th>D5</th>    <td>13556.5333</td> <td>1619.1540</td> <td>8.3726</td>  <td>0.0000</td> <td>10375.8543</td>  <td>16737.2124</td>\n</tr>\n<tr>\n  <th>X1</th>      <td>4.3059</td>    <td>0.3483</td>   <td>12.3616</td> <td>0.0000</td>   <td>3.6216</td>      <td>4.9901</td>  \n</tr>\n<tr>\n  <th>X2</th>    <td>-1980.3724</td> <td>2273.6752</td> <td>-0.8710</td> <td>0.3841</td> <td>-6446.7983</td>   <td>2486.0535</td>\n</tr>\n<tr>\n  <th>X3</th>    <td>14759.1141</td> <td>1551.6385</td> <td>9.5120</td>  <td>0.0000</td> <td>11711.0630</td>  <td>17807.1652</td>\n</tr>\n<tr>\n  <th>X4</th>     <td>6336.2109</td> <td>964.6857</td>  <td>6.5682</td>  <td>0.0000</td>  <td>4441.1746</td>   <td>8231.2472</td>\n</tr>\n<tr>\n  <th>D1X2</th>   <td>5345.3506</td> <td>2462.5832</td> <td>2.1706</td>  <td>0.0304</td>  <td>507.8324</td>   <td>10182.8687</td>\n</tr>\n</table>\n<table class=\"simpletable\">\n<tr>\n     <td>Omnibus:</td>    <td>105.276</td>  <td>Durbin-Watson:</td>    <td>1.529</td> \n</tr>\n<tr>\n  <td>Prob(Omnibus):</td>  <td>0.000</td>  <td>Jarque-Bera (JB):</td> <td>303.645</td>\n</tr>\n<tr>\n       <td>Skew:</td>      <td>0.927</td>      <td>Prob(JB):</td>      <td>0.000</td> \n</tr>\n<tr>\n     <td>Kurtosis:</td>    <td>6.148</td>   <td>Condition No.:</td>    <td>85168</td> \n</tr>\n</table>"
     },
     "metadata": {},
     "execution_count": 13
    }
   ],
   "source": [
    "hprice['D1X2'] = hprice['D1']*hprice['X2']\n",
    "reg_inter = sm.OLS(hprice['Y'], sm.add_constant(hprice[['D1', 'D2', 'D3', 'D4', 'D5', 'X1', 'X2', 'X3', 'X4', 'D1X2']]))\n",
    "reg_inter_fit = reg_inter.fit()\n",
    "reg_inter_fit.summary2()"
   ]
  },
  {
   "source": [
    "Using R-style regression model formulas."
   ],
   "cell_type": "markdown",
   "metadata": {}
  },
  {
   "cell_type": "code",
   "execution_count": 14,
   "metadata": {},
   "outputs": [
    {
     "output_type": "execute_result",
     "data": {
      "text/plain": [
       "<class 'statsmodels.iolib.summary2.Summary'>\n",
       "\"\"\"\n",
       "                  Results: Ordinary least squares\n",
       "====================================================================\n",
       "Model:               OLS              Adj. R-squared:     0.635     \n",
       "Dependent Variable:  Y                AIC:                12140.2429\n",
       "Date:                2021-04-01 19:08 BIC:                12187.5717\n",
       "No. Observations:    546              Log-Likelihood:     -6059.1   \n",
       "Df Model:            10               F-statistic:        95.83     \n",
       "Df Residuals:        535              Prob (F-statistic): 2.12e-112 \n",
       "R-squared:           0.642            Scale:              2.6023e+08\n",
       "--------------------------------------------------------------------\n",
       "            Coef.     Std.Err.    t    P>|t|     [0.025     0.975]  \n",
       "--------------------------------------------------------------------\n",
       "Intercept  4999.5810 7017.8682  0.7124 0.4765  -8786.3755 18785.5374\n",
       "D1        -6366.8494 7596.6232 -0.8381 0.4023 -21289.7168  8556.0181\n",
       "D2         4218.6253 1989.1122  2.1209 0.0344    311.1974  8126.0532\n",
       "D3         7429.2705 1632.4452  4.5510 0.0000   4222.4821 10636.0588\n",
       "D4        13429.7558 3352.1780  4.0063 0.0001   6844.7105 20014.8012\n",
       "D5        13556.5333 1619.1540  8.3726 0.0000  10375.8543 16737.2124\n",
       "X1            4.3059    0.3483 12.3616 0.0000      3.6216     4.9901\n",
       "X2        -1980.3724 2273.6752 -0.8710 0.3841  -6446.7983  2486.0535\n",
       "X3        14759.1141 1551.6385  9.5120 0.0000  11711.0630 17807.1652\n",
       "X4         6336.2109  964.6857  6.5682 0.0000   4441.1746  8231.2472\n",
       "D1:X2      5345.3506 2462.5832  2.1706 0.0304    507.8324 10182.8687\n",
       "--------------------------------------------------------------------\n",
       "Omnibus:               105.276       Durbin-Watson:          1.529  \n",
       "Prob(Omnibus):         0.000         Jarque-Bera (JB):       303.645\n",
       "Skew:                  0.927         Prob(JB):               0.000  \n",
       "Kurtosis:              6.148         Condition No.:          85168  \n",
       "====================================================================\n",
       "* The condition number is large (9e+04). This might indicate\n",
       "strong multicollinearity or other numerical problems.\n",
       "\"\"\""
      ],
      "text/html": "<table class=\"simpletable\">\n<tr>\n        <td>Model:</td>               <td>OLS</td>         <td>Adj. R-squared:</td>      <td>0.635</td>  \n</tr>\n<tr>\n  <td>Dependent Variable:</td>         <td>Y</td>               <td>AIC:</td>         <td>12140.2429</td>\n</tr>\n<tr>\n         <td>Date:</td>        <td>2021-04-01 19:08</td>        <td>BIC:</td>         <td>12187.5717</td>\n</tr>\n<tr>\n   <td>No. Observations:</td>         <td>546</td>         <td>Log-Likelihood:</td>     <td>-6059.1</td> \n</tr>\n<tr>\n       <td>Df Model:</td>             <td>10</td>           <td>F-statistic:</td>        <td>95.83</td>  \n</tr>\n<tr>\n     <td>Df Residuals:</td>           <td>535</td>       <td>Prob (F-statistic):</td>  <td>2.12e-112</td>\n</tr>\n<tr>\n      <td>R-squared:</td>            <td>0.642</td>            <td>Scale:</td>        <td>2.6023e+08</td>\n</tr>\n</table>\n<table class=\"simpletable\">\n<tr>\n      <td></td>         <th>Coef.</th>   <th>Std.Err.</th>     <th>t</th>     <th>P>|t|</th>   <th>[0.025</th>      <th>0.975]</th>  \n</tr>\n<tr>\n  <th>Intercept</th>  <td>4999.5810</td> <td>7017.8682</td> <td>0.7124</td>  <td>0.4765</td> <td>-8786.3755</td>  <td>18785.5374</td>\n</tr>\n<tr>\n  <th>D1</th>        <td>-6366.8494</td> <td>7596.6232</td> <td>-0.8381</td> <td>0.4023</td> <td>-21289.7168</td>  <td>8556.0181</td>\n</tr>\n<tr>\n  <th>D2</th>         <td>4218.6253</td> <td>1989.1122</td> <td>2.1209</td>  <td>0.0344</td>  <td>311.1974</td>    <td>8126.0532</td>\n</tr>\n<tr>\n  <th>D3</th>         <td>7429.2705</td> <td>1632.4452</td> <td>4.5510</td>  <td>0.0000</td>  <td>4222.4821</td>  <td>10636.0588</td>\n</tr>\n<tr>\n  <th>D4</th>        <td>13429.7558</td> <td>3352.1780</td> <td>4.0063</td>  <td>0.0001</td>  <td>6844.7105</td>  <td>20014.8012</td>\n</tr>\n<tr>\n  <th>D5</th>        <td>13556.5333</td> <td>1619.1540</td> <td>8.3726</td>  <td>0.0000</td> <td>10375.8543</td>  <td>16737.2124</td>\n</tr>\n<tr>\n  <th>X1</th>          <td>4.3059</td>    <td>0.3483</td>   <td>12.3616</td> <td>0.0000</td>   <td>3.6216</td>      <td>4.9901</td>  \n</tr>\n<tr>\n  <th>X2</th>        <td>-1980.3724</td> <td>2273.6752</td> <td>-0.8710</td> <td>0.3841</td> <td>-6446.7983</td>   <td>2486.0535</td>\n</tr>\n<tr>\n  <th>X3</th>        <td>14759.1141</td> <td>1551.6385</td> <td>9.5120</td>  <td>0.0000</td> <td>11711.0630</td>  <td>17807.1652</td>\n</tr>\n<tr>\n  <th>X4</th>         <td>6336.2109</td> <td>964.6857</td>  <td>6.5682</td>  <td>0.0000</td>  <td>4441.1746</td>   <td>8231.2472</td>\n</tr>\n<tr>\n  <th>D1:X2</th>      <td>5345.3506</td> <td>2462.5832</td> <td>2.1706</td>  <td>0.0304</td>  <td>507.8324</td>   <td>10182.8687</td>\n</tr>\n</table>\n<table class=\"simpletable\">\n<tr>\n     <td>Omnibus:</td>    <td>105.276</td>  <td>Durbin-Watson:</td>    <td>1.529</td> \n</tr>\n<tr>\n  <td>Prob(Omnibus):</td>  <td>0.000</td>  <td>Jarque-Bera (JB):</td> <td>303.645</td>\n</tr>\n<tr>\n       <td>Skew:</td>      <td>0.927</td>      <td>Prob(JB):</td>      <td>0.000</td> \n</tr>\n<tr>\n     <td>Kurtosis:</td>    <td>6.148</td>   <td>Condition No.:</td>    <td>85168</td> \n</tr>\n</table>"
     },
     "metadata": {},
     "execution_count": 14
    }
   ],
   "source": [
    "import statsmodels.formula.api as smf\n",
    "reg_inter = smf.ols(formula = 'Y ~ D1 + D2 + D3 + D4 + D5 + X1 + X2 + X3 + X4 + D1*X2', data = hprice)\n",
    "reg_inter_fit = reg_inter.fit()\n",
    "reg_inter_fit.summary2()"
   ]
  },
  {
   "source": [
    "(b) Discuss which variables are statistically significant."
   ],
   "cell_type": "markdown",
   "metadata": {}
  },
  {
   "cell_type": "code",
   "execution_count": 15,
   "metadata": {},
   "outputs": [
    {
     "output_type": "execute_result",
     "data": {
      "text/plain": [
       "Intercept     True\n",
       "D1            True\n",
       "D2           False\n",
       "D3           False\n",
       "D4           False\n",
       "D5           False\n",
       "X1           False\n",
       "X2            True\n",
       "X3           False\n",
       "X4           False\n",
       "D1:X2        False\n",
       "dtype: bool"
      ]
     },
     "metadata": {},
     "execution_count": 15
    }
   ],
   "source": [
    "reg_inter_fit.pvalues > 0.05"
   ]
  },
  {
   "source": [
    "(c) Which of the characteristics measured by the dummies has the largest effect\n",
    "on housing prices?"
   ],
   "cell_type": "markdown",
   "metadata": {}
  },
  {
   "cell_type": "code",
   "execution_count": 16,
   "metadata": {},
   "outputs": [
    {
     "output_type": "stream",
     "name": "stdout",
     "text": [
      "D5 13556.533323792208\n"
     ]
    }
   ],
   "source": [
    "params = reg_inter_fit.params\n",
    "params2 = params[['D1', 'D2', 'D3', 'D4', 'D5']]\n",
    "print(params2.idxmax(), params2.max())"
   ]
  },
  {
   "source": [
    "(d) Choose particular configurations of the dummy variables (e.g. one indicating\n",
    "a house with a driveway, no recreation room, a basement, no gas central\n",
    "heating and no air conditioner) and write out the formula for the regression\n",
    "line."
   ],
   "cell_type": "markdown",
   "metadata": {}
  },
  {
   "cell_type": "code",
   "execution_count": 17,
   "metadata": {},
   "outputs": [
    {
     "output_type": "execute_result",
     "data": {
      "text/plain": [
       "6062.002073573076"
      ]
     },
     "metadata": {},
     "execution_count": 17
    }
   ],
   "source": [
    "params3 = params[['Intercept', 'D1', 'D3']]\n",
    "sum(params3)"
   ]
  },
  {
   "cell_type": "markdown",
   "metadata": {},
   "source": [
    "# Exercise 7.7\n",
    "WAGEDISC.XLS contains data on N = 100 employees in a particular occupation.\n",
    "Suppose that interest centers on investigating the factors that explain salary differences\n",
    "with a view to addressing the issue of sex discrimination in this occupation.\n",
    "The data set contains the following variables:\n",
    "* Y = salary (measured in thousands of dollars)\n",
    "* X1 = education level (measured in years of schooling)\n",
    "* X2 = experience level (measured in years of employment)\n",
    "* D = sex (1 for male, 0 for female).\n",
    "\n",
    "(a) Calculate and discuss descriptive statistics for this data set. For instance, what\n",
    "is the mean salary?"
   ]
  },
  {
   "cell_type": "code",
   "execution_count": 18,
   "metadata": {},
   "outputs": [
    {
     "output_type": "execute_result",
     "data": {
      "text/plain": [
       "                Y          X1          X2           D\n",
       "count  100.000000  100.000000  100.000000  100.000000\n",
       "mean    22.410165    2.880000    1.190000    0.310000\n",
       "std      2.663674    3.568323    2.364275    0.464823\n",
       "min     16.812000    0.000000    0.000000    0.000000\n",
       "25%     20.810850    0.000000    0.000000    0.000000\n",
       "50%     21.862850    2.000000    0.000000    0.000000\n",
       "75%     23.644625    4.000000    1.000000    1.000000\n",
       "max     32.359500   20.000000   15.000000    1.000000"
      ],
      "text/html": "<div>\n<style scoped>\n    .dataframe tbody tr th:only-of-type {\n        vertical-align: middle;\n    }\n\n    .dataframe tbody tr th {\n        vertical-align: top;\n    }\n\n    .dataframe thead th {\n        text-align: right;\n    }\n</style>\n<table border=\"1\" class=\"dataframe\">\n  <thead>\n    <tr style=\"text-align: right;\">\n      <th></th>\n      <th>Y</th>\n      <th>X1</th>\n      <th>X2</th>\n      <th>D</th>\n    </tr>\n  </thead>\n  <tbody>\n    <tr>\n      <th>count</th>\n      <td>100.000000</td>\n      <td>100.000000</td>\n      <td>100.000000</td>\n      <td>100.000000</td>\n    </tr>\n    <tr>\n      <th>mean</th>\n      <td>22.410165</td>\n      <td>2.880000</td>\n      <td>1.190000</td>\n      <td>0.310000</td>\n    </tr>\n    <tr>\n      <th>std</th>\n      <td>2.663674</td>\n      <td>3.568323</td>\n      <td>2.364275</td>\n      <td>0.464823</td>\n    </tr>\n    <tr>\n      <th>min</th>\n      <td>16.812000</td>\n      <td>0.000000</td>\n      <td>0.000000</td>\n      <td>0.000000</td>\n    </tr>\n    <tr>\n      <th>25%</th>\n      <td>20.810850</td>\n      <td>0.000000</td>\n      <td>0.000000</td>\n      <td>0.000000</td>\n    </tr>\n    <tr>\n      <th>50%</th>\n      <td>21.862850</td>\n      <td>2.000000</td>\n      <td>0.000000</td>\n      <td>0.000000</td>\n    </tr>\n    <tr>\n      <th>75%</th>\n      <td>23.644625</td>\n      <td>4.000000</td>\n      <td>1.000000</td>\n      <td>1.000000</td>\n    </tr>\n    <tr>\n      <th>max</th>\n      <td>32.359500</td>\n      <td>20.000000</td>\n      <td>15.000000</td>\n      <td>1.000000</td>\n    </tr>\n  </tbody>\n</table>\n</div>"
     },
     "metadata": {},
     "execution_count": 18
    }
   ],
   "source": [
    "wagedisc = pd.read_excel(r'datasets\\WAGEDISC.xls').drop([0]).reset_index().drop(['index', 'Unnamed: 0'], axis = 1).astype(float)\n",
    "wagedisc = wagedisc.rename(columns = {'Salary': 'Y', 'Education': 'X1', 'Experience': 'X2', 'Sex': 'D'})\n",
    "wagedisc.describe()"
   ]
  },
  {
   "source": [
    "(b) Calculate the mean salary for female employees and male employees separately.\n",
    "Compare."
   ],
   "cell_type": "markdown",
   "metadata": {}
  },
  {
   "cell_type": "code",
   "execution_count": 19,
   "metadata": {},
   "outputs": [
    {
     "output_type": "execute_result",
     "data": {
      "text/plain": [
       "           Y        X1        X2    D\n",
       "0  21.643083  2.739130  0.173913  0.0\n",
       "1  24.117542  3.193548  3.451613  1.0"
      ],
      "text/html": "<div>\n<style scoped>\n    .dataframe tbody tr th:only-of-type {\n        vertical-align: middle;\n    }\n\n    .dataframe tbody tr th {\n        vertical-align: top;\n    }\n\n    .dataframe thead th {\n        text-align: right;\n    }\n</style>\n<table border=\"1\" class=\"dataframe\">\n  <thead>\n    <tr style=\"text-align: right;\">\n      <th></th>\n      <th>Y</th>\n      <th>X1</th>\n      <th>X2</th>\n      <th>D</th>\n    </tr>\n  </thead>\n  <tbody>\n    <tr>\n      <th>0</th>\n      <td>21.643083</td>\n      <td>2.739130</td>\n      <td>0.173913</td>\n      <td>0.0</td>\n    </tr>\n    <tr>\n      <th>1</th>\n      <td>24.117542</td>\n      <td>3.193548</td>\n      <td>3.451613</td>\n      <td>1.0</td>\n    </tr>\n  </tbody>\n</table>\n</div>"
     },
     "metadata": {},
     "execution_count": 19
    }
   ],
   "source": [
    "pd.DataFrame([wagedisc[wagedisc['D'] == 0].mean(), wagedisc[wagedisc['D'] == 1].mean()])"
   ]
  },
  {
   "source": [
    "(c) Run a simple regression of Y on D. Is the slope coefficient in this regression\n",
    "statistically significant? Compare your regression result with your finding in\n",
    "part (b). Can you use these findings to conclude that women are discriminated\n",
    "against in this occupation?"
   ],
   "cell_type": "markdown",
   "metadata": {}
  },
  {
   "cell_type": "code",
   "execution_count": 20,
   "metadata": {},
   "outputs": [
    {
     "output_type": "execute_result",
     "data": {
      "text/plain": [
       "<class 'statsmodels.iolib.summary2.Summary'>\n",
       "\"\"\"\n",
       "                 Results: Ordinary least squares\n",
       "=================================================================\n",
       "Model:              OLS              Adj. R-squared:     0.178   \n",
       "Dependent Variable: Y                AIC:                462.0885\n",
       "Date:               2021-04-01 19:08 BIC:                467.2989\n",
       "No. Observations:   100              Log-Likelihood:     -229.04 \n",
       "Df Model:           1                F-statistic:        22.46   \n",
       "Df Residuals:       98               Prob (F-statistic): 7.27e-06\n",
       "R-squared:          0.186            Scale:              5.8311  \n",
       "------------------------------------------------------------------\n",
       "               Coef.   Std.Err.     t     P>|t|    [0.025   0.975]\n",
       "------------------------------------------------------------------\n",
       "Intercept     21.6431    0.2907  74.4504  0.0000  21.0662  22.2200\n",
       "D              2.4745    0.5221   4.7392  0.0000   1.4383   3.5106\n",
       "-----------------------------------------------------------------\n",
       "Omnibus:              19.262       Durbin-Watson:          1.970 \n",
       "Prob(Omnibus):        0.000        Jarque-Bera (JB):       25.762\n",
       "Skew:                 0.944        Prob(JB):               0.000 \n",
       "Kurtosis:             4.619        Condition No.:          2     \n",
       "=================================================================\n",
       "\n",
       "\"\"\""
      ],
      "text/html": "<table class=\"simpletable\">\n<tr>\n        <td>Model:</td>               <td>OLS</td>         <td>Adj. R-squared:</td>     <td>0.178</td> \n</tr>\n<tr>\n  <td>Dependent Variable:</td>         <td>Y</td>               <td>AIC:</td>         <td>462.0885</td>\n</tr>\n<tr>\n         <td>Date:</td>        <td>2021-04-01 19:08</td>        <td>BIC:</td>         <td>467.2989</td>\n</tr>\n<tr>\n   <td>No. Observations:</td>         <td>100</td>         <td>Log-Likelihood:</td>    <td>-229.04</td>\n</tr>\n<tr>\n       <td>Df Model:</td>              <td>1</td>           <td>F-statistic:</td>       <td>22.46</td> \n</tr>\n<tr>\n     <td>Df Residuals:</td>           <td>98</td>        <td>Prob (F-statistic):</td> <td>7.27e-06</td>\n</tr>\n<tr>\n      <td>R-squared:</td>            <td>0.186</td>            <td>Scale:</td>         <td>5.8311</td> \n</tr>\n</table>\n<table class=\"simpletable\">\n<tr>\n      <td></td>       <th>Coef.</th>  <th>Std.Err.</th>    <th>t</th>     <th>P>|t|</th> <th>[0.025</th>  <th>0.975]</th> \n</tr>\n<tr>\n  <th>Intercept</th> <td>21.6431</td>  <td>0.2907</td>  <td>74.4504</td> <td>0.0000</td> <td>21.0662</td> <td>22.2200</td>\n</tr>\n<tr>\n  <th>D</th>         <td>2.4745</td>   <td>0.5221</td>  <td>4.7392</td>  <td>0.0000</td> <td>1.4383</td>  <td>3.5106</td> \n</tr>\n</table>\n<table class=\"simpletable\">\n<tr>\n     <td>Omnibus:</td>    <td>19.262</td>  <td>Durbin-Watson:</td>    <td>1.970</td>\n</tr>\n<tr>\n  <td>Prob(Omnibus):</td>  <td>0.000</td> <td>Jarque-Bera (JB):</td> <td>25.762</td>\n</tr>\n<tr>\n       <td>Skew:</td>      <td>0.944</td>     <td>Prob(JB):</td>      <td>0.000</td>\n</tr>\n<tr>\n     <td>Kurtosis:</td>    <td>4.619</td>  <td>Condition No.:</td>      <td>2</td>  \n</tr>\n</table>"
     },
     "metadata": {},
     "execution_count": 20
    }
   ],
   "source": [
    "reg_Y_D = smf.ols(formula = 'Y ~ D', data = wagedisc)\n",
    "reg_Y_D_fit = reg_Y_D.fit()\n",
    "reg_Y_D_fit.summary2()"
   ]
  },
  {
   "source": [
    "(d) Run a multiple regression of Y on X1, X2 and D. Write a short report outlining\n",
    "your findings and addressing the issue of wage discrimination in this\n",
    "occupation. Are your results statistically significant?"
   ],
   "cell_type": "markdown",
   "metadata": {}
  },
  {
   "cell_type": "code",
   "execution_count": 21,
   "metadata": {},
   "outputs": [
    {
     "output_type": "execute_result",
     "data": {
      "text/plain": [
       "<class 'statsmodels.iolib.summary2.Summary'>\n",
       "\"\"\"\n",
       "                 Results: Ordinary least squares\n",
       "=================================================================\n",
       "Model:              OLS              Adj. R-squared:     0.858   \n",
       "Dependent Variable: Y                AIC:                288.5270\n",
       "Date:               2021-04-01 19:08 BIC:                298.9477\n",
       "No. Observations:   100              Log-Likelihood:     -140.26 \n",
       "Df Model:           3                F-statistic:        200.2   \n",
       "Df Residuals:       96               Prob (F-statistic): 3.54e-41\n",
       "R-squared:          0.862            Scale:              1.0082  \n",
       "------------------------------------------------------------------\n",
       "              Coef.   Std.Err.     t      P>|t|    [0.025   0.975]\n",
       "------------------------------------------------------------------\n",
       "Intercept    20.1276    0.1445  139.3310  0.0000  19.8409  20.4144\n",
       "D            -0.2669    0.2851   -0.9361  0.3516  -0.8328   0.2990\n",
       "X1            0.5046    0.0284   17.7652  0.0000   0.4482   0.5610\n",
       "X2            0.7664    0.0560   13.6950  0.0000   0.6553   0.8775\n",
       "-----------------------------------------------------------------\n",
       "Omnibus:               1.177        Durbin-Watson:          1.995\n",
       "Prob(Omnibus):         0.555        Jarque-Bera (JB):       0.869\n",
       "Skew:                  -0.225       Prob(JB):               0.648\n",
       "Kurtosis:              3.079        Condition No.:          14   \n",
       "=================================================================\n",
       "\n",
       "\"\"\""
      ],
      "text/html": "<table class=\"simpletable\">\n<tr>\n        <td>Model:</td>               <td>OLS</td>         <td>Adj. R-squared:</td>     <td>0.858</td> \n</tr>\n<tr>\n  <td>Dependent Variable:</td>         <td>Y</td>               <td>AIC:</td>         <td>288.5270</td>\n</tr>\n<tr>\n         <td>Date:</td>        <td>2021-04-01 19:08</td>        <td>BIC:</td>         <td>298.9477</td>\n</tr>\n<tr>\n   <td>No. Observations:</td>         <td>100</td>         <td>Log-Likelihood:</td>    <td>-140.26</td>\n</tr>\n<tr>\n       <td>Df Model:</td>              <td>3</td>           <td>F-statistic:</td>       <td>200.2</td> \n</tr>\n<tr>\n     <td>Df Residuals:</td>           <td>96</td>        <td>Prob (F-statistic):</td> <td>3.54e-41</td>\n</tr>\n<tr>\n      <td>R-squared:</td>            <td>0.862</td>            <td>Scale:</td>         <td>1.0082</td> \n</tr>\n</table>\n<table class=\"simpletable\">\n<tr>\n      <td></td>       <th>Coef.</th>  <th>Std.Err.</th>     <th>t</th>     <th>P>|t|</th> <th>[0.025</th>  <th>0.975]</th> \n</tr>\n<tr>\n  <th>Intercept</th> <td>20.1276</td>  <td>0.1445</td>  <td>139.3310</td> <td>0.0000</td> <td>19.8409</td> <td>20.4144</td>\n</tr>\n<tr>\n  <th>D</th>         <td>-0.2669</td>  <td>0.2851</td>   <td>-0.9361</td> <td>0.3516</td> <td>-0.8328</td> <td>0.2990</td> \n</tr>\n<tr>\n  <th>X1</th>        <td>0.5046</td>   <td>0.0284</td>   <td>17.7652</td> <td>0.0000</td> <td>0.4482</td>  <td>0.5610</td> \n</tr>\n<tr>\n  <th>X2</th>        <td>0.7664</td>   <td>0.0560</td>   <td>13.6950</td> <td>0.0000</td> <td>0.6553</td>  <td>0.8775</td> \n</tr>\n</table>\n<table class=\"simpletable\">\n<tr>\n     <td>Omnibus:</td>     <td>1.177</td>  <td>Durbin-Watson:</td>   <td>1.995</td>\n</tr>\n<tr>\n  <td>Prob(Omnibus):</td>  <td>0.555</td> <td>Jarque-Bera (JB):</td> <td>0.869</td>\n</tr>\n<tr>\n       <td>Skew:</td>     <td>-0.225</td>     <td>Prob(JB):</td>     <td>0.648</td>\n</tr>\n<tr>\n     <td>Kurtosis:</td>    <td>3.079</td>  <td>Condition No.:</td>    <td>14</td>  \n</tr>\n</table>"
     },
     "metadata": {},
     "execution_count": 21
    }
   ],
   "source": [
    "reg_Y_D_X1_X2 = smf.ols(formula = 'Y ~ D + X1 + X2', data = wagedisc)\n",
    "reg_Y_D_X1_X2_fit = reg_Y_D_X1_X2.fit()\n",
    "reg_Y_D_X1_X2_fit.summary2()"
   ]
  },
  {
   "source": [
    "(e) Compare your results in part (d) to the results in part (c). Why do they differ?\n",
    "Hint: Calculate a correlation matrix for all the explanatory variables and think\n",
    "intuitively about what the correlations mean."
   ],
   "cell_type": "markdown",
   "metadata": {}
  },
  {
   "cell_type": "code",
   "execution_count": 23,
   "metadata": {},
   "outputs": [
    {
     "output_type": "display_data",
     "data": {
      "text/plain": "<Figure size 432x288 with 2 Axes>",
      "image/svg+xml": "<?xml version=\"1.0\" encoding=\"utf-8\" standalone=\"no\"?>\r\n<!DOCTYPE svg PUBLIC \"-//W3C//DTD SVG 1.1//EN\"\r\n  \"http://www.w3.org/Graphics/SVG/1.1/DTD/svg11.dtd\">\r\n<!-- Created with matplotlib (https://matplotlib.org/) -->\r\n<svg height=\"252.317344pt\" version=\"1.1\" viewBox=\"0 0 349.43325 252.317344\" width=\"349.43325pt\" xmlns=\"http://www.w3.org/2000/svg\" xmlns:xlink=\"http://www.w3.org/1999/xlink\">\r\n <defs>\r\n  <style type=\"text/css\">\r\n*{stroke-linecap:butt;stroke-linejoin:round;}\r\n  </style>\r\n </defs>\r\n <g id=\"figure_1\">\r\n  <g id=\"patch_1\">\r\n   <path d=\"M -0 252.317344 \r\nL 349.43325 252.317344 \r\nL 349.43325 0 \r\nL -0 0 \r\nz\r\n\" style=\"fill:none;\"/>\r\n  </g>\r\n  <g id=\"axes_1\">\r\n   <g id=\"patch_2\">\r\n    <path d=\"M 23.878125 228.439219 \r\nL 291.718125 228.439219 \r\nL 291.718125 10.999219 \r\nL 23.878125 10.999219 \r\nz\r\n\" style=\"fill:#ffffff;\"/>\r\n   </g>\r\n   <g id=\"QuadMesh_1\">\r\n    <path clip-path=\"url(#pcfc67deb40)\" d=\"M 23.878125 10.999219 \r\nL 113.158125 10.999219 \r\nL 113.158125 83.479219 \r\nL 23.878125 83.479219 \r\nL 23.878125 10.999219 \r\n\" style=\"fill:#081d58;\"/>\r\n    <path clip-path=\"url(#pcfc67deb40)\" d=\"M 113.158125 10.999219 \r\nL 202.438125 10.999219 \r\nL 202.438125 83.479219 \r\nL 113.158125 83.479219 \r\nL 113.158125 10.999219 \r\n\" style=\"fill:#ffffd9;\"/>\r\n    <path clip-path=\"url(#pcfc67deb40)\" d=\"M 202.438125 10.999219 \r\nL 291.718125 10.999219 \r\nL 291.718125 83.479219 \r\nL 202.438125 83.479219 \r\nL 202.438125 10.999219 \r\n\" style=\"fill:#f4fbc1;\"/>\r\n    <path clip-path=\"url(#pcfc67deb40)\" d=\"M 23.878125 83.479219 \r\nL 113.158125 83.479219 \r\nL 113.158125 155.959219 \r\nL 23.878125 155.959219 \r\nL 23.878125 83.479219 \r\n\" style=\"fill:#ffffd9;\"/>\r\n    <path clip-path=\"url(#pcfc67deb40)\" d=\"M 113.158125 83.479219 \r\nL 202.438125 83.479219 \r\nL 202.438125 155.959219 \r\nL 113.158125 155.959219 \r\nL 113.158125 83.479219 \r\n\" style=\"fill:#081d58;\"/>\r\n    <path clip-path=\"url(#pcfc67deb40)\" d=\"M 202.438125 83.479219 \r\nL 291.718125 83.479219 \r\nL 291.718125 155.959219 \r\nL 202.438125 155.959219 \r\nL 202.438125 83.479219 \r\n\" style=\"fill:#1e86bb;\"/>\r\n    <path clip-path=\"url(#pcfc67deb40)\" d=\"M 23.878125 155.959219 \r\nL 113.158125 155.959219 \r\nL 113.158125 228.439219 \r\nL 23.878125 228.439219 \r\nL 23.878125 155.959219 \r\n\" style=\"fill:#f4fbc1;\"/>\r\n    <path clip-path=\"url(#pcfc67deb40)\" d=\"M 113.158125 155.959219 \r\nL 202.438125 155.959219 \r\nL 202.438125 228.439219 \r\nL 113.158125 228.439219 \r\nL 113.158125 155.959219 \r\n\" style=\"fill:#1e86bb;\"/>\r\n    <path clip-path=\"url(#pcfc67deb40)\" d=\"M 202.438125 155.959219 \r\nL 291.718125 155.959219 \r\nL 291.718125 228.439219 \r\nL 202.438125 228.439219 \r\nL 202.438125 155.959219 \r\n\" style=\"fill:#081d58;\"/>\r\n   </g>\r\n   <g id=\"matplotlib.axis_1\">\r\n    <g id=\"xtick_1\">\r\n     <g id=\"line2d_1\">\r\n      <defs>\r\n       <path d=\"M 0 0 \r\nL 0 3.5 \r\n\" id=\"mbefc45229f\" style=\"stroke:#000000;stroke-width:0.8;\"/>\r\n      </defs>\r\n      <g>\r\n       <use style=\"stroke:#000000;stroke-width:0.8;\" x=\"68.518125\" xlink:href=\"#mbefc45229f\" y=\"228.439219\"/>\r\n      </g>\r\n     </g>\r\n     <g id=\"text_1\">\r\n      <!-- X1 -->\r\n      <defs>\r\n       <path d=\"M 6.296875 72.90625 \r\nL 16.890625 72.90625 \r\nL 35.015625 45.796875 \r\nL 53.21875 72.90625 \r\nL 63.8125 72.90625 \r\nL 40.375 37.890625 \r\nL 65.375 0 \r\nL 54.78125 0 \r\nL 34.28125 31 \r\nL 13.625 0 \r\nL 2.984375 0 \r\nL 29 38.921875 \r\nz\r\n\" id=\"DejaVuSans-88\"/>\r\n       <path d=\"M 12.40625 8.296875 \r\nL 28.515625 8.296875 \r\nL 28.515625 63.921875 \r\nL 10.984375 60.40625 \r\nL 10.984375 69.390625 \r\nL 28.421875 72.90625 \r\nL 38.28125 72.90625 \r\nL 38.28125 8.296875 \r\nL 54.390625 8.296875 \r\nL 54.390625 0 \r\nL 12.40625 0 \r\nz\r\n\" id=\"DejaVuSans-49\"/>\r\n      </defs>\r\n      <g transform=\"translate(61.911875 243.037656)scale(0.1 -0.1)\">\r\n       <use xlink:href=\"#DejaVuSans-88\"/>\r\n       <use x=\"68.505859\" xlink:href=\"#DejaVuSans-49\"/>\r\n      </g>\r\n     </g>\r\n    </g>\r\n    <g id=\"xtick_2\">\r\n     <g id=\"line2d_2\">\r\n      <g>\r\n       <use style=\"stroke:#000000;stroke-width:0.8;\" x=\"157.798125\" xlink:href=\"#mbefc45229f\" y=\"228.439219\"/>\r\n      </g>\r\n     </g>\r\n     <g id=\"text_2\">\r\n      <!-- X2 -->\r\n      <defs>\r\n       <path d=\"M 19.1875 8.296875 \r\nL 53.609375 8.296875 \r\nL 53.609375 0 \r\nL 7.328125 0 \r\nL 7.328125 8.296875 \r\nQ 12.9375 14.109375 22.625 23.890625 \r\nQ 32.328125 33.6875 34.8125 36.53125 \r\nQ 39.546875 41.84375 41.421875 45.53125 \r\nQ 43.3125 49.21875 43.3125 52.78125 \r\nQ 43.3125 58.59375 39.234375 62.25 \r\nQ 35.15625 65.921875 28.609375 65.921875 \r\nQ 23.96875 65.921875 18.8125 64.3125 \r\nQ 13.671875 62.703125 7.8125 59.421875 \r\nL 7.8125 69.390625 \r\nQ 13.765625 71.78125 18.9375 73 \r\nQ 24.125 74.21875 28.421875 74.21875 \r\nQ 39.75 74.21875 46.484375 68.546875 \r\nQ 53.21875 62.890625 53.21875 53.421875 \r\nQ 53.21875 48.921875 51.53125 44.890625 \r\nQ 49.859375 40.875 45.40625 35.40625 \r\nQ 44.1875 33.984375 37.640625 27.21875 \r\nQ 31.109375 20.453125 19.1875 8.296875 \r\nz\r\n\" id=\"DejaVuSans-50\"/>\r\n      </defs>\r\n      <g transform=\"translate(151.191875 243.037656)scale(0.1 -0.1)\">\r\n       <use xlink:href=\"#DejaVuSans-88\"/>\r\n       <use x=\"68.505859\" xlink:href=\"#DejaVuSans-50\"/>\r\n      </g>\r\n     </g>\r\n    </g>\r\n    <g id=\"xtick_3\">\r\n     <g id=\"line2d_3\">\r\n      <g>\r\n       <use style=\"stroke:#000000;stroke-width:0.8;\" x=\"247.078125\" xlink:href=\"#mbefc45229f\" y=\"228.439219\"/>\r\n      </g>\r\n     </g>\r\n     <g id=\"text_3\">\r\n      <!-- D -->\r\n      <defs>\r\n       <path d=\"M 19.671875 64.796875 \r\nL 19.671875 8.109375 \r\nL 31.59375 8.109375 \r\nQ 46.6875 8.109375 53.6875 14.9375 \r\nQ 60.6875 21.78125 60.6875 36.53125 \r\nQ 60.6875 51.171875 53.6875 57.984375 \r\nQ 46.6875 64.796875 31.59375 64.796875 \r\nz\r\nM 9.8125 72.90625 \r\nL 30.078125 72.90625 \r\nQ 51.265625 72.90625 61.171875 64.09375 \r\nQ 71.09375 55.28125 71.09375 36.53125 \r\nQ 71.09375 17.671875 61.125 8.828125 \r\nQ 51.171875 0 30.078125 0 \r\nL 9.8125 0 \r\nz\r\n\" id=\"DejaVuSans-68\"/>\r\n      </defs>\r\n      <g transform=\"translate(243.228125 243.037656)scale(0.1 -0.1)\">\r\n       <use xlink:href=\"#DejaVuSans-68\"/>\r\n      </g>\r\n     </g>\r\n    </g>\r\n   </g>\r\n   <g id=\"matplotlib.axis_2\">\r\n    <g id=\"ytick_1\">\r\n     <g id=\"line2d_4\">\r\n      <defs>\r\n       <path d=\"M 0 0 \r\nL -3.5 0 \r\n\" id=\"m5d1be9d19c\" style=\"stroke:#000000;stroke-width:0.8;\"/>\r\n      </defs>\r\n      <g>\r\n       <use style=\"stroke:#000000;stroke-width:0.8;\" x=\"23.878125\" xlink:href=\"#m5d1be9d19c\" y=\"47.239219\"/>\r\n      </g>\r\n     </g>\r\n     <g id=\"text_4\">\r\n      <!-- X1 -->\r\n      <g transform=\"translate(14.798438 56.6525)rotate(-90)scale(0.1 -0.1)\">\r\n       <use xlink:href=\"#DejaVuSans-88\"/>\r\n       <use x=\"68.505859\" xlink:href=\"#DejaVuSans-49\"/>\r\n      </g>\r\n     </g>\r\n    </g>\r\n    <g id=\"ytick_2\">\r\n     <g id=\"line2d_5\">\r\n      <g>\r\n       <use style=\"stroke:#000000;stroke-width:0.8;\" x=\"23.878125\" xlink:href=\"#m5d1be9d19c\" y=\"119.719219\"/>\r\n      </g>\r\n     </g>\r\n     <g id=\"text_5\">\r\n      <!-- X2 -->\r\n      <g transform=\"translate(14.798438 129.1325)rotate(-90)scale(0.1 -0.1)\">\r\n       <use xlink:href=\"#DejaVuSans-88\"/>\r\n       <use x=\"68.505859\" xlink:href=\"#DejaVuSans-50\"/>\r\n      </g>\r\n     </g>\r\n    </g>\r\n    <g id=\"ytick_3\">\r\n     <g id=\"line2d_6\">\r\n      <g>\r\n       <use style=\"stroke:#000000;stroke-width:0.8;\" x=\"23.878125\" xlink:href=\"#m5d1be9d19c\" y=\"192.199219\"/>\r\n      </g>\r\n     </g>\r\n     <g id=\"text_6\">\r\n      <!-- D -->\r\n      <g transform=\"translate(14.798438 196.1)rotate(-90)scale(0.1 -0.1)\">\r\n       <use xlink:href=\"#DejaVuSans-68\"/>\r\n      </g>\r\n     </g>\r\n    </g>\r\n   </g>\r\n  </g>\r\n  <g id=\"axes_2\">\r\n   <g id=\"patch_3\">\r\n    <path clip-path=\"url(#pa0f99b236a)\" d=\"M 308.458125 228.439219 \r\nL 308.458125 227.589844 \r\nL 308.458125 11.848594 \r\nL 308.458125 10.999219 \r\nL 319.330125 10.999219 \r\nL 319.330125 11.848594 \r\nL 319.330125 227.589844 \r\nL 319.330125 228.439219 \r\nz\r\n\" style=\"fill:#ffffff;stroke:#ffffff;stroke-linejoin:miter;stroke-width:0.01;\"/>\r\n   </g>\r\n   <image height=\"217\" id=\"image87054ee620\" transform=\"scale(1 -1)translate(0 -217)\" width=\"11\" x=\"308\" xlink:href=\"data:image/png;base64,\r\niVBORw0KGgoAAAANSUhEUgAAAAsAAADZCAYAAAD2WsoCAAAABHNCSVQICAgIfAhkiAAAAW9JREFUaIHdmkGOwCAMA43E/9+3f1lI9guZw0h0e7YsxzE0Lazqn87w2UlNsdndY+LsBIA7V5LRRAbUDKxjzE2aIsrwfLYKhBFFMiw3ukH4YUS18LOIWqmbi0j2nDfZQAVmXnPwFWU8wWwWCHxGzKVp/iIzaneRprDV/UiBhPkANLMOLSuUDVQg0vzL3LDAF0WUMJ83ZJjWAfApkuc5MS7Q8hm6AcBsK5gTm9k4ms/oRW/udQDsuSGGf05M3SBbgSfDc+OiAt+IqOcGa7cWfjYxIhlAB5RBXhNwMteYkWbPuk+6gWQ8Yd0VC/TAlnUXjF8b/CfLDlkpIQUuxjzGZgeMuUwz+JWbvRgzAYP0M83QjTfazdz4YLsRM/j+N9vtbTLgi1cskEXU2xi1PDPrGJjIEN1Aef7nBXp59mQsbyvQpgLEXH3mYDheohnJO0kHYOiGdaDvXZyAmj03NDA5o6/SChSbgu7JkPAXurz0ght/rVym7XqqraoAAAAASUVORK5CYII=\" y=\"-11\"/>\r\n   <g id=\"matplotlib.axis_3\"/>\r\n   <g id=\"matplotlib.axis_4\">\r\n    <g id=\"ytick_4\">\r\n     <g id=\"line2d_7\">\r\n      <defs>\r\n       <path d=\"M 0 0 \r\nL 3.5 0 \r\n\" id=\"m5223547d60\" style=\"stroke:#000000;stroke-width:0.8;\"/>\r\n      </defs>\r\n      <g>\r\n       <use style=\"stroke:#000000;stroke-width:0.8;\" x=\"319.330125\" xlink:href=\"#m5223547d60\" y=\"224.925071\"/>\r\n      </g>\r\n     </g>\r\n     <g id=\"text_7\">\r\n      <!-- 0.0 -->\r\n      <defs>\r\n       <path d=\"M 31.78125 66.40625 \r\nQ 24.171875 66.40625 20.328125 58.90625 \r\nQ 16.5 51.421875 16.5 36.375 \r\nQ 16.5 21.390625 20.328125 13.890625 \r\nQ 24.171875 6.390625 31.78125 6.390625 \r\nQ 39.453125 6.390625 43.28125 13.890625 \r\nQ 47.125 21.390625 47.125 36.375 \r\nQ 47.125 51.421875 43.28125 58.90625 \r\nQ 39.453125 66.40625 31.78125 66.40625 \r\nz\r\nM 31.78125 74.21875 \r\nQ 44.046875 74.21875 50.515625 64.515625 \r\nQ 56.984375 54.828125 56.984375 36.375 \r\nQ 56.984375 17.96875 50.515625 8.265625 \r\nQ 44.046875 -1.421875 31.78125 -1.421875 \r\nQ 19.53125 -1.421875 13.0625 8.265625 \r\nQ 6.59375 17.96875 6.59375 36.375 \r\nQ 6.59375 54.828125 13.0625 64.515625 \r\nQ 19.53125 74.21875 31.78125 74.21875 \r\nz\r\n\" id=\"DejaVuSans-48\"/>\r\n       <path d=\"M 10.6875 12.40625 \r\nL 21 12.40625 \r\nL 21 0 \r\nL 10.6875 0 \r\nz\r\n\" id=\"DejaVuSans-46\"/>\r\n      </defs>\r\n      <g transform=\"translate(326.330125 228.72429)scale(0.1 -0.1)\">\r\n       <use xlink:href=\"#DejaVuSans-48\"/>\r\n       <use x=\"63.623047\" xlink:href=\"#DejaVuSans-46\"/>\r\n       <use x=\"95.410156\" xlink:href=\"#DejaVuSans-48\"/>\r\n      </g>\r\n     </g>\r\n    </g>\r\n    <g id=\"ytick_5\">\r\n     <g id=\"line2d_8\">\r\n      <g>\r\n       <use style=\"stroke:#000000;stroke-width:0.8;\" x=\"319.330125\" xlink:href=\"#m5223547d60\" y=\"182.139901\"/>\r\n      </g>\r\n     </g>\r\n     <g id=\"text_8\">\r\n      <!-- 0.2 -->\r\n      <g transform=\"translate(326.330125 185.93912)scale(0.1 -0.1)\">\r\n       <use xlink:href=\"#DejaVuSans-48\"/>\r\n       <use x=\"63.623047\" xlink:href=\"#DejaVuSans-46\"/>\r\n       <use x=\"95.410156\" xlink:href=\"#DejaVuSans-50\"/>\r\n      </g>\r\n     </g>\r\n    </g>\r\n    <g id=\"ytick_6\">\r\n     <g id=\"line2d_9\">\r\n      <g>\r\n       <use style=\"stroke:#000000;stroke-width:0.8;\" x=\"319.330125\" xlink:href=\"#m5223547d60\" y=\"139.35473\"/>\r\n      </g>\r\n     </g>\r\n     <g id=\"text_9\">\r\n      <!-- 0.4 -->\r\n      <defs>\r\n       <path d=\"M 37.796875 64.3125 \r\nL 12.890625 25.390625 \r\nL 37.796875 25.390625 \r\nz\r\nM 35.203125 72.90625 \r\nL 47.609375 72.90625 \r\nL 47.609375 25.390625 \r\nL 58.015625 25.390625 \r\nL 58.015625 17.1875 \r\nL 47.609375 17.1875 \r\nL 47.609375 0 \r\nL 37.796875 0 \r\nL 37.796875 17.1875 \r\nL 4.890625 17.1875 \r\nL 4.890625 26.703125 \r\nz\r\n\" id=\"DejaVuSans-52\"/>\r\n      </defs>\r\n      <g transform=\"translate(326.330125 143.153949)scale(0.1 -0.1)\">\r\n       <use xlink:href=\"#DejaVuSans-48\"/>\r\n       <use x=\"63.623047\" xlink:href=\"#DejaVuSans-46\"/>\r\n       <use x=\"95.410156\" xlink:href=\"#DejaVuSans-52\"/>\r\n      </g>\r\n     </g>\r\n    </g>\r\n    <g id=\"ytick_7\">\r\n     <g id=\"line2d_10\">\r\n      <g>\r\n       <use style=\"stroke:#000000;stroke-width:0.8;\" x=\"319.330125\" xlink:href=\"#m5223547d60\" y=\"96.56956\"/>\r\n      </g>\r\n     </g>\r\n     <g id=\"text_10\">\r\n      <!-- 0.6 -->\r\n      <defs>\r\n       <path d=\"M 33.015625 40.375 \r\nQ 26.375 40.375 22.484375 35.828125 \r\nQ 18.609375 31.296875 18.609375 23.390625 \r\nQ 18.609375 15.53125 22.484375 10.953125 \r\nQ 26.375 6.390625 33.015625 6.390625 \r\nQ 39.65625 6.390625 43.53125 10.953125 \r\nQ 47.40625 15.53125 47.40625 23.390625 \r\nQ 47.40625 31.296875 43.53125 35.828125 \r\nQ 39.65625 40.375 33.015625 40.375 \r\nz\r\nM 52.59375 71.296875 \r\nL 52.59375 62.3125 \r\nQ 48.875 64.0625 45.09375 64.984375 \r\nQ 41.3125 65.921875 37.59375 65.921875 \r\nQ 27.828125 65.921875 22.671875 59.328125 \r\nQ 17.53125 52.734375 16.796875 39.40625 \r\nQ 19.671875 43.65625 24.015625 45.921875 \r\nQ 28.375 48.1875 33.59375 48.1875 \r\nQ 44.578125 48.1875 50.953125 41.515625 \r\nQ 57.328125 34.859375 57.328125 23.390625 \r\nQ 57.328125 12.15625 50.6875 5.359375 \r\nQ 44.046875 -1.421875 33.015625 -1.421875 \r\nQ 20.359375 -1.421875 13.671875 8.265625 \r\nQ 6.984375 17.96875 6.984375 36.375 \r\nQ 6.984375 53.65625 15.1875 63.9375 \r\nQ 23.390625 74.21875 37.203125 74.21875 \r\nQ 40.921875 74.21875 44.703125 73.484375 \r\nQ 48.484375 72.75 52.59375 71.296875 \r\nz\r\n\" id=\"DejaVuSans-54\"/>\r\n      </defs>\r\n      <g transform=\"translate(326.330125 100.368779)scale(0.1 -0.1)\">\r\n       <use xlink:href=\"#DejaVuSans-48\"/>\r\n       <use x=\"63.623047\" xlink:href=\"#DejaVuSans-46\"/>\r\n       <use x=\"95.410156\" xlink:href=\"#DejaVuSans-54\"/>\r\n      </g>\r\n     </g>\r\n    </g>\r\n    <g id=\"ytick_8\">\r\n     <g id=\"line2d_11\">\r\n      <g>\r\n       <use style=\"stroke:#000000;stroke-width:0.8;\" x=\"319.330125\" xlink:href=\"#m5223547d60\" y=\"53.784389\"/>\r\n      </g>\r\n     </g>\r\n     <g id=\"text_11\">\r\n      <!-- 0.8 -->\r\n      <defs>\r\n       <path d=\"M 31.78125 34.625 \r\nQ 24.75 34.625 20.71875 30.859375 \r\nQ 16.703125 27.09375 16.703125 20.515625 \r\nQ 16.703125 13.921875 20.71875 10.15625 \r\nQ 24.75 6.390625 31.78125 6.390625 \r\nQ 38.8125 6.390625 42.859375 10.171875 \r\nQ 46.921875 13.96875 46.921875 20.515625 \r\nQ 46.921875 27.09375 42.890625 30.859375 \r\nQ 38.875 34.625 31.78125 34.625 \r\nz\r\nM 21.921875 38.8125 \r\nQ 15.578125 40.375 12.03125 44.71875 \r\nQ 8.5 49.078125 8.5 55.328125 \r\nQ 8.5 64.0625 14.71875 69.140625 \r\nQ 20.953125 74.21875 31.78125 74.21875 \r\nQ 42.671875 74.21875 48.875 69.140625 \r\nQ 55.078125 64.0625 55.078125 55.328125 \r\nQ 55.078125 49.078125 51.53125 44.71875 \r\nQ 48 40.375 41.703125 38.8125 \r\nQ 48.828125 37.15625 52.796875 32.3125 \r\nQ 56.78125 27.484375 56.78125 20.515625 \r\nQ 56.78125 9.90625 50.3125 4.234375 \r\nQ 43.84375 -1.421875 31.78125 -1.421875 \r\nQ 19.734375 -1.421875 13.25 4.234375 \r\nQ 6.78125 9.90625 6.78125 20.515625 \r\nQ 6.78125 27.484375 10.78125 32.3125 \r\nQ 14.796875 37.15625 21.921875 38.8125 \r\nz\r\nM 18.3125 54.390625 \r\nQ 18.3125 48.734375 21.84375 45.5625 \r\nQ 25.390625 42.390625 31.78125 42.390625 \r\nQ 38.140625 42.390625 41.71875 45.5625 \r\nQ 45.3125 48.734375 45.3125 54.390625 \r\nQ 45.3125 60.0625 41.71875 63.234375 \r\nQ 38.140625 66.40625 31.78125 66.40625 \r\nQ 25.390625 66.40625 21.84375 63.234375 \r\nQ 18.3125 60.0625 18.3125 54.390625 \r\nz\r\n\" id=\"DejaVuSans-56\"/>\r\n      </defs>\r\n      <g transform=\"translate(326.330125 57.583608)scale(0.1 -0.1)\">\r\n       <use xlink:href=\"#DejaVuSans-48\"/>\r\n       <use x=\"63.623047\" xlink:href=\"#DejaVuSans-46\"/>\r\n       <use x=\"95.410156\" xlink:href=\"#DejaVuSans-56\"/>\r\n      </g>\r\n     </g>\r\n    </g>\r\n    <g id=\"ytick_9\">\r\n     <g id=\"line2d_12\">\r\n      <g>\r\n       <use style=\"stroke:#000000;stroke-width:0.8;\" x=\"319.330125\" xlink:href=\"#m5223547d60\" y=\"10.999219\"/>\r\n      </g>\r\n     </g>\r\n     <g id=\"text_12\">\r\n      <!-- 1.0 -->\r\n      <g transform=\"translate(326.330125 14.798438)scale(0.1 -0.1)\">\r\n       <use xlink:href=\"#DejaVuSans-49\"/>\r\n       <use x=\"63.623047\" xlink:href=\"#DejaVuSans-46\"/>\r\n       <use x=\"95.410156\" xlink:href=\"#DejaVuSans-48\"/>\r\n      </g>\r\n     </g>\r\n    </g>\r\n   </g>\r\n   <g id=\"patch_4\">\r\n    <path d=\"M 308.458125 228.439219 \r\nL 308.458125 227.589844 \r\nL 308.458125 11.848594 \r\nL 308.458125 10.999219 \r\nL 319.330125 10.999219 \r\nL 319.330125 11.848594 \r\nL 319.330125 227.589844 \r\nL 319.330125 228.439219 \r\nz\r\n\" style=\"fill:none;\"/>\r\n   </g>\r\n  </g>\r\n </g>\r\n <defs>\r\n  <clipPath id=\"pcfc67deb40\">\r\n   <rect height=\"217.44\" width=\"267.84\" x=\"23.878125\" y=\"10.999219\"/>\r\n  </clipPath>\r\n  <clipPath id=\"pa0f99b236a\">\r\n   <rect height=\"217.44\" width=\"10.872\" x=\"308.458125\" y=\"10.999219\"/>\r\n  </clipPath>\r\n </defs>\r\n</svg>\r\n",
      "image/png": "[encoded data removed]"
     },
     "metadata": {
      "needs_background": "light"
     }
    }
   ],
   "source": [
    "import seaborn as sns\n",
    "explanatory = wagedisc.drop('Y', axis = 1)\n",
    "cor_explanatory = explanatory.corr()\n",
    "sns.heatmap(cor_explanatory, cmap = \"YlGnBu\");"
   ]
  },
  {
   "source": [
    "(f) Construct a new variable Z = DX2 and run a regression of Y on X1, X2, D\n",
    "and Z. Is Z statistically significant? How would the short report you wrote\n",
    "in part (d) change? Explain verbally what the coefficient on Z measures."
   ],
   "cell_type": "markdown",
   "metadata": {}
  },
  {
   "cell_type": "code",
   "execution_count": 24,
   "metadata": {},
   "outputs": [
    {
     "output_type": "execute_result",
     "data": {
      "text/plain": [
       "<class 'statsmodels.iolib.summary2.Summary'>\n",
       "\"\"\"\n",
       "                 Results: Ordinary least squares\n",
       "=================================================================\n",
       "Model:              OLS              Adj. R-squared:     0.863   \n",
       "Dependent Variable: Y                AIC:                285.4957\n",
       "Date:               2021-04-01 19:08 BIC:                298.5215\n",
       "No. Observations:   100              Log-Likelihood:     -137.75 \n",
       "Df Model:           4                F-statistic:        157.5   \n",
       "Df Residuals:       95               Prob (F-statistic): 5.04e-41\n",
       "R-squared:          0.869            Scale:              0.96887 \n",
       "------------------------------------------------------------------\n",
       "              Coef.   Std.Err.     t      P>|t|    [0.025   0.975]\n",
       "------------------------------------------------------------------\n",
       "Intercept    20.0109    0.1511  132.4290  0.0000  19.7109  20.3109\n",
       "D            -0.0800    0.2920   -0.2742  0.7846  -0.6596   0.4996\n",
       "X1            0.5078    0.0279   18.2129  0.0000   0.4524   0.5631\n",
       "X2            1.3874    0.2858    4.8547  0.0000   0.8200   1.9547\n",
       "D:X2         -0.6442    0.2910   -2.2141  0.0292  -1.2219  -0.0666\n",
       "-----------------------------------------------------------------\n",
       "Omnibus:               1.038        Durbin-Watson:          1.980\n",
       "Prob(Omnibus):         0.595        Jarque-Bera (JB):       0.597\n",
       "Skew:                  -0.152       Prob(JB):               0.742\n",
       "Kurtosis:              3.227        Condition No.:          21   \n",
       "=================================================================\n",
       "\n",
       "\"\"\""
      ],
      "text/html": "<table class=\"simpletable\">\n<tr>\n        <td>Model:</td>               <td>OLS</td>         <td>Adj. R-squared:</td>     <td>0.863</td> \n</tr>\n<tr>\n  <td>Dependent Variable:</td>         <td>Y</td>               <td>AIC:</td>         <td>285.4957</td>\n</tr>\n<tr>\n         <td>Date:</td>        <td>2021-04-01 19:08</td>        <td>BIC:</td>         <td>298.5215</td>\n</tr>\n<tr>\n   <td>No. Observations:</td>         <td>100</td>         <td>Log-Likelihood:</td>    <td>-137.75</td>\n</tr>\n<tr>\n       <td>Df Model:</td>              <td>4</td>           <td>F-statistic:</td>       <td>157.5</td> \n</tr>\n<tr>\n     <td>Df Residuals:</td>           <td>95</td>        <td>Prob (F-statistic):</td> <td>5.04e-41</td>\n</tr>\n<tr>\n      <td>R-squared:</td>            <td>0.869</td>            <td>Scale:</td>         <td>0.96887</td>\n</tr>\n</table>\n<table class=\"simpletable\">\n<tr>\n      <td></td>       <th>Coef.</th>  <th>Std.Err.</th>     <th>t</th>     <th>P>|t|</th> <th>[0.025</th>  <th>0.975]</th> \n</tr>\n<tr>\n  <th>Intercept</th> <td>20.0109</td>  <td>0.1511</td>  <td>132.4290</td> <td>0.0000</td> <td>19.7109</td> <td>20.3109</td>\n</tr>\n<tr>\n  <th>D</th>         <td>-0.0800</td>  <td>0.2920</td>   <td>-0.2742</td> <td>0.7846</td> <td>-0.6596</td> <td>0.4996</td> \n</tr>\n<tr>\n  <th>X1</th>        <td>0.5078</td>   <td>0.0279</td>   <td>18.2129</td> <td>0.0000</td> <td>0.4524</td>  <td>0.5631</td> \n</tr>\n<tr>\n  <th>X2</th>        <td>1.3874</td>   <td>0.2858</td>   <td>4.8547</td>  <td>0.0000</td> <td>0.8200</td>  <td>1.9547</td> \n</tr>\n<tr>\n  <th>D:X2</th>      <td>-0.6442</td>  <td>0.2910</td>   <td>-2.2141</td> <td>0.0292</td> <td>-1.2219</td> <td>-0.0666</td>\n</tr>\n</table>\n<table class=\"simpletable\">\n<tr>\n     <td>Omnibus:</td>     <td>1.038</td>  <td>Durbin-Watson:</td>   <td>1.980</td>\n</tr>\n<tr>\n  <td>Prob(Omnibus):</td>  <td>0.595</td> <td>Jarque-Bera (JB):</td> <td>0.597</td>\n</tr>\n<tr>\n       <td>Skew:</td>     <td>-0.152</td>     <td>Prob(JB):</td>     <td>0.742</td>\n</tr>\n<tr>\n     <td>Kurtosis:</td>    <td>3.227</td>  <td>Condition No.:</td>    <td>21</td>  \n</tr>\n</table>"
     },
     "metadata": {},
     "execution_count": 24
    }
   ],
   "source": [
    "reg_Y_D_X1_X2_Z = smf.ols(formula = 'Y ~ D + X1 + X2 + D*X2', data = wagedisc)\n",
    "reg_Y_D_X1_X2_Z_fit = reg_Y_D_X1_X2_Z.fit()\n",
    "reg_Y_D_X1_X2_Z_fit.summary2()"
   ]
  }
 ],
 "metadata": {
  "kernelspec": {
   "display_name": "Python 3",
   "language": "python",
   "name": "python3"
  },
  "language_info": {
   "codemirror_mode": {
    "name": "ipython",
    "version": 3
   },
   "file_extension": ".py",
   "mimetype": "text/x-python",
   "name": "python",
   "nbconvert_exporter": "python",
   "pygments_lexer": "ipython3",
   "version": "3.7.4-final"
  }
 },
 "nbformat": 4,
 "nbformat_minor": 2
}