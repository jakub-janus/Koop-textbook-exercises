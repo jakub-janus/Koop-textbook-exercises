{
 "cells": [
  {
   "cell_type": "markdown",
   "metadata": {},
   "source": [
    "**Python solutions to Gary Koop's \"Analysis of Economic Data\" (4th ed., 2013)**\n",
    "\n",
    "**Chapter 10: Univariate Time Series Analysis**\n",
    "\n",
    "Jakub Janus, [jakub.janus@uek.krakow.pl](jakub.janus@uek.krakow.pl)"
   ]
  },
  {
   "cell_type": "markdown",
   "metadata": {},
   "source": [
    "# Exercise 10.1\n",
    "The file INCOME.XLS contains data on the logs of personal income and personal\n",
    "consumption.\n",
    "\n",
    "(a) Calculate and interpret descriptive statistics for personal income data and the\n",
    "change in personal income data.\n",
    "\n",
    "(b) Do the same for the personal consumption data and its change."
   ]
  },
  {
   "cell_type": "code",
   "execution_count": 25,
   "metadata": {},
   "outputs": [
    {
     "data": {
      "text/html": [
       "<div>\n",
       "<style scoped>\n",
       "    .dataframe tbody tr th:only-of-type {\n",
       "        vertical-align: middle;\n",
       "    }\n",
       "\n",
       "    .dataframe tbody tr th {\n",
       "        vertical-align: top;\n",
       "    }\n",
       "\n",
       "    .dataframe thead th {\n",
       "        text-align: right;\n",
       "    }\n",
       "</style>\n",
       "<table border=\"1\" class=\"dataframe\">\n",
       "  <thead>\n",
       "    <tr style=\"text-align: right;\">\n",
       "      <th></th>\n",
       "      <th>Income</th>\n",
       "      <th>Consumption</th>\n",
       "      <th>Income_ch</th>\n",
       "      <th>Consumption_ch</th>\n",
       "    </tr>\n",
       "  </thead>\n",
       "  <tbody>\n",
       "    <tr>\n",
       "      <th>count</th>\n",
       "      <td>164.000000</td>\n",
       "      <td>164.000000</td>\n",
       "      <td>163.000000</td>\n",
       "      <td>163.000000</td>\n",
       "    </tr>\n",
       "    <tr>\n",
       "      <th>mean</th>\n",
       "      <td>7.688020</td>\n",
       "      <td>7.592739</td>\n",
       "      <td>0.007995</td>\n",
       "      <td>0.008101</td>\n",
       "    </tr>\n",
       "    <tr>\n",
       "      <th>std</th>\n",
       "      <td>0.387692</td>\n",
       "      <td>0.388767</td>\n",
       "      <td>0.009294</td>\n",
       "      <td>0.006841</td>\n",
       "    </tr>\n",
       "    <tr>\n",
       "      <th>min</th>\n",
       "      <td>6.962811</td>\n",
       "      <td>6.876368</td>\n",
       "      <td>-0.020351</td>\n",
       "      <td>-0.020662</td>\n",
       "    </tr>\n",
       "    <tr>\n",
       "      <th>25%</th>\n",
       "      <td>7.343842</td>\n",
       "      <td>7.247041</td>\n",
       "      <td>0.003802</td>\n",
       "      <td>0.004187</td>\n",
       "    </tr>\n",
       "    <tr>\n",
       "      <th>50%</th>\n",
       "      <td>7.751445</td>\n",
       "      <td>7.632740</td>\n",
       "      <td>0.008470</td>\n",
       "      <td>0.008017</td>\n",
       "    </tr>\n",
       "    <tr>\n",
       "      <th>75%</th>\n",
       "      <td>8.041298</td>\n",
       "      <td>7.923753</td>\n",
       "      <td>0.013173</td>\n",
       "      <td>0.013037</td>\n",
       "    </tr>\n",
       "    <tr>\n",
       "      <th>max</th>\n",
       "      <td>8.271548</td>\n",
       "      <td>8.196875</td>\n",
       "      <td>0.046148</td>\n",
       "      <td>0.024642</td>\n",
       "    </tr>\n",
       "  </tbody>\n",
       "</table>\n",
       "</div>"
      ],
      "text/plain": [
       "           Income  Consumption   Income_ch  Consumption_ch\n",
       "count  164.000000   164.000000  163.000000      163.000000\n",
       "mean     7.688020     7.592739    0.007995        0.008101\n",
       "std      0.387692     0.388767    0.009294        0.006841\n",
       "min      6.962811     6.876368   -0.020351       -0.020662\n",
       "25%      7.343842     7.247041    0.003802        0.004187\n",
       "50%      7.751445     7.632740    0.008470        0.008017\n",
       "75%      8.041298     7.923753    0.013173        0.013037\n",
       "max      8.271548     8.196875    0.046148        0.024642"
      ]
     },
     "execution_count": 25,
     "metadata": {},
     "output_type": "execute_result"
    }
   ],
   "source": [
    "import pandas as pd\n",
    "income = pd.read_excel(r'datasets\\INCOME.xls')\n",
    "income = income.assign(Income_ch = income['Income'].diff())\n",
    "income = income.assign(Consumption_ch = income['Consumption'].diff())\n",
    "income.describe()"
   ]
  },
  {
   "cell_type": "markdown",
   "metadata": {},
   "source": [
    "(c) Plot and interpret graphs analogous to Figures 10.1 and 10.2 using the personal\n",
    "consumption variable and its change."
   ]
  },
  {
   "cell_type": "markdown",
   "metadata": {},
   "source": [
    "# Exercise 10.2\n",
    "The file INCOME.XLS contains data on personal income and consumption in\n",
    "the USA.\n",
    "(a) For each of these two series, individually create an XY-plot between the variable\n",
    "and the variable lagged one period."
   ]
  },
  {
   "cell_type": "markdown",
   "metadata": {},
   "source": []
  },
  {
   "cell_type": "markdown",
   "metadata": {},
   "source": [
    "(b) For each of these variables, calculate r1.\n",
    "(c) First difference each of these variables and repeat parts (a) and (b). How would\n",
    "you interpret the data you have constructed and the correlations and\n",
    "XY-plots?"
   ]
  },
  {
   "cell_type": "code",
   "execution_count": null,
   "metadata": {},
   "outputs": [],
   "source": []
  },
  {
   "cell_type": "code",
   "execution_count": null,
   "metadata": {},
   "outputs": [],
   "source": [
    "# Exercise 10.3\n",
    "Use the data on personal consumption (Y) given in INCOME.XLS.\n",
    "\n",
    "(a) Calculate the autocorrelation function for Y and ΔY with a maximum lag of\n",
    "four (i.e. P = 4)."
   ]
  },
  {
   "cell_type": "code",
   "execution_count": null,
   "metadata": {},
   "outputs": [],
   "source": []
  },
  {
   "cell_type": "code",
   "execution_count": null,
   "metadata": {},
   "outputs": [],
   "source": [
    "(b) Plot these autocorrelation functions in a bar chart."
   ]
  },
  {
   "cell_type": "code",
   "execution_count": null,
   "metadata": {},
   "outputs": [],
   "source": []
  },
  {
   "cell_type": "markdown",
   "metadata": {},
   "source": [
    "(c) Interpret the results you have obtained in parts (a) and (b)."
   ]
  },
  {
   "cell_type": "code",
   "execution_count": null,
   "metadata": {},
   "outputs": [],
   "source": []
  },
  {
   "cell_type": "markdown",
   "metadata": {},
   "source": [
    "# Exercise 10.4\n",
    "Use the data in files FIG105.XLS, FIG106.XLS and FIG107.XLS, which were\n",
    "used to create Figures 10.5–10.7.\n",
    "(a) Calculate the autocorrelation function for each time series using a maximum\n",
    "lag of four.\n",
    "(b) Relate your findings in part (a) to your answers to Exercise 10.3. Focus in\n",
    "particular on the question of whether the AR(1) model is capable of generating\n",
    "the types of behavior observed in the macroeconomic time series on\n",
    "personal consumption."
   ]
  },
  {
   "cell_type": "code",
   "execution_count": null,
   "metadata": {},
   "outputs": [],
   "source": []
  },
  {
   "cell_type": "code",
   "execution_count": null,
   "metadata": {},
   "outputs": [],
   "source": []
  },
  {
   "cell_type": "markdown",
   "metadata": {},
   "source": [
    "# Exercise 10.5\n",
    "Use the data in files FIG105.XLS, FIG106.XLS and FIG107.XLS, which were\n",
    "used to create Figures 10.5–10.7.\n",
    "(a) Calculate OLS estimates of ρ and ϕ in the two variants of the AR(1) model.\n",
    "(b) Relate your results in part (a) to the question of whether any of the series\n",
    "contain a unit root.\n",
    "(c) Repeat parts (a) and (b) using the personal consumption data in INCOME.\n",
    "XLS."
   ]
  },
  {
   "cell_type": "code",
   "execution_count": null,
   "metadata": {},
   "outputs": [],
   "source": []
  },
  {
   "cell_type": "code",
   "execution_count": null,
   "metadata": {},
   "outputs": [],
   "source": []
  },
  {
   "cell_type": "markdown",
   "metadata": {},
   "source": [
    "# Exercise 10.6\n",
    "The data in FIG108.XLS was used to create Figure 10.8.\n",
    "(a) Calculate the autocorrelation function for this trend stationary series.\n",
    "(b) In the light of your answer to part (a), discuss whether the autocorrelation\n",
    "function is a useful tool for testing for a unit root."
   ]
  },
  {
   "cell_type": "code",
   "execution_count": null,
   "metadata": {},
   "outputs": [],
   "source": []
  },
  {
   "cell_type": "code",
   "execution_count": null,
   "metadata": {},
   "outputs": [],
   "source": []
  },
  {
   "cell_type": "markdown",
   "metadata": {},
   "source": [
    "# Exercise 10.7\n",
    "In this chapter we have recommended a strategy according to which you begin\n",
    "with an AR(p) with deterministic trend model, choose a lag length (p), decide\n",
    "whether the deterministic trend should be included or excluded and then test for\n",
    "a unit root. Carry out this strategy using the following series:\n",
    "• those in FIG105.XLS and FIG106.XLS (which you know are stationary);\n",
    "• that in FIG107.XLS (which you know has a unit root);\n",
    "• that in FIG108.XLS (which is trend stationary, but exhibits strong trending\n",
    "behavior);\n",
    "• that in INCOME.XLS labeled “consumption”."
   ]
  },
  {
   "cell_type": "code",
   "execution_count": null,
   "metadata": {},
   "outputs": [],
   "source": []
  },
  {
   "cell_type": "markdown",
   "metadata": {},
   "source": [
    "# Exercise 10.8\n",
    "In Exercise 10.7, we tested for unit roots in many series. We noted that if a time\n",
    "series has one unit root, then its difference will be stationary. Verify that this is\n",
    "true for the series in Exercise 10.7 with unit roots. That is, discuss how you would\n",
    "test to see if the change in the series has a unit root. Then carry out this test."
   ]
  },
  {
   "cell_type": "code",
   "execution_count": null,
   "metadata": {},
   "outputs": [],
   "source": []
  },
  {
   "cell_type": "code",
   "execution_count": null,
   "metadata": {},
   "outputs": [],
   "source": []
  }
 ],
 "metadata": {
  "kernelspec": {
   "display_name": "Python 3",
   "language": "python",
   "name": "python3"
  },
  "language_info": {
   "codemirror_mode": {
    "name": "ipython",
    "version": 3
   },
   "file_extension": ".py",
   "mimetype": "text/x-python",
   "name": "python",
   "nbconvert_exporter": "python",
   "pygments_lexer": "ipython3",
   "version": "3.7.4"
  }
 },
 "nbformat": 4,
 "nbformat_minor": 2
}
