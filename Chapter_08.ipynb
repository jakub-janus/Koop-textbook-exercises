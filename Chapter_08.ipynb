{
 "cells": [
  {
   "cell_type": "markdown",
   "metadata": {},
   "source": [
    "**Python solutions to Gary Koop's \"Analysis of Economic Data\" (4th ed., 2013)**\n",
    "\n",
    "**Chapter 8: Qualitative Choice Models**\n",
    "\n",
    "Jakub Janus, [jakub.janus@uek.krakow.pl](jakub.janus@uek.krakow.pl)"
   ]
  },
  {
   "cell_type": "markdown",
   "metadata": {},
   "source": [
    "# Exercise 8.1\n",
    "The data set in COMMUTE.XLS contains data from N = 390 individuals on their\n",
    "commuting choice between public transport and car. The data takes the form:\n",
    "* Choice = 0 if the individual takes public transport and 1 if the individual takes\n",
    "a car to work;\n",
    "* Income = income (in thousands of dollars);\n",
    "* Distance = distance to work (in miles).\n",
    "\n",
    "(a) Estimate a logit model using Choice as the dummy dependent variable and\n",
    "Income and Distance as explanatory variables. Interpret the signs of the\n",
    "coefficients.\n"
   ]
  },
  {
   "cell_type": "code",
   "execution_count": 3,
   "metadata": {},
   "outputs": [
    {
     "data": {
      "text/html": [
       "<div>\n",
       "<style scoped>\n",
       "    .dataframe tbody tr th:only-of-type {\n",
       "        vertical-align: middle;\n",
       "    }\n",
       "\n",
       "    .dataframe tbody tr th {\n",
       "        vertical-align: top;\n",
       "    }\n",
       "\n",
       "    .dataframe thead th {\n",
       "        text-align: right;\n",
       "    }\n",
       "</style>\n",
       "<table border=\"1\" class=\"dataframe\">\n",
       "  <thead>\n",
       "    <tr style=\"text-align: right;\">\n",
       "      <th></th>\n",
       "      <th>Choice</th>\n",
       "      <th>Income</th>\n",
       "      <th>Distance</th>\n",
       "    </tr>\n",
       "  </thead>\n",
       "  <tbody>\n",
       "    <tr>\n",
       "      <th>0</th>\n",
       "      <td>0</td>\n",
       "      <td>16.440689</td>\n",
       "      <td>4.657276</td>\n",
       "    </tr>\n",
       "    <tr>\n",
       "      <th>1</th>\n",
       "      <td>0</td>\n",
       "      <td>39.909400</td>\n",
       "      <td>22.278497</td>\n",
       "    </tr>\n",
       "    <tr>\n",
       "      <th>2</th>\n",
       "      <td>2</td>\n",
       "      <td>46.098788</td>\n",
       "      <td>5.267421</td>\n",
       "    </tr>\n",
       "    <tr>\n",
       "      <th>3</th>\n",
       "      <td>2</td>\n",
       "      <td>41.488547</td>\n",
       "      <td>10.515348</td>\n",
       "    </tr>\n",
       "    <tr>\n",
       "      <th>4</th>\n",
       "      <td>2</td>\n",
       "      <td>72.762393</td>\n",
       "      <td>19.406761</td>\n",
       "    </tr>\n",
       "    <tr>\n",
       "      <th>...</th>\n",
       "      <td>...</td>\n",
       "      <td>...</td>\n",
       "      <td>...</td>\n",
       "    </tr>\n",
       "    <tr>\n",
       "      <th>385</th>\n",
       "      <td>2</td>\n",
       "      <td>106.389000</td>\n",
       "      <td>11.060643</td>\n",
       "    </tr>\n",
       "    <tr>\n",
       "      <th>386</th>\n",
       "      <td>2</td>\n",
       "      <td>96.825256</td>\n",
       "      <td>0.718475</td>\n",
       "    </tr>\n",
       "    <tr>\n",
       "      <th>387</th>\n",
       "      <td>2</td>\n",
       "      <td>105.964940</td>\n",
       "      <td>6.612690</td>\n",
       "    </tr>\n",
       "    <tr>\n",
       "      <th>388</th>\n",
       "      <td>1</td>\n",
       "      <td>41.380343</td>\n",
       "      <td>38.664881</td>\n",
       "    </tr>\n",
       "    <tr>\n",
       "      <th>389</th>\n",
       "      <td>0</td>\n",
       "      <td>52.183769</td>\n",
       "      <td>24.047204</td>\n",
       "    </tr>\n",
       "  </tbody>\n",
       "</table>\n",
       "<p>390 rows × 3 columns</p>\n",
       "</div>"
      ],
      "text/plain": [
       "     Choice      Income   Distance\n",
       "0         0   16.440689   4.657276\n",
       "1         0   39.909400  22.278497\n",
       "2         2   46.098788   5.267421\n",
       "3         2   41.488547  10.515348\n",
       "4         2   72.762393  19.406761\n",
       "..      ...         ...        ...\n",
       "385       2  106.389000  11.060643\n",
       "386       2   96.825256   0.718475\n",
       "387       2  105.964940   6.612690\n",
       "388       1   41.380343  38.664881\n",
       "389       0   52.183769  24.047204\n",
       "\n",
       "[390 rows x 3 columns]"
      ]
     },
     "execution_count": 3,
     "metadata": {},
     "output_type": "execute_result"
    }
   ],
   "source": [
    "import pandas as pd\n",
    "import statsmodels.api as sm\n",
    "commute = pd.read_excel(r'datasets\\COMMUTE.xls')\n",
    "commute"
   ]
  },
  {
   "cell_type": "markdown",
   "metadata": {},
   "source": [
    "(b) Display and interpret the actual choices made and the fitted choice probability\n",
    "for all the individuals.\n",
    "(c) Repeat parts (a) and (b) using a probit model."
   ]
  },
  {
   "cell_type": "code",
   "execution_count": null,
   "metadata": {},
   "outputs": [],
   "source": []
  }
 ],
 "metadata": {
  "kernelspec": {
   "display_name": "Python 3",
   "language": "python",
   "name": "python3"
  },
  "language_info": {
   "codemirror_mode": {
    "name": "ipython",
    "version": 3
   },
   "file_extension": ".py",
   "mimetype": "text/x-python",
   "name": "python",
   "nbconvert_exporter": "python",
   "pygments_lexer": "ipython3",
   "version": "3.7.4"
  }
 },
 "nbformat": 4,
 "nbformat_minor": 2
}
