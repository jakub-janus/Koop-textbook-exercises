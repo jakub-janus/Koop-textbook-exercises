{
 "cells": [
  {
   "cell_type": "markdown",
   "metadata": {},
   "source": [
    "**Python solutions to Gary Koop's \"Analysis of Economic Data\" (4th ed., 2013)**\n",
    "\n",
    "**Chapter 8: Qualitative Choice Models**\n",
    "\n",
    "Jakub Janus, [jakub.janus@uek.krakow.pl](jakub.janus@uek.krakow.pl)"
   ]
  },
  {
   "cell_type": "markdown",
   "metadata": {},
   "source": [
    "# Exercise 8.1\n",
    "The data set in COMMUTE.XLS contains data from N = 390 individuals on their\n",
    "commuting choice between public transport and car. The data takes the form:\n",
    "* Choice = 0 if the individual takes public transport and 1 if the individual takes\n",
    "a car to work;\n",
    "* Income = income (in thousands of dollars);\n",
    "* Distance = distance to work (in miles).\n",
    "\n",
    "(a) Estimate a logit model using Choice as the dummy dependent variable and\n",
    "Income and Distance as explanatory variables. Interpret the signs of the\n",
    "coefficients.\n"
   ]
  },
  {
   "cell_type": "code",
   "execution_count": 1,
   "metadata": {},
   "outputs": [
    {
     "output_type": "execute_result",
     "data": {
      "text/plain": [
       "     Choice      Income   Distance\n",
       "0         0   16.440689   4.657276\n",
       "1         0   39.909400  22.278497\n",
       "2         2   46.098788   5.267421\n",
       "3         2   41.488547  10.515348\n",
       "4         2   72.762393  19.406761\n",
       "..      ...         ...        ...\n",
       "385       2  106.389000  11.060643\n",
       "386       2   96.825256   0.718475\n",
       "387       2  105.964940   6.612690\n",
       "388       1   41.380343  38.664881\n",
       "389       0   52.183769  24.047204\n",
       "\n",
       "[390 rows x 3 columns]"
      ],
      "text/html": "<div>\n<style scoped>\n    .dataframe tbody tr th:only-of-type {\n        vertical-align: middle;\n    }\n\n    .dataframe tbody tr th {\n        vertical-align: top;\n    }\n\n    .dataframe thead th {\n        text-align: right;\n    }\n</style>\n<table border=\"1\" class=\"dataframe\">\n  <thead>\n    <tr style=\"text-align: right;\">\n      <th></th>\n      <th>Choice</th>\n      <th>Income</th>\n      <th>Distance</th>\n    </tr>\n  </thead>\n  <tbody>\n    <tr>\n      <th>0</th>\n      <td>0</td>\n      <td>16.440689</td>\n      <td>4.657276</td>\n    </tr>\n    <tr>\n      <th>1</th>\n      <td>0</td>\n      <td>39.909400</td>\n      <td>22.278497</td>\n    </tr>\n    <tr>\n      <th>2</th>\n      <td>2</td>\n      <td>46.098788</td>\n      <td>5.267421</td>\n    </tr>\n    <tr>\n      <th>3</th>\n      <td>2</td>\n      <td>41.488547</td>\n      <td>10.515348</td>\n    </tr>\n    <tr>\n      <th>4</th>\n      <td>2</td>\n      <td>72.762393</td>\n      <td>19.406761</td>\n    </tr>\n    <tr>\n      <th>...</th>\n      <td>...</td>\n      <td>...</td>\n      <td>...</td>\n    </tr>\n    <tr>\n      <th>385</th>\n      <td>2</td>\n      <td>106.389000</td>\n      <td>11.060643</td>\n    </tr>\n    <tr>\n      <th>386</th>\n      <td>2</td>\n      <td>96.825256</td>\n      <td>0.718475</td>\n    </tr>\n    <tr>\n      <th>387</th>\n      <td>2</td>\n      <td>105.964940</td>\n      <td>6.612690</td>\n    </tr>\n    <tr>\n      <th>388</th>\n      <td>1</td>\n      <td>41.380343</td>\n      <td>38.664881</td>\n    </tr>\n    <tr>\n      <th>389</th>\n      <td>0</td>\n      <td>52.183769</td>\n      <td>24.047204</td>\n    </tr>\n  </tbody>\n</table>\n<p>390 rows × 3 columns</p>\n</div>"
     },
     "metadata": {},
     "execution_count": 1
    }
   ],
   "source": [
    "import pandas as pd\n",
    "commute = pd.read_excel(r'datasets\\COMMUTE.xls')\n",
    "commute"
   ]
  },
  {
   "source": [
    "Problem: 'Choice' variable contains values of 0, 1, and 2.\n",
    "\n",
    "Let's assume that \"2\" is a different mode of transportation."
   ],
   "cell_type": "markdown",
   "metadata": {}
  },
  {
   "cell_type": "code",
   "execution_count": 2,
   "metadata": {},
   "outputs": [
    {
     "output_type": "execute_result",
     "data": {
      "text/plain": [
       "     Choice      Income   Distance\n",
       "0         0   16.440689   4.657276\n",
       "1         0   39.909400  22.278497\n",
       "2         0   46.098788   5.267421\n",
       "3         0   41.488547  10.515348\n",
       "4         0   72.762393  19.406761\n",
       "..      ...         ...        ...\n",
       "385       0  106.389000  11.060643\n",
       "386       0   96.825256   0.718475\n",
       "387       0  105.964940   6.612690\n",
       "388       1   41.380343  38.664881\n",
       "389       0   52.183769  24.047204\n",
       "\n",
       "[390 rows x 3 columns]"
      ],
      "text/html": "<div>\n<style scoped>\n    .dataframe tbody tr th:only-of-type {\n        vertical-align: middle;\n    }\n\n    .dataframe tbody tr th {\n        vertical-align: top;\n    }\n\n    .dataframe thead th {\n        text-align: right;\n    }\n</style>\n<table border=\"1\" class=\"dataframe\">\n  <thead>\n    <tr style=\"text-align: right;\">\n      <th></th>\n      <th>Choice</th>\n      <th>Income</th>\n      <th>Distance</th>\n    </tr>\n  </thead>\n  <tbody>\n    <tr>\n      <th>0</th>\n      <td>0</td>\n      <td>16.440689</td>\n      <td>4.657276</td>\n    </tr>\n    <tr>\n      <th>1</th>\n      <td>0</td>\n      <td>39.909400</td>\n      <td>22.278497</td>\n    </tr>\n    <tr>\n      <th>2</th>\n      <td>0</td>\n      <td>46.098788</td>\n      <td>5.267421</td>\n    </tr>\n    <tr>\n      <th>3</th>\n      <td>0</td>\n      <td>41.488547</td>\n      <td>10.515348</td>\n    </tr>\n    <tr>\n      <th>4</th>\n      <td>0</td>\n      <td>72.762393</td>\n      <td>19.406761</td>\n    </tr>\n    <tr>\n      <th>...</th>\n      <td>...</td>\n      <td>...</td>\n      <td>...</td>\n    </tr>\n    <tr>\n      <th>385</th>\n      <td>0</td>\n      <td>106.389000</td>\n      <td>11.060643</td>\n    </tr>\n    <tr>\n      <th>386</th>\n      <td>0</td>\n      <td>96.825256</td>\n      <td>0.718475</td>\n    </tr>\n    <tr>\n      <th>387</th>\n      <td>0</td>\n      <td>105.964940</td>\n      <td>6.612690</td>\n    </tr>\n    <tr>\n      <th>388</th>\n      <td>1</td>\n      <td>41.380343</td>\n      <td>38.664881</td>\n    </tr>\n    <tr>\n      <th>389</th>\n      <td>0</td>\n      <td>52.183769</td>\n      <td>24.047204</td>\n    </tr>\n  </tbody>\n</table>\n<p>390 rows × 3 columns</p>\n</div>"
     },
     "metadata": {},
     "execution_count": 2
    }
   ],
   "source": [
    "commute.loc[commute.Choice == 2, 'Choice'] = 0\n",
    "commute"
   ]
  },
  {
   "cell_type": "code",
   "execution_count": 3,
   "metadata": {},
   "outputs": [
    {
     "output_type": "stream",
     "name": "stdout",
     "text": [
      "Optimization terminated successfully.\n         Current function value: 0.125097\n         Iterations 10\n"
     ]
    },
    {
     "output_type": "execute_result",
     "data": {
      "text/plain": [
       "<class 'statsmodels.iolib.summary2.Summary'>\n",
       "\"\"\"\n",
       "                         Results: Logit\n",
       "=================================================================\n",
       "Model:              Logit            Pseudo R-squared: 0.744     \n",
       "Dependent Variable: Choice           AIC:              103.5759  \n",
       "Date:               2021-04-08 16:08 BIC:              115.4743  \n",
       "No. Observations:   390              Log-Likelihood:   -48.788   \n",
       "Df Model:           2                LL-Null:          -190.93   \n",
       "Df Residuals:       387              LLR p-value:      1.8645e-62\n",
       "Converged:          1.0000           Scale:            1.0000    \n",
       "No. Iterations:     10.0000                                      \n",
       "------------------------------------------------------------------\n",
       "               Coef.   Std.Err.     z     P>|z|    [0.025   0.975]\n",
       "------------------------------------------------------------------\n",
       "const         -0.2819    0.7159  -0.3938  0.6938  -1.6851   1.1213\n",
       "Income        -0.2025    0.0309  -6.5616  0.0000  -0.2630  -0.1420\n",
       "Distance       0.2907    0.0475   6.1255  0.0000   0.1977   0.3837\n",
       "=================================================================\n",
       "\n",
       "\"\"\""
      ],
      "text/html": "<table class=\"simpletable\">\n<tr>\n        <td>Model:</td>              <td>Logit</td>      <td>Pseudo R-squared:</td>    <td>0.744</td>  \n</tr>\n<tr>\n  <td>Dependent Variable:</td>      <td>Choice</td>            <td>AIC:</td>         <td>103.5759</td> \n</tr>\n<tr>\n         <td>Date:</td>        <td>2021-04-08 16:08</td>       <td>BIC:</td>         <td>115.4743</td> \n</tr>\n<tr>\n   <td>No. Observations:</td>         <td>390</td>        <td>Log-Likelihood:</td>    <td>-48.788</td> \n</tr>\n<tr>\n       <td>Df Model:</td>              <td>2</td>            <td>LL-Null:</td>        <td>-190.93</td> \n</tr>\n<tr>\n     <td>Df Residuals:</td>           <td>387</td>         <td>LLR p-value:</td>    <td>1.8645e-62</td>\n</tr>\n<tr>\n      <td>Converged:</td>           <td>1.0000</td>           <td>Scale:</td>         <td>1.0000</td>  \n</tr>\n<tr>\n    <td>No. Iterations:</td>        <td>10.0000</td>             <td></td>               <td></td>     \n</tr>\n</table>\n<table class=\"simpletable\">\n<tr>\n      <td></td>      <th>Coef.</th>  <th>Std.Err.</th>    <th>z</th>     <th>P>|z|</th> <th>[0.025</th>  <th>0.975]</th> \n</tr>\n<tr>\n  <th>const</th>    <td>-0.2819</td>  <td>0.7159</td>  <td>-0.3938</td> <td>0.6938</td> <td>-1.6851</td> <td>1.1213</td> \n</tr>\n<tr>\n  <th>Income</th>   <td>-0.2025</td>  <td>0.0309</td>  <td>-6.5616</td> <td>0.0000</td> <td>-0.2630</td> <td>-0.1420</td>\n</tr>\n<tr>\n  <th>Distance</th> <td>0.2907</td>   <td>0.0475</td>  <td>6.1255</td>  <td>0.0000</td> <td>0.1977</td>  <td>0.3837</td> \n</tr>\n</table>"
     },
     "metadata": {},
     "execution_count": 3
    }
   ],
   "source": [
    "import statsmodels.api as sm\n",
    "y = commute['Choice']\n",
    "X = commute[['Income', 'Distance']]\n",
    "logit_commute = sm.Logit(y, sm.add_constant(X))\n",
    "logit_commute_fit = logit_commute.fit()\n",
    "logit_commute_fit.summary2()"
   ]
  },
  {
   "cell_type": "markdown",
   "metadata": {},
   "source": [
    "(b) Display and interpret the actual choices made and the fitted choice probability\n",
    "for all the individuals."
   ]
  },
  {
   "cell_type": "code",
   "execution_count": 4,
   "metadata": {},
   "outputs": [
    {
     "output_type": "execute_result",
     "data": {
      "text/plain": [
       "         0      1    2      3    4    5    6    7      8    9    ...  380  \\\n",
       "y      0.000  0.000  0.0  0.000  0.0  1.0  0.0  0.0  1.000  0.0  ...  0.0   \n",
       "y_hat  0.095  0.131  0.0  0.004  0.0  1.0  0.0  0.0  0.393  0.0  ...  0.0   \n",
       "\n",
       "       381    382  383   384  385  386  387    388    389  \n",
       "y      0.0  0.000  0.0  1.00  0.0  0.0  0.0  1.000  0.000  \n",
       "y_hat  0.0  0.108  0.0  0.91  0.0  0.0  0.0  0.929  0.021  \n",
       "\n",
       "[2 rows x 390 columns]"
      ],
      "text/html": "<div>\n<style scoped>\n    .dataframe tbody tr th:only-of-type {\n        vertical-align: middle;\n    }\n\n    .dataframe tbody tr th {\n        vertical-align: top;\n    }\n\n    .dataframe thead th {\n        text-align: right;\n    }\n</style>\n<table border=\"1\" class=\"dataframe\">\n  <thead>\n    <tr style=\"text-align: right;\">\n      <th></th>\n      <th>0</th>\n      <th>1</th>\n      <th>2</th>\n      <th>3</th>\n      <th>4</th>\n      <th>5</th>\n      <th>6</th>\n      <th>7</th>\n      <th>8</th>\n      <th>9</th>\n      <th>...</th>\n      <th>380</th>\n      <th>381</th>\n      <th>382</th>\n      <th>383</th>\n      <th>384</th>\n      <th>385</th>\n      <th>386</th>\n      <th>387</th>\n      <th>388</th>\n      <th>389</th>\n    </tr>\n  </thead>\n  <tbody>\n    <tr>\n      <th>y</th>\n      <td>0.000</td>\n      <td>0.000</td>\n      <td>0.0</td>\n      <td>0.000</td>\n      <td>0.0</td>\n      <td>1.0</td>\n      <td>0.0</td>\n      <td>0.0</td>\n      <td>1.000</td>\n      <td>0.0</td>\n      <td>...</td>\n      <td>0.0</td>\n      <td>0.0</td>\n      <td>0.000</td>\n      <td>0.0</td>\n      <td>1.00</td>\n      <td>0.0</td>\n      <td>0.0</td>\n      <td>0.0</td>\n      <td>1.000</td>\n      <td>0.000</td>\n    </tr>\n    <tr>\n      <th>y_hat</th>\n      <td>0.095</td>\n      <td>0.131</td>\n      <td>0.0</td>\n      <td>0.004</td>\n      <td>0.0</td>\n      <td>1.0</td>\n      <td>0.0</td>\n      <td>0.0</td>\n      <td>0.393</td>\n      <td>0.0</td>\n      <td>...</td>\n      <td>0.0</td>\n      <td>0.0</td>\n      <td>0.108</td>\n      <td>0.0</td>\n      <td>0.91</td>\n      <td>0.0</td>\n      <td>0.0</td>\n      <td>0.0</td>\n      <td>0.929</td>\n      <td>0.021</td>\n    </tr>\n  </tbody>\n</table>\n<p>2 rows × 390 columns</p>\n</div>"
     },
     "metadata": {},
     "execution_count": 4
    }
   ],
   "source": [
    "y_hat_logit = round(logit_commute_fit.predict(sm.add_constant(X)), 3)\n",
    "logit_comp = pd.DataFrame({'y': y, 'y_hat': y_hat_logit})\n",
    "logit_comp.T"
   ]
  },
  {
   "cell_type": "code",
   "execution_count": 5,
   "metadata": {},
   "outputs": [],
   "source": [
    "logit_comp.plot();"
   ]
  },
  {
   "source": [
    "(c) Repeat parts (a) and (b) using a probit model."
   ],
   "cell_type": "markdown",
   "metadata": {}
  },
  {
   "cell_type": "code",
   "execution_count": 6,
   "metadata": {},
   "outputs": [
    {
     "output_type": "stream",
     "name": "stdout",
     "text": [
      "Optimization terminated successfully.\n         Current function value: 0.124617\n         Iterations 9\n"
     ]
    },
    {
     "output_type": "execute_result",
     "data": {
      "text/plain": [
       "<class 'statsmodels.iolib.summary2.Summary'>\n",
       "\"\"\"\n",
       "                         Results: Probit\n",
       "=================================================================\n",
       "Model:              Probit           Pseudo R-squared: 0.745     \n",
       "Dependent Variable: Choice           AIC:              103.2013  \n",
       "Date:               2021-04-08 16:08 BIC:              115.0998  \n",
       "No. Observations:   390              Log-Likelihood:   -48.601   \n",
       "Df Model:           2                LL-Null:          -190.93   \n",
       "Df Residuals:       387              LLR p-value:      1.5460e-62\n",
       "Converged:          1.0000           Scale:            1.0000    \n",
       "No. Iterations:     9.0000                                       \n",
       "------------------------------------------------------------------\n",
       "               Coef.   Std.Err.     z     P>|z|    [0.025   0.975]\n",
       "------------------------------------------------------------------\n",
       "const         -0.1528    0.4089  -0.3737  0.7086  -0.9543   0.6487\n",
       "Income        -0.1125    0.0157  -7.1822  0.0000  -0.1432  -0.0818\n",
       "Distance       0.1604    0.0239   6.7139  0.0000   0.1136   0.2073\n",
       "=================================================================\n",
       "\n",
       "\"\"\""
      ],
      "text/html": "<table class=\"simpletable\">\n<tr>\n        <td>Model:</td>             <td>Probit</td>      <td>Pseudo R-squared:</td>    <td>0.745</td>  \n</tr>\n<tr>\n  <td>Dependent Variable:</td>      <td>Choice</td>            <td>AIC:</td>         <td>103.2013</td> \n</tr>\n<tr>\n         <td>Date:</td>        <td>2021-04-08 16:08</td>       <td>BIC:</td>         <td>115.0998</td> \n</tr>\n<tr>\n   <td>No. Observations:</td>         <td>390</td>        <td>Log-Likelihood:</td>    <td>-48.601</td> \n</tr>\n<tr>\n       <td>Df Model:</td>              <td>2</td>            <td>LL-Null:</td>        <td>-190.93</td> \n</tr>\n<tr>\n     <td>Df Residuals:</td>           <td>387</td>         <td>LLR p-value:</td>    <td>1.5460e-62</td>\n</tr>\n<tr>\n      <td>Converged:</td>           <td>1.0000</td>           <td>Scale:</td>         <td>1.0000</td>  \n</tr>\n<tr>\n    <td>No. Iterations:</td>        <td>9.0000</td>              <td></td>               <td></td>     \n</tr>\n</table>\n<table class=\"simpletable\">\n<tr>\n      <td></td>      <th>Coef.</th>  <th>Std.Err.</th>    <th>z</th>     <th>P>|z|</th> <th>[0.025</th>  <th>0.975]</th> \n</tr>\n<tr>\n  <th>const</th>    <td>-0.1528</td>  <td>0.4089</td>  <td>-0.3737</td> <td>0.7086</td> <td>-0.9543</td> <td>0.6487</td> \n</tr>\n<tr>\n  <th>Income</th>   <td>-0.1125</td>  <td>0.0157</td>  <td>-7.1822</td> <td>0.0000</td> <td>-0.1432</td> <td>-0.0818</td>\n</tr>\n<tr>\n  <th>Distance</th> <td>0.1604</td>   <td>0.0239</td>  <td>6.7139</td>  <td>0.0000</td> <td>0.1136</td>  <td>0.2073</td> \n</tr>\n</table>"
     },
     "metadata": {},
     "execution_count": 6
    }
   ],
   "source": [
    "probit_commute = sm.Probit(y, sm.add_constant(X))\n",
    "probit_commute_fit = probit_commute.fit()\n",
    "probit_commute_fit.summary2()"
   ]
  },
  {
   "cell_type": "code",
   "execution_count": 7,
   "metadata": {},
   "outputs": [
    {
     "output_type": "execute_result",
     "data": {
      "text/plain": [
       "         0      1    2      3    4    5    6    7      8    9    ...  380  \\\n",
       "y      0.000  0.000  0.0  0.000  0.0  1.0  0.0  0.0  1.000  0.0  ...  0.0   \n",
       "y_hat  0.105  0.143  0.0  0.001  0.0  1.0  0.0  0.0  0.399  0.0  ...  0.0   \n",
       "\n",
       "       381    382  383    384  385  386  387    388    389  \n",
       "y      0.0  0.000  0.0  1.000  0.0  0.0  0.0  1.000  0.000  \n",
       "y_hat  0.0  0.119  0.0  0.895  0.0  0.0  0.0  0.919  0.015  \n",
       "\n",
       "[2 rows x 390 columns]"
      ],
      "text/html": "<div>\n<style scoped>\n    .dataframe tbody tr th:only-of-type {\n        vertical-align: middle;\n    }\n\n    .dataframe tbody tr th {\n        vertical-align: top;\n    }\n\n    .dataframe thead th {\n        text-align: right;\n    }\n</style>\n<table border=\"1\" class=\"dataframe\">\n  <thead>\n    <tr style=\"text-align: right;\">\n      <th></th>\n      <th>0</th>\n      <th>1</th>\n      <th>2</th>\n      <th>3</th>\n      <th>4</th>\n      <th>5</th>\n      <th>6</th>\n      <th>7</th>\n      <th>8</th>\n      <th>9</th>\n      <th>...</th>\n      <th>380</th>\n      <th>381</th>\n      <th>382</th>\n      <th>383</th>\n      <th>384</th>\n      <th>385</th>\n      <th>386</th>\n      <th>387</th>\n      <th>388</th>\n      <th>389</th>\n    </tr>\n  </thead>\n  <tbody>\n    <tr>\n      <th>y</th>\n      <td>0.000</td>\n      <td>0.000</td>\n      <td>0.0</td>\n      <td>0.000</td>\n      <td>0.0</td>\n      <td>1.0</td>\n      <td>0.0</td>\n      <td>0.0</td>\n      <td>1.000</td>\n      <td>0.0</td>\n      <td>...</td>\n      <td>0.0</td>\n      <td>0.0</td>\n      <td>0.000</td>\n      <td>0.0</td>\n      <td>1.000</td>\n      <td>0.0</td>\n      <td>0.0</td>\n      <td>0.0</td>\n      <td>1.000</td>\n      <td>0.000</td>\n    </tr>\n    <tr>\n      <th>y_hat</th>\n      <td>0.105</td>\n      <td>0.143</td>\n      <td>0.0</td>\n      <td>0.001</td>\n      <td>0.0</td>\n      <td>1.0</td>\n      <td>0.0</td>\n      <td>0.0</td>\n      <td>0.399</td>\n      <td>0.0</td>\n      <td>...</td>\n      <td>0.0</td>\n      <td>0.0</td>\n      <td>0.119</td>\n      <td>0.0</td>\n      <td>0.895</td>\n      <td>0.0</td>\n      <td>0.0</td>\n      <td>0.0</td>\n      <td>0.919</td>\n      <td>0.015</td>\n    </tr>\n  </tbody>\n</table>\n<p>2 rows × 390 columns</p>\n</div>"
     },
     "metadata": {},
     "execution_count": 7
    }
   ],
   "source": [
    "y_hat_probit = round(probit_commute_fit.predict(sm.add_constant(X)), 3)\n",
    "probit_comp = pd.DataFrame({'y': y, 'y_hat': y_hat_probit})\n",
    "probit_comp.T"
   ]
  },
  {
   "cell_type": "code",
   "execution_count": 8,
   "metadata": {},
   "outputs": [
    {
     "output_type": "display_data",
     "data": {
      "text/plain": "<Figure size 432x288 with 1 Axes>",
      "image/svg+xml": "<?xml version=\"1.0\" encoding=\"utf-8\" standalone=\"no\"?>\r\n<!DOCTYPE svg PUBLIC \"-//W3C//DTD SVG 1.1//EN\"\r\n  \"http://www.w3.org/Graphics/SVG/1.1/DTD/svg11.dtd\">\r\n<!-- Created with matplotlib (https://matplotlib.org/) -->\r\n<svg height=\"248.518125pt\" version=\"1.1\" viewBox=\"0 0 375.035377 248.518125\" width=\"375.035377pt\" xmlns=\"http://www.w3.org/2000/svg\" xmlns:xlink=\"http://www.w3.org/1999/xlink\">\r\n <defs>\r\n  <style type=\"text/css\">\r\n*{stroke-linecap:butt;stroke-linejoin:round;}\r\n  </style>\r\n </defs>\r\n <g id=\"figure_1\">\r\n  <g id=\"patch_1\">\r\n   <path d=\"M 0 248.518125 \r\nL 375.035377 248.518125 \r\nL 375.035377 0 \r\nL 0 0 \r\nz\r\n\" style=\"fill:none;\"/>\r\n  </g>\r\n  <g id=\"axes_1\">\r\n   <g id=\"patch_2\">\r\n    <path d=\"M 30.103125 224.64 \r\nL 364.903125 224.64 \r\nL 364.903125 7.2 \r\nL 30.103125 7.2 \r\nz\r\n\" style=\"fill:#ffffff;\"/>\r\n   </g>\r\n   <g id=\"matplotlib.axis_1\">\r\n    <g id=\"xtick_1\">\r\n     <g id=\"line2d_1\">\r\n      <defs>\r\n       <path d=\"M 0 0 \r\nL 0 3.5 \r\n\" id=\"m8d690bcc94\" style=\"stroke:#000000;stroke-width:0.8;\"/>\r\n      </defs>\r\n      <g>\r\n       <use style=\"stroke:#000000;stroke-width:0.8;\" x=\"45.321307\" xlink:href=\"#m8d690bcc94\" y=\"224.64\"/>\r\n      </g>\r\n     </g>\r\n     <g id=\"text_1\">\r\n      <!-- 0 -->\r\n      <defs>\r\n       <path d=\"M 31.78125 66.40625 \r\nQ 24.171875 66.40625 20.328125 58.90625 \r\nQ 16.5 51.421875 16.5 36.375 \r\nQ 16.5 21.390625 20.328125 13.890625 \r\nQ 24.171875 6.390625 31.78125 6.390625 \r\nQ 39.453125 6.390625 43.28125 13.890625 \r\nQ 47.125 21.390625 47.125 36.375 \r\nQ 47.125 51.421875 43.28125 58.90625 \r\nQ 39.453125 66.40625 31.78125 66.40625 \r\nz\r\nM 31.78125 74.21875 \r\nQ 44.046875 74.21875 50.515625 64.515625 \r\nQ 56.984375 54.828125 56.984375 36.375 \r\nQ 56.984375 17.96875 50.515625 8.265625 \r\nQ 44.046875 -1.421875 31.78125 -1.421875 \r\nQ 19.53125 -1.421875 13.0625 8.265625 \r\nQ 6.59375 17.96875 6.59375 36.375 \r\nQ 6.59375 54.828125 13.0625 64.515625 \r\nQ 19.53125 74.21875 31.78125 74.21875 \r\nz\r\n\" id=\"DejaVuSans-48\"/>\r\n      </defs>\r\n      <g transform=\"translate(42.140057 239.238437)scale(0.1 -0.1)\">\r\n       <use xlink:href=\"#DejaVuSans-48\"/>\r\n      </g>\r\n     </g>\r\n    </g>\r\n    <g id=\"xtick_2\">\r\n     <g id=\"line2d_2\">\r\n      <g>\r\n       <use style=\"stroke:#000000;stroke-width:0.8;\" x=\"84.442597\" xlink:href=\"#m8d690bcc94\" y=\"224.64\"/>\r\n      </g>\r\n     </g>\r\n     <g id=\"text_2\">\r\n      <!-- 50 -->\r\n      <defs>\r\n       <path d=\"M 10.796875 72.90625 \r\nL 49.515625 72.90625 \r\nL 49.515625 64.59375 \r\nL 19.828125 64.59375 \r\nL 19.828125 46.734375 \r\nQ 21.96875 47.46875 24.109375 47.828125 \r\nQ 26.265625 48.1875 28.421875 48.1875 \r\nQ 40.625 48.1875 47.75 41.5 \r\nQ 54.890625 34.8125 54.890625 23.390625 \r\nQ 54.890625 11.625 47.5625 5.09375 \r\nQ 40.234375 -1.421875 26.90625 -1.421875 \r\nQ 22.3125 -1.421875 17.546875 -0.640625 \r\nQ 12.796875 0.140625 7.71875 1.703125 \r\nL 7.71875 11.625 \r\nQ 12.109375 9.234375 16.796875 8.0625 \r\nQ 21.484375 6.890625 26.703125 6.890625 \r\nQ 35.15625 6.890625 40.078125 11.328125 \r\nQ 45.015625 15.765625 45.015625 23.390625 \r\nQ 45.015625 31 40.078125 35.4375 \r\nQ 35.15625 39.890625 26.703125 39.890625 \r\nQ 22.75 39.890625 18.8125 39.015625 \r\nQ 14.890625 38.140625 10.796875 36.28125 \r\nz\r\n\" id=\"DejaVuSans-53\"/>\r\n      </defs>\r\n      <g transform=\"translate(78.080097 239.238437)scale(0.1 -0.1)\">\r\n       <use xlink:href=\"#DejaVuSans-53\"/>\r\n       <use x=\"63.623047\" xlink:href=\"#DejaVuSans-48\"/>\r\n      </g>\r\n     </g>\r\n    </g>\r\n    <g id=\"xtick_3\">\r\n     <g id=\"line2d_3\">\r\n      <g>\r\n       <use style=\"stroke:#000000;stroke-width:0.8;\" x=\"123.563887\" xlink:href=\"#m8d690bcc94\" y=\"224.64\"/>\r\n      </g>\r\n     </g>\r\n     <g id=\"text_3\">\r\n      <!-- 100 -->\r\n      <defs>\r\n       <path d=\"M 12.40625 8.296875 \r\nL 28.515625 8.296875 \r\nL 28.515625 63.921875 \r\nL 10.984375 60.40625 \r\nL 10.984375 69.390625 \r\nL 28.421875 72.90625 \r\nL 38.28125 72.90625 \r\nL 38.28125 8.296875 \r\nL 54.390625 8.296875 \r\nL 54.390625 0 \r\nL 12.40625 0 \r\nz\r\n\" id=\"DejaVuSans-49\"/>\r\n      </defs>\r\n      <g transform=\"translate(114.020137 239.238437)scale(0.1 -0.1)\">\r\n       <use xlink:href=\"#DejaVuSans-49\"/>\r\n       <use x=\"63.623047\" xlink:href=\"#DejaVuSans-48\"/>\r\n       <use x=\"127.246094\" xlink:href=\"#DejaVuSans-48\"/>\r\n      </g>\r\n     </g>\r\n    </g>\r\n    <g id=\"xtick_4\">\r\n     <g id=\"line2d_4\">\r\n      <g>\r\n       <use style=\"stroke:#000000;stroke-width:0.8;\" x=\"162.685177\" xlink:href=\"#m8d690bcc94\" y=\"224.64\"/>\r\n      </g>\r\n     </g>\r\n     <g id=\"text_4\">\r\n      <!-- 150 -->\r\n      <g transform=\"translate(153.141427 239.238437)scale(0.1 -0.1)\">\r\n       <use xlink:href=\"#DejaVuSans-49\"/>\r\n       <use x=\"63.623047\" xlink:href=\"#DejaVuSans-53\"/>\r\n       <use x=\"127.246094\" xlink:href=\"#DejaVuSans-48\"/>\r\n      </g>\r\n     </g>\r\n    </g>\r\n    <g id=\"xtick_5\">\r\n     <g id=\"line2d_5\">\r\n      <g>\r\n       <use style=\"stroke:#000000;stroke-width:0.8;\" x=\"201.806467\" xlink:href=\"#m8d690bcc94\" y=\"224.64\"/>\r\n      </g>\r\n     </g>\r\n     <g id=\"text_5\">\r\n      <!-- 200 -->\r\n      <defs>\r\n       <path d=\"M 19.1875 8.296875 \r\nL 53.609375 8.296875 \r\nL 53.609375 0 \r\nL 7.328125 0 \r\nL 7.328125 8.296875 \r\nQ 12.9375 14.109375 22.625 23.890625 \r\nQ 32.328125 33.6875 34.8125 36.53125 \r\nQ 39.546875 41.84375 41.421875 45.53125 \r\nQ 43.3125 49.21875 43.3125 52.78125 \r\nQ 43.3125 58.59375 39.234375 62.25 \r\nQ 35.15625 65.921875 28.609375 65.921875 \r\nQ 23.96875 65.921875 18.8125 64.3125 \r\nQ 13.671875 62.703125 7.8125 59.421875 \r\nL 7.8125 69.390625 \r\nQ 13.765625 71.78125 18.9375 73 \r\nQ 24.125 74.21875 28.421875 74.21875 \r\nQ 39.75 74.21875 46.484375 68.546875 \r\nQ 53.21875 62.890625 53.21875 53.421875 \r\nQ 53.21875 48.921875 51.53125 44.890625 \r\nQ 49.859375 40.875 45.40625 35.40625 \r\nQ 44.1875 33.984375 37.640625 27.21875 \r\nQ 31.109375 20.453125 19.1875 8.296875 \r\nz\r\n\" id=\"DejaVuSans-50\"/>\r\n      </defs>\r\n      <g transform=\"translate(192.262717 239.238437)scale(0.1 -0.1)\">\r\n       <use xlink:href=\"#DejaVuSans-50\"/>\r\n       <use x=\"63.623047\" xlink:href=\"#DejaVuSans-48\"/>\r\n       <use x=\"127.246094\" xlink:href=\"#DejaVuSans-48\"/>\r\n      </g>\r\n     </g>\r\n    </g>\r\n    <g id=\"xtick_6\">\r\n     <g id=\"line2d_6\">\r\n      <g>\r\n       <use style=\"stroke:#000000;stroke-width:0.8;\" x=\"240.927757\" xlink:href=\"#m8d690bcc94\" y=\"224.64\"/>\r\n      </g>\r\n     </g>\r\n     <g id=\"text_6\">\r\n      <!-- 250 -->\r\n      <g transform=\"translate(231.384007 239.238437)scale(0.1 -0.1)\">\r\n       <use xlink:href=\"#DejaVuSans-50\"/>\r\n       <use x=\"63.623047\" xlink:href=\"#DejaVuSans-53\"/>\r\n       <use x=\"127.246094\" xlink:href=\"#DejaVuSans-48\"/>\r\n      </g>\r\n     </g>\r\n    </g>\r\n    <g id=\"xtick_7\">\r\n     <g id=\"line2d_7\">\r\n      <g>\r\n       <use style=\"stroke:#000000;stroke-width:0.8;\" x=\"280.049047\" xlink:href=\"#m8d690bcc94\" y=\"224.64\"/>\r\n      </g>\r\n     </g>\r\n     <g id=\"text_7\">\r\n      <!-- 300 -->\r\n      <defs>\r\n       <path d=\"M 40.578125 39.3125 \r\nQ 47.65625 37.796875 51.625 33 \r\nQ 55.609375 28.21875 55.609375 21.1875 \r\nQ 55.609375 10.40625 48.1875 4.484375 \r\nQ 40.765625 -1.421875 27.09375 -1.421875 \r\nQ 22.515625 -1.421875 17.65625 -0.515625 \r\nQ 12.796875 0.390625 7.625 2.203125 \r\nL 7.625 11.71875 \r\nQ 11.71875 9.328125 16.59375 8.109375 \r\nQ 21.484375 6.890625 26.8125 6.890625 \r\nQ 36.078125 6.890625 40.9375 10.546875 \r\nQ 45.796875 14.203125 45.796875 21.1875 \r\nQ 45.796875 27.640625 41.28125 31.265625 \r\nQ 36.765625 34.90625 28.71875 34.90625 \r\nL 20.21875 34.90625 \r\nL 20.21875 43.015625 \r\nL 29.109375 43.015625 \r\nQ 36.375 43.015625 40.234375 45.921875 \r\nQ 44.09375 48.828125 44.09375 54.296875 \r\nQ 44.09375 59.90625 40.109375 62.90625 \r\nQ 36.140625 65.921875 28.71875 65.921875 \r\nQ 24.65625 65.921875 20.015625 65.03125 \r\nQ 15.375 64.15625 9.8125 62.3125 \r\nL 9.8125 71.09375 \r\nQ 15.4375 72.65625 20.34375 73.4375 \r\nQ 25.25 74.21875 29.59375 74.21875 \r\nQ 40.828125 74.21875 47.359375 69.109375 \r\nQ 53.90625 64.015625 53.90625 55.328125 \r\nQ 53.90625 49.265625 50.4375 45.09375 \r\nQ 46.96875 40.921875 40.578125 39.3125 \r\nz\r\n\" id=\"DejaVuSans-51\"/>\r\n      </defs>\r\n      <g transform=\"translate(270.505297 239.238437)scale(0.1 -0.1)\">\r\n       <use xlink:href=\"#DejaVuSans-51\"/>\r\n       <use x=\"63.623047\" xlink:href=\"#DejaVuSans-48\"/>\r\n       <use x=\"127.246094\" xlink:href=\"#DejaVuSans-48\"/>\r\n      </g>\r\n     </g>\r\n    </g>\r\n    <g id=\"xtick_8\">\r\n     <g id=\"line2d_8\">\r\n      <g>\r\n       <use style=\"stroke:#000000;stroke-width:0.8;\" x=\"319.170337\" xlink:href=\"#m8d690bcc94\" y=\"224.64\"/>\r\n      </g>\r\n     </g>\r\n     <g id=\"text_8\">\r\n      <!-- 350 -->\r\n      <g transform=\"translate(309.626587 239.238437)scale(0.1 -0.1)\">\r\n       <use xlink:href=\"#DejaVuSans-51\"/>\r\n       <use x=\"63.623047\" xlink:href=\"#DejaVuSans-53\"/>\r\n       <use x=\"127.246094\" xlink:href=\"#DejaVuSans-48\"/>\r\n      </g>\r\n     </g>\r\n    </g>\r\n    <g id=\"xtick_9\">\r\n     <g id=\"line2d_9\">\r\n      <g>\r\n       <use style=\"stroke:#000000;stroke-width:0.8;\" x=\"358.291627\" xlink:href=\"#m8d690bcc94\" y=\"224.64\"/>\r\n      </g>\r\n     </g>\r\n     <g id=\"text_9\">\r\n      <!-- 400 -->\r\n      <defs>\r\n       <path d=\"M 37.796875 64.3125 \r\nL 12.890625 25.390625 \r\nL 37.796875 25.390625 \r\nz\r\nM 35.203125 72.90625 \r\nL 47.609375 72.90625 \r\nL 47.609375 25.390625 \r\nL 58.015625 25.390625 \r\nL 58.015625 17.1875 \r\nL 47.609375 17.1875 \r\nL 47.609375 0 \r\nL 37.796875 0 \r\nL 37.796875 17.1875 \r\nL 4.890625 17.1875 \r\nL 4.890625 26.703125 \r\nz\r\n\" id=\"DejaVuSans-52\"/>\r\n      </defs>\r\n      <g transform=\"translate(348.747877 239.238437)scale(0.1 -0.1)\">\r\n       <use xlink:href=\"#DejaVuSans-52\"/>\r\n       <use x=\"63.623047\" xlink:href=\"#DejaVuSans-48\"/>\r\n       <use x=\"127.246094\" xlink:href=\"#DejaVuSans-48\"/>\r\n      </g>\r\n     </g>\r\n    </g>\r\n   </g>\r\n   <g id=\"matplotlib.axis_2\">\r\n    <g id=\"ytick_1\">\r\n     <g id=\"line2d_10\">\r\n      <defs>\r\n       <path d=\"M 0 0 \r\nL -3.5 0 \r\n\" id=\"mfa65a04214\" style=\"stroke:#000000;stroke-width:0.8;\"/>\r\n      </defs>\r\n      <g>\r\n       <use style=\"stroke:#000000;stroke-width:0.8;\" x=\"30.103125\" xlink:href=\"#mfa65a04214\" y=\"214.756364\"/>\r\n      </g>\r\n     </g>\r\n     <g id=\"text_10\">\r\n      <!-- 0.0 -->\r\n      <defs>\r\n       <path d=\"M 10.6875 12.40625 \r\nL 21 12.40625 \r\nL 21 0 \r\nL 10.6875 0 \r\nz\r\n\" id=\"DejaVuSans-46\"/>\r\n      </defs>\r\n      <g transform=\"translate(7.2 218.555582)scale(0.1 -0.1)\">\r\n       <use xlink:href=\"#DejaVuSans-48\"/>\r\n       <use x=\"63.623047\" xlink:href=\"#DejaVuSans-46\"/>\r\n       <use x=\"95.410156\" xlink:href=\"#DejaVuSans-48\"/>\r\n      </g>\r\n     </g>\r\n    </g>\r\n    <g id=\"ytick_2\">\r\n     <g id=\"line2d_11\">\r\n      <g>\r\n       <use style=\"stroke:#000000;stroke-width:0.8;\" x=\"30.103125\" xlink:href=\"#mfa65a04214\" y=\"175.221818\"/>\r\n      </g>\r\n     </g>\r\n     <g id=\"text_11\">\r\n      <!-- 0.2 -->\r\n      <g transform=\"translate(7.2 179.021037)scale(0.1 -0.1)\">\r\n       <use xlink:href=\"#DejaVuSans-48\"/>\r\n       <use x=\"63.623047\" xlink:href=\"#DejaVuSans-46\"/>\r\n       <use x=\"95.410156\" xlink:href=\"#DejaVuSans-50\"/>\r\n      </g>\r\n     </g>\r\n    </g>\r\n    <g id=\"ytick_3\">\r\n     <g id=\"line2d_12\">\r\n      <g>\r\n       <use style=\"stroke:#000000;stroke-width:0.8;\" x=\"30.103125\" xlink:href=\"#mfa65a04214\" y=\"135.687273\"/>\r\n      </g>\r\n     </g>\r\n     <g id=\"text_12\">\r\n      <!-- 0.4 -->\r\n      <g transform=\"translate(7.2 139.486491)scale(0.1 -0.1)\">\r\n       <use xlink:href=\"#DejaVuSans-48\"/>\r\n       <use x=\"63.623047\" xlink:href=\"#DejaVuSans-46\"/>\r\n       <use x=\"95.410156\" xlink:href=\"#DejaVuSans-52\"/>\r\n      </g>\r\n     </g>\r\n    </g>\r\n    <g id=\"ytick_4\">\r\n     <g id=\"line2d_13\">\r\n      <g>\r\n       <use style=\"stroke:#000000;stroke-width:0.8;\" x=\"30.103125\" xlink:href=\"#mfa65a04214\" y=\"96.152727\"/>\r\n      </g>\r\n     </g>\r\n     <g id=\"text_13\">\r\n      <!-- 0.6 -->\r\n      <defs>\r\n       <path d=\"M 33.015625 40.375 \r\nQ 26.375 40.375 22.484375 35.828125 \r\nQ 18.609375 31.296875 18.609375 23.390625 \r\nQ 18.609375 15.53125 22.484375 10.953125 \r\nQ 26.375 6.390625 33.015625 6.390625 \r\nQ 39.65625 6.390625 43.53125 10.953125 \r\nQ 47.40625 15.53125 47.40625 23.390625 \r\nQ 47.40625 31.296875 43.53125 35.828125 \r\nQ 39.65625 40.375 33.015625 40.375 \r\nz\r\nM 52.59375 71.296875 \r\nL 52.59375 62.3125 \r\nQ 48.875 64.0625 45.09375 64.984375 \r\nQ 41.3125 65.921875 37.59375 65.921875 \r\nQ 27.828125 65.921875 22.671875 59.328125 \r\nQ 17.53125 52.734375 16.796875 39.40625 \r\nQ 19.671875 43.65625 24.015625 45.921875 \r\nQ 28.375 48.1875 33.59375 48.1875 \r\nQ 44.578125 48.1875 50.953125 41.515625 \r\nQ 57.328125 34.859375 57.328125 23.390625 \r\nQ 57.328125 12.15625 50.6875 5.359375 \r\nQ 44.046875 -1.421875 33.015625 -1.421875 \r\nQ 20.359375 -1.421875 13.671875 8.265625 \r\nQ 6.984375 17.96875 6.984375 36.375 \r\nQ 6.984375 53.65625 15.1875 63.9375 \r\nQ 23.390625 74.21875 37.203125 74.21875 \r\nQ 40.921875 74.21875 44.703125 73.484375 \r\nQ 48.484375 72.75 52.59375 71.296875 \r\nz\r\n\" id=\"DejaVuSans-54\"/>\r\n      </defs>\r\n      <g transform=\"translate(7.2 99.951946)scale(0.1 -0.1)\">\r\n       <use xlink:href=\"#DejaVuSans-48\"/>\r\n       <use x=\"63.623047\" xlink:href=\"#DejaVuSans-46\"/>\r\n       <use x=\"95.410156\" xlink:href=\"#DejaVuSans-54\"/>\r\n      </g>\r\n     </g>\r\n    </g>\r\n    <g id=\"ytick_5\">\r\n     <g id=\"line2d_14\">\r\n      <g>\r\n       <use style=\"stroke:#000000;stroke-width:0.8;\" x=\"30.103125\" xlink:href=\"#mfa65a04214\" y=\"56.618182\"/>\r\n      </g>\r\n     </g>\r\n     <g id=\"text_14\">\r\n      <!-- 0.8 -->\r\n      <defs>\r\n       <path d=\"M 31.78125 34.625 \r\nQ 24.75 34.625 20.71875 30.859375 \r\nQ 16.703125 27.09375 16.703125 20.515625 \r\nQ 16.703125 13.921875 20.71875 10.15625 \r\nQ 24.75 6.390625 31.78125 6.390625 \r\nQ 38.8125 6.390625 42.859375 10.171875 \r\nQ 46.921875 13.96875 46.921875 20.515625 \r\nQ 46.921875 27.09375 42.890625 30.859375 \r\nQ 38.875 34.625 31.78125 34.625 \r\nz\r\nM 21.921875 38.8125 \r\nQ 15.578125 40.375 12.03125 44.71875 \r\nQ 8.5 49.078125 8.5 55.328125 \r\nQ 8.5 64.0625 14.71875 69.140625 \r\nQ 20.953125 74.21875 31.78125 74.21875 \r\nQ 42.671875 74.21875 48.875 69.140625 \r\nQ 55.078125 64.0625 55.078125 55.328125 \r\nQ 55.078125 49.078125 51.53125 44.71875 \r\nQ 48 40.375 41.703125 38.8125 \r\nQ 48.828125 37.15625 52.796875 32.3125 \r\nQ 56.78125 27.484375 56.78125 20.515625 \r\nQ 56.78125 9.90625 50.3125 4.234375 \r\nQ 43.84375 -1.421875 31.78125 -1.421875 \r\nQ 19.734375 -1.421875 13.25 4.234375 \r\nQ 6.78125 9.90625 6.78125 20.515625 \r\nQ 6.78125 27.484375 10.78125 32.3125 \r\nQ 14.796875 37.15625 21.921875 38.8125 \r\nz\r\nM 18.3125 54.390625 \r\nQ 18.3125 48.734375 21.84375 45.5625 \r\nQ 25.390625 42.390625 31.78125 42.390625 \r\nQ 38.140625 42.390625 41.71875 45.5625 \r\nQ 45.3125 48.734375 45.3125 54.390625 \r\nQ 45.3125 60.0625 41.71875 63.234375 \r\nQ 38.140625 66.40625 31.78125 66.40625 \r\nQ 25.390625 66.40625 21.84375 63.234375 \r\nQ 18.3125 60.0625 18.3125 54.390625 \r\nz\r\n\" id=\"DejaVuSans-56\"/>\r\n      </defs>\r\n      <g transform=\"translate(7.2 60.417401)scale(0.1 -0.1)\">\r\n       <use xlink:href=\"#DejaVuSans-48\"/>\r\n       <use x=\"63.623047\" xlink:href=\"#DejaVuSans-46\"/>\r\n       <use x=\"95.410156\" xlink:href=\"#DejaVuSans-56\"/>\r\n      </g>\r\n     </g>\r\n    </g>\r\n    <g id=\"ytick_6\">\r\n     <g id=\"line2d_15\">\r\n      <g>\r\n       <use style=\"stroke:#000000;stroke-width:0.8;\" x=\"30.103125\" xlink:href=\"#mfa65a04214\" y=\"17.083636\"/>\r\n      </g>\r\n     </g>\r\n     <g id=\"text_15\">\r\n      <!-- 1.0 -->\r\n      <g transform=\"translate(7.2 20.882855)scale(0.1 -0.1)\">\r\n       <use xlink:href=\"#DejaVuSans-49\"/>\r\n       <use x=\"63.623047\" xlink:href=\"#DejaVuSans-46\"/>\r\n       <use x=\"95.410156\" xlink:href=\"#DejaVuSans-48\"/>\r\n      </g>\r\n     </g>\r\n    </g>\r\n   </g>\r\n   <g id=\"line2d_16\">\r\n    <path clip-path=\"url(#p66b8e56ada)\" d=\"M 45.321307 214.756364 \r\nL 48.45101 214.756364 \r\nL 49.233436 17.083636 \r\nL 50.015862 214.756364 \r\nL 50.798287 214.756364 \r\nL 51.580713 17.083636 \r\nL 52.363139 214.756364 \r\nL 56.275268 214.756364 \r\nL 57.057694 17.083636 \r\nL 57.84012 17.083636 \r\nL 58.622545 214.756364 \r\nL 61.752249 214.756364 \r\nL 62.534674 17.083636 \r\nL 64.099526 17.083636 \r\nL 64.881952 214.756364 \r\nL 69.576507 214.756364 \r\nL 70.358932 17.083636 \r\nL 71.141358 214.756364 \r\nL 73.488636 214.756364 \r\nL 74.271061 17.083636 \r\nL 75.053487 17.083636 \r\nL 75.835913 214.756364 \r\nL 82.095319 214.756364 \r\nL 82.877745 17.083636 \r\nL 83.660171 17.083636 \r\nL 84.442597 214.756364 \r\nL 89.919577 214.756364 \r\nL 90.702003 17.083636 \r\nL 91.484429 214.756364 \r\nL 92.266855 17.083636 \r\nL 93.049281 214.756364 \r\nL 94.614132 214.756364 \r\nL 95.396558 17.083636 \r\nL 96.178984 17.083636 \r\nL 96.96141 214.756364 \r\nL 100.091113 214.756364 \r\nL 100.873539 17.083636 \r\nL 101.655964 214.756364 \r\nL 104.003242 214.756364 \r\nL 104.785668 17.083636 \r\nL 105.568093 214.756364 \r\nL 106.350519 17.083636 \r\nL 107.132945 214.756364 \r\nL 107.915371 17.083636 \r\nL 108.697797 214.756364 \r\nL 109.480222 214.756364 \r\nL 110.262648 17.083636 \r\nL 111.045074 17.083636 \r\nL 111.8275 214.756364 \r\nL 122.781461 214.756364 \r\nL 123.563887 17.083636 \r\nL 124.346313 214.756364 \r\nL 126.69359 214.756364 \r\nL 127.476016 17.083636 \r\nL 128.258442 214.756364 \r\nL 129.823293 214.756364 \r\nL 130.605719 17.083636 \r\nL 131.388145 17.083636 \r\nL 132.170571 214.756364 \r\nL 136.0827 214.756364 \r\nL 136.865125 17.083636 \r\nL 137.647551 214.756364 \r\nL 139.994829 214.756364 \r\nL 140.777254 17.083636 \r\nL 141.55968 214.756364 \r\nL 145.471809 214.756364 \r\nL 146.254235 17.083636 \r\nL 147.036661 214.756364 \r\nL 147.819087 214.756364 \r\nL 148.601512 17.083636 \r\nL 149.383938 214.756364 \r\nL 157.208196 214.756364 \r\nL 157.990622 17.083636 \r\nL 158.773048 214.756364 \r\nL 159.555474 17.083636 \r\nL 160.337899 214.756364 \r\nL 164.250028 214.756364 \r\nL 165.032454 17.083636 \r\nL 165.81488 214.756364 \r\nL 172.856712 214.756364 \r\nL 173.639138 17.083636 \r\nL 174.421564 214.756364 \r\nL 175.986415 214.756364 \r\nL 176.768841 17.083636 \r\nL 177.551267 214.756364 \r\nL 180.68097 214.756364 \r\nL 181.463396 17.083636 \r\nL 182.245822 17.083636 \r\nL 183.028248 214.756364 \r\nL 183.810673 214.756364 \r\nL 184.593099 17.083636 \r\nL 185.375525 214.756364 \r\nL 198.676764 214.756364 \r\nL 199.45919 17.083636 \r\nL 200.241615 214.756364 \r\nL 201.024041 17.083636 \r\nL 201.806467 214.756364 \r\nL 202.588893 17.083636 \r\nL 203.371319 214.756364 \r\nL 211.195577 214.756364 \r\nL 211.978002 17.083636 \r\nL 212.760428 214.756364 \r\nL 219.80226 214.756364 \r\nL 220.584686 17.083636 \r\nL 221.367112 214.756364 \r\nL 222.149538 214.756364 \r\nL 222.931964 17.083636 \r\nL 223.714389 214.756364 \r\nL 225.279241 214.756364 \r\nL 226.061667 17.083636 \r\nL 226.844093 17.083636 \r\nL 227.626518 214.756364 \r\nL 228.408944 17.083636 \r\nL 229.19137 214.756364 \r\nL 231.538647 214.756364 \r\nL 232.321073 17.083636 \r\nL 233.103499 214.756364 \r\nL 233.885925 214.756364 \r\nL 234.668351 17.083636 \r\nL 235.450776 17.083636 \r\nL 236.233202 214.756364 \r\nL 240.927757 214.756364 \r\nL 241.710183 17.083636 \r\nL 242.492609 214.756364 \r\nL 243.275034 214.756364 \r\nL 244.05746 17.083636 \r\nL 245.622312 17.083636 \r\nL 246.404738 214.756364 \r\nL 253.44657 214.756364 \r\nL 254.228996 17.083636 \r\nL 255.011421 214.756364 \r\nL 257.358699 214.756364 \r\nL 258.141125 17.083636 \r\nL 258.92355 214.756364 \r\nL 266.747808 214.756364 \r\nL 267.530234 17.083636 \r\nL 269.095086 17.083636 \r\nL 269.877512 214.756364 \r\nL 270.659937 17.083636 \r\nL 271.442363 17.083636 \r\nL 272.224789 214.756364 \r\nL 279.266621 214.756364 \r\nL 280.049047 17.083636 \r\nL 280.831473 214.756364 \r\nL 284.743602 214.756364 \r\nL 285.526028 17.083636 \r\nL 286.308453 214.756364 \r\nL 295.697563 214.756364 \r\nL 296.479989 17.083636 \r\nL 297.262415 214.756364 \r\nL 301.956969 214.756364 \r\nL 302.739395 17.083636 \r\nL 303.521821 214.756364 \r\nL 307.43395 214.756364 \r\nL 308.216376 17.083636 \r\nL 308.998802 214.756364 \r\nL 317.605485 214.756364 \r\nL 318.387911 17.083636 \r\nL 319.170337 17.083636 \r\nL 319.952763 214.756364 \r\nL 325.429743 214.756364 \r\nL 326.212169 17.083636 \r\nL 326.994595 214.756364 \r\nL 328.559447 214.756364 \r\nL 329.341872 17.083636 \r\nL 330.124298 214.756364 \r\nL 330.906724 17.083636 \r\nL 331.68915 214.756364 \r\nL 337.948556 214.756364 \r\nL 338.730982 17.083636 \r\nL 339.513408 214.756364 \r\nL 340.295834 17.083636 \r\nL 341.078259 214.756364 \r\nL 344.990388 214.756364 \r\nL 345.772814 17.083636 \r\nL 346.55524 214.756364 \r\nL 348.120092 214.756364 \r\nL 348.902517 17.083636 \r\nL 349.684943 214.756364 \r\nL 349.684943 214.756364 \r\n\" style=\"fill:none;stroke:#1f77b4;stroke-linecap:square;stroke-width:1.5;\"/>\r\n   </g>\r\n   <g id=\"line2d_17\">\r\n    <path clip-path=\"url(#p66b8e56ada)\" d=\"M 45.321307 194.000727 \r\nL 46.103733 186.489164 \r\nL 46.886158 214.756364 \r\nL 47.668584 214.558691 \r\nL 48.45101 214.756364 \r\nL 49.233436 17.083636 \r\nL 50.015862 214.756364 \r\nL 50.798287 214.756364 \r\nL 51.580713 135.884945 \r\nL 52.363139 214.756364 \r\nL 53.145565 214.558691 \r\nL 53.927991 210.605236 \r\nL 54.710416 210.605236 \r\nL 55.492842 214.558691 \r\nL 56.275268 147.942982 \r\nL 57.057694 32.304436 \r\nL 57.84012 17.676655 \r\nL 58.622545 214.756364 \r\nL 59.404971 94.373673 \r\nL 60.187397 159.605673 \r\nL 60.969823 213.768 \r\nL 61.752249 213.372655 \r\nL 62.534674 19.851055 \r\nL 63.3171 46.536873 \r\nL 64.099526 163.7568 \r\nL 64.881952 211.395927 \r\nL 65.664378 214.756364 \r\nL 68.794081 214.756364 \r\nL 70.358932 105.641018 \r\nL 71.141358 214.756364 \r\nL 71.923784 209.221527 \r\nL 72.70621 178.186909 \r\nL 73.488636 214.756364 \r\nL 74.271061 42.583418 \r\nL 75.053487 19.060364 \r\nL 75.835913 211.791273 \r\nL 76.618339 214.756364 \r\nL 78.18319 214.756364 \r\nL 78.965616 213.174982 \r\nL 79.748042 214.756364 \r\nL 80.530468 214.756364 \r\nL 81.312894 193.605382 \r\nL 82.095319 214.756364 \r\nL 82.877745 17.083636 \r\nL 83.660171 17.083636 \r\nL 84.442597 214.756364 \r\nL 86.007448 214.756364 \r\nL 86.789874 213.768 \r\nL 87.5723 214.756364 \r\nL 89.919577 214.756364 \r\nL 90.702003 21.827782 \r\nL 91.484429 214.558691 \r\nL 92.266855 26.7696 \r\nL 93.049281 159.408 \r\nL 93.831706 214.756364 \r\nL 94.614132 208.233164 \r\nL 95.396558 18.072 \r\nL 96.178984 20.048727 \r\nL 96.96141 214.756364 \r\nL 97.743835 213.768 \r\nL 98.526261 212.581964 \r\nL 99.308687 214.756364 \r\nL 100.091113 178.582255 \r\nL 100.873539 151.501091 \r\nL 101.655964 214.756364 \r\nL 103.220816 214.756364 \r\nL 104.003242 80.734255 \r\nL 104.785668 64.129745 \r\nL 105.568093 213.570327 \r\nL 106.350519 17.281309 \r\nL 107.132945 214.756364 \r\nL 107.915371 186.686836 \r\nL 108.697797 207.837818 \r\nL 109.480222 214.756364 \r\nL 110.262648 22.4208 \r\nL 111.045074 21.234764 \r\nL 111.8275 210.209891 \r\nL 112.609926 214.756364 \r\nL 115.739629 214.756364 \r\nL 116.522055 199.930909 \r\nL 117.30448 214.756364 \r\nL 118.086906 191.233309 \r\nL 118.869332 214.756364 \r\nL 121.216609 214.756364 \r\nL 121.999035 213.965673 \r\nL 122.781461 38.234618 \r\nL 123.563887 37.839273 \r\nL 124.346313 214.756364 \r\nL 126.69359 214.756364 \r\nL 127.476016 69.071564 \r\nL 128.258442 214.756364 \r\nL 129.823293 214.756364 \r\nL 130.605719 23.606836 \r\nL 131.388145 19.851055 \r\nL 132.170571 214.163345 \r\nL 132.952996 214.756364 \r\nL 133.735422 104.652655 \r\nL 134.517848 214.756364 \r\nL 136.0827 214.756364 \r\nL 136.865125 17.281309 \r\nL 137.647551 184.512436 \r\nL 138.429977 214.756364 \r\nL 139.994829 214.756364 \r\nL 140.777254 123.036218 \r\nL 141.55968 214.756364 \r\nL 143.906958 214.756364 \r\nL 144.689383 133.117527 \r\nL 145.471809 214.756364 \r\nL 146.254235 194.1984 \r\nL 147.036661 214.756364 \r\nL 147.819087 211.988945 \r\nL 148.601512 64.920436 \r\nL 149.383938 214.756364 \r\nL 157.208196 214.756364 \r\nL 157.990622 17.478982 \r\nL 158.773048 214.756364 \r\nL 159.555474 101.885236 \r\nL 160.337899 214.756364 \r\nL 162.685177 214.756364 \r\nL 163.467603 208.233164 \r\nL 164.250028 214.756364 \r\nL 165.032454 17.083636 \r\nL 165.81488 214.756364 \r\nL 169.727009 214.756364 \r\nL 170.509435 197.361164 \r\nL 171.291861 214.756364 \r\nL 172.074286 213.965673 \r\nL 172.856712 214.756364 \r\nL 173.639138 59.780945 \r\nL 174.421564 214.756364 \r\nL 175.986415 214.756364 \r\nL 176.768841 90.420218 \r\nL 177.551267 214.756364 \r\nL 180.68097 214.756364 \r\nL 182.245822 20.839418 \r\nL 183.028248 214.756364 \r\nL 183.810673 214.756364 \r\nL 184.593099 43.374109 \r\nL 185.375525 214.756364 \r\nL 186.157951 214.361018 \r\nL 186.940377 214.756364 \r\nL 187.722802 152.291782 \r\nL 188.505228 214.756364 \r\nL 189.287654 214.361018 \r\nL 190.07008 214.756364 \r\nL 191.634931 214.756364 \r\nL 192.417357 97.536436 \r\nL 193.199783 214.756364 \r\nL 196.329486 214.756364 \r\nL 197.111912 214.361018 \r\nL 197.894338 214.756364 \r\nL 198.676764 214.756364 \r\nL 199.45919 17.083636 \r\nL 200.241615 214.756364 \r\nL 201.024041 32.502109 \r\nL 201.806467 214.756364 \r\nL 202.588893 26.7696 \r\nL 203.371319 200.128582 \r\nL 204.153744 214.756364 \r\nL 207.283448 214.756364 \r\nL 208.065873 214.361018 \r\nL 208.848299 214.756364 \r\nL 210.413151 214.756364 \r\nL 211.195577 185.896145 \r\nL 211.978002 146.756945 \r\nL 212.760428 209.221527 \r\nL 213.542854 214.756364 \r\nL 214.32528 214.756364 \r\nL 215.107706 205.663418 \r\nL 215.890131 214.756364 \r\nL 218.237409 214.756364 \r\nL 219.019835 203.686691 \r\nL 219.80226 214.756364 \r\nL 220.584686 18.862691 \r\nL 221.367112 214.756364 \r\nL 222.149538 214.756364 \r\nL 222.931964 75.792436 \r\nL 223.714389 214.756364 \r\nL 225.279241 214.756364 \r\nL 226.061667 40.606691 \r\nL 226.844093 18.072 \r\nL 227.626518 213.372655 \r\nL 228.408944 91.210909 \r\nL 229.19137 192.221673 \r\nL 229.973796 211.395927 \r\nL 230.756222 214.756364 \r\nL 231.538647 214.756364 \r\nL 232.321073 86.269091 \r\nL 233.103499 214.756364 \r\nL 233.885925 214.756364 \r\nL 234.668351 18.862691 \r\nL 235.450776 42.978764 \r\nL 236.233202 214.756364 \r\nL 239.362905 214.756364 \r\nL 240.145331 133.3152 \r\nL 240.927757 214.756364 \r\nL 241.710183 22.025455 \r\nL 242.492609 214.756364 \r\nL 243.275034 214.756364 \r\nL 244.05746 61.164655 \r\nL 244.839886 127.385018 \r\nL 245.622312 17.676655 \r\nL 246.404738 214.756364 \r\nL 249.534441 214.756364 \r\nL 250.316867 143.594182 \r\nL 251.099292 214.756364 \r\nL 251.881718 214.756364 \r\nL 252.664144 187.279855 \r\nL 253.44657 214.361018 \r\nL 254.228996 77.966836 \r\nL 255.011421 159.408 \r\nL 255.793847 214.756364 \r\nL 257.358699 214.756364 \r\nL 258.141125 26.967273 \r\nL 258.92355 214.756364 \r\nL 259.705976 214.756364 \r\nL 260.488402 214.558691 \r\nL 261.270828 214.756364 \r\nL 266.747808 214.756364 \r\nL 267.530234 190.047273 \r\nL 268.31266 35.4672 \r\nL 269.095086 17.281309 \r\nL 269.877512 21.234764 \r\nL 270.659937 62.350691 \r\nL 271.442363 39.816 \r\nL 272.224789 214.756364 \r\nL 273.007215 142.210473 \r\nL 273.789641 214.756364 \r\nL 275.354492 214.756364 \r\nL 276.136918 134.501236 \r\nL 276.919344 214.756364 \r\nL 277.70177 211.791273 \r\nL 278.484195 156.442909 \r\nL 279.266621 112.559564 \r\nL 280.049047 145.570909 \r\nL 280.831473 214.163345 \r\nL 281.613899 214.756364 \r\nL 282.396324 214.558691 \r\nL 283.17875 213.174982 \r\nL 283.961176 214.756364 \r\nL 284.743602 211.791273 \r\nL 285.526028 159.408 \r\nL 286.308453 214.756364 \r\nL 288.655731 214.756364 \r\nL 289.438157 213.570327 \r\nL 290.220582 214.756364 \r\nL 291.003008 173.047418 \r\nL 291.785434 154.070836 \r\nL 292.56786 214.756364 \r\nL 295.697563 214.756364 \r\nL 296.479989 53.257745 \r\nL 297.262415 214.756364 \r\nL 298.827266 214.756364 \r\nL 299.609692 212.779636 \r\nL 300.392118 214.756364 \r\nL 301.956969 214.756364 \r\nL 302.739395 17.478982 \r\nL 303.521821 214.756364 \r\nL 305.086673 214.756364 \r\nL 305.869098 188.070545 \r\nL 306.651524 209.814545 \r\nL 307.43395 70.2576 \r\nL 308.216376 17.478982 \r\nL 308.998802 150.512727 \r\nL 309.781227 214.756364 \r\nL 310.563653 214.756364 \r\nL 311.346079 214.558691 \r\nL 312.128505 214.756364 \r\nL 312.910931 39.025309 \r\nL 313.693356 214.756364 \r\nL 314.475782 214.756364 \r\nL 315.258208 214.558691 \r\nL 316.040634 206.454109 \r\nL 316.82306 214.756364 \r\nL 317.605485 193.407709 \r\nL 318.387911 19.060364 \r\nL 319.170337 33.885818 \r\nL 319.952763 214.558691 \r\nL 320.735189 214.756364 \r\nL 321.517614 207.640145 \r\nL 322.30004 214.558691 \r\nL 323.082466 196.570473 \r\nL 323.864892 214.756364 \r\nL 325.429743 214.756364 \r\nL 326.212169 17.281309 \r\nL 326.994595 214.756364 \r\nL 327.777021 214.756364 \r\nL 328.559447 212.384291 \r\nL 329.341872 47.920582 \r\nL 330.124298 108.408436 \r\nL 330.906724 95.164364 \r\nL 331.68915 214.756364 \r\nL 333.254001 214.756364 \r\nL 334.036427 161.384727 \r\nL 334.818853 214.756364 \r\nL 335.601279 204.082036 \r\nL 336.383705 195.186764 \r\nL 337.16613 214.756364 \r\nL 337.948556 214.756364 \r\nL 338.730982 165.535855 \r\nL 339.513408 214.756364 \r\nL 340.295834 17.281309 \r\nL 341.078259 214.558691 \r\nL 341.860685 214.756364 \r\nL 343.425537 214.756364 \r\nL 344.207963 191.233309 \r\nL 344.990388 214.756364 \r\nL 345.772814 37.839273 \r\nL 346.55524 214.756364 \r\nL 348.120092 214.756364 \r\nL 348.902517 33.095127 \r\nL 349.684943 211.791273 \r\nL 349.684943 211.791273 \r\n\" style=\"fill:none;stroke:#ff7f0e;stroke-linecap:square;stroke-width:1.5;\"/>\r\n   </g>\r\n   <g id=\"patch_3\">\r\n    <path d=\"M 30.103125 224.64 \r\nL 30.103125 7.2 \r\n\" style=\"fill:none;stroke:#000000;stroke-linecap:square;stroke-linejoin:miter;stroke-width:0.8;\"/>\r\n   </g>\r\n   <g id=\"patch_4\">\r\n    <path d=\"M 364.903125 224.64 \r\nL 364.903125 7.2 \r\n\" style=\"fill:none;stroke:#000000;stroke-linecap:square;stroke-linejoin:miter;stroke-width:0.8;\"/>\r\n   </g>\r\n   <g id=\"patch_5\">\r\n    <path d=\"M 30.103125 224.64 \r\nL 364.903125 224.64 \r\n\" style=\"fill:none;stroke:#000000;stroke-linecap:square;stroke-linejoin:miter;stroke-width:0.8;\"/>\r\n   </g>\r\n   <g id=\"patch_6\">\r\n    <path d=\"M 30.103125 7.2 \r\nL 364.903125 7.2 \r\n\" style=\"fill:none;stroke:#000000;stroke-linecap:square;stroke-linejoin:miter;stroke-width:0.8;\"/>\r\n   </g>\r\n   <g id=\"legend_1\">\r\n    <g id=\"patch_7\">\r\n     <path d=\"M 298.598438 132.237188 \r\nL 357.903125 132.237188 \r\nQ 359.903125 132.237188 359.903125 130.237188 \r\nL 359.903125 101.602812 \r\nQ 359.903125 99.602812 357.903125 99.602812 \r\nL 298.598438 99.602812 \r\nQ 296.598438 99.602812 296.598438 101.602812 \r\nL 296.598438 130.237188 \r\nQ 296.598438 132.237188 298.598438 132.237188 \r\nz\r\n\" style=\"fill:#ffffff;opacity:0.8;stroke:#cccccc;stroke-linejoin:miter;\"/>\r\n    </g>\r\n    <g id=\"line2d_18\">\r\n     <path d=\"M 300.598438 107.70125 \r\nL 320.598438 107.70125 \r\n\" style=\"fill:none;stroke:#1f77b4;stroke-linecap:square;stroke-width:1.5;\"/>\r\n    </g>\r\n    <g id=\"line2d_19\"/>\r\n    <g id=\"text_16\">\r\n     <!-- y -->\r\n     <defs>\r\n      <path d=\"M 32.171875 -5.078125 \r\nQ 28.375 -14.84375 24.75 -17.8125 \r\nQ 21.140625 -20.796875 15.09375 -20.796875 \r\nL 7.90625 -20.796875 \r\nL 7.90625 -13.28125 \r\nL 13.1875 -13.28125 \r\nQ 16.890625 -13.28125 18.9375 -11.515625 \r\nQ 21 -9.765625 23.484375 -3.21875 \r\nL 25.09375 0.875 \r\nL 2.984375 54.6875 \r\nL 12.5 54.6875 \r\nL 29.59375 11.921875 \r\nL 46.6875 54.6875 \r\nL 56.203125 54.6875 \r\nz\r\n\" id=\"DejaVuSans-121\"/>\r\n     </defs>\r\n     <g transform=\"translate(328.598438 111.20125)scale(0.1 -0.1)\">\r\n      <use xlink:href=\"#DejaVuSans-121\"/>\r\n     </g>\r\n    </g>\r\n    <g id=\"line2d_20\">\r\n     <path d=\"M 300.598438 122.379375 \r\nL 320.598438 122.379375 \r\n\" style=\"fill:none;stroke:#ff7f0e;stroke-linecap:square;stroke-width:1.5;\"/>\r\n    </g>\r\n    <g id=\"line2d_21\"/>\r\n    <g id=\"text_17\">\r\n     <!-- y_hat -->\r\n     <defs>\r\n      <path d=\"M 50.984375 -16.609375 \r\nL 50.984375 -23.578125 \r\nL -0.984375 -23.578125 \r\nL -0.984375 -16.609375 \r\nz\r\n\" id=\"DejaVuSans-95\"/>\r\n      <path d=\"M 54.890625 33.015625 \r\nL 54.890625 0 \r\nL 45.90625 0 \r\nL 45.90625 32.71875 \r\nQ 45.90625 40.484375 42.875 44.328125 \r\nQ 39.84375 48.1875 33.796875 48.1875 \r\nQ 26.515625 48.1875 22.3125 43.546875 \r\nQ 18.109375 38.921875 18.109375 30.90625 \r\nL 18.109375 0 \r\nL 9.078125 0 \r\nL 9.078125 75.984375 \r\nL 18.109375 75.984375 \r\nL 18.109375 46.1875 \r\nQ 21.34375 51.125 25.703125 53.5625 \r\nQ 30.078125 56 35.796875 56 \r\nQ 45.21875 56 50.046875 50.171875 \r\nQ 54.890625 44.34375 54.890625 33.015625 \r\nz\r\n\" id=\"DejaVuSans-104\"/>\r\n      <path d=\"M 34.28125 27.484375 \r\nQ 23.390625 27.484375 19.1875 25 \r\nQ 14.984375 22.515625 14.984375 16.5 \r\nQ 14.984375 11.71875 18.140625 8.90625 \r\nQ 21.296875 6.109375 26.703125 6.109375 \r\nQ 34.1875 6.109375 38.703125 11.40625 \r\nQ 43.21875 16.703125 43.21875 25.484375 \r\nL 43.21875 27.484375 \r\nz\r\nM 52.203125 31.203125 \r\nL 52.203125 0 \r\nL 43.21875 0 \r\nL 43.21875 8.296875 \r\nQ 40.140625 3.328125 35.546875 0.953125 \r\nQ 30.953125 -1.421875 24.3125 -1.421875 \r\nQ 15.921875 -1.421875 10.953125 3.296875 \r\nQ 6 8.015625 6 15.921875 \r\nQ 6 25.140625 12.171875 29.828125 \r\nQ 18.359375 34.515625 30.609375 34.515625 \r\nL 43.21875 34.515625 \r\nL 43.21875 35.40625 \r\nQ 43.21875 41.609375 39.140625 45 \r\nQ 35.0625 48.390625 27.6875 48.390625 \r\nQ 23 48.390625 18.546875 47.265625 \r\nQ 14.109375 46.140625 10.015625 43.890625 \r\nL 10.015625 52.203125 \r\nQ 14.9375 54.109375 19.578125 55.046875 \r\nQ 24.21875 56 28.609375 56 \r\nQ 40.484375 56 46.34375 49.84375 \r\nQ 52.203125 43.703125 52.203125 31.203125 \r\nz\r\n\" id=\"DejaVuSans-97\"/>\r\n      <path d=\"M 18.3125 70.21875 \r\nL 18.3125 54.6875 \r\nL 36.8125 54.6875 \r\nL 36.8125 47.703125 \r\nL 18.3125 47.703125 \r\nL 18.3125 18.015625 \r\nQ 18.3125 11.328125 20.140625 9.421875 \r\nQ 21.96875 7.515625 27.59375 7.515625 \r\nL 36.8125 7.515625 \r\nL 36.8125 0 \r\nL 27.59375 0 \r\nQ 17.1875 0 13.234375 3.875 \r\nQ 9.28125 7.765625 9.28125 18.015625 \r\nL 9.28125 47.703125 \r\nL 2.6875 47.703125 \r\nL 2.6875 54.6875 \r\nL 9.28125 54.6875 \r\nL 9.28125 70.21875 \r\nz\r\n\" id=\"DejaVuSans-116\"/>\r\n     </defs>\r\n     <g transform=\"translate(328.598438 125.879375)scale(0.1 -0.1)\">\r\n      <use xlink:href=\"#DejaVuSans-121\"/>\r\n      <use x=\"59.179688\" xlink:href=\"#DejaVuSans-95\"/>\r\n      <use x=\"109.179688\" xlink:href=\"#DejaVuSans-104\"/>\r\n      <use x=\"172.558594\" xlink:href=\"#DejaVuSans-97\"/>\r\n      <use x=\"233.837891\" xlink:href=\"#DejaVuSans-116\"/>\r\n     </g>\r\n    </g>\r\n   </g>\r\n  </g>\r\n </g>\r\n <defs>\r\n  <clipPath id=\"p66b8e56ada\">\r\n   <rect height=\"217.44\" width=\"334.8\" x=\"30.103125\" y=\"7.2\"/>\r\n  </clipPath>\r\n </defs>\r\n</svg>\r\n",
      "image/png": "[encoded data removed]"
     },
     "metadata": {
      "needs_background": "light"
     }
    }
   ],
   "source": [
    "probit_comp.plot();"
   ]
  },
  {
   "source": [
    "# Exercise 8.2\n",
    "The data set in SMOKING.XLS is part of the data set taken by Mullahy (1997)\n",
    "from the Child Health Supplement to the 1988 National Health Interview Survey.\n",
    "In this exercise, we focus on the decision whether to smoke or not. The data set\n",
    "is based on a survey of N = 1196 men. The dependent variable is the dummy\n",
    "variable smoker which is 1 for smokers (and 0 for non-smokers).\n",
    "The explanatory variables are:\n",
    "* educ = number of years of schooling;\n",
    "* age = age in years;\n",
    "* income = family income in US dollars."
   ],
   "cell_type": "markdown",
   "metadata": {}
  },
  {
   "source": [
    "**Note: SMOKING.XLS is missing from the Koop's textbook dataset**. Instead, data by Mullahy (1997) are taken from the datasets to Wooldrige's \"Introductory Econometrics: A ModernApproach, 6e\", dataset: smoke. Description below."
   ],
   "cell_type": "markdown",
   "metadata": {}
  },
  {
   "source": [
    "SMOKE.DES\n",
    "\n",
    "educ      cigpric   white     age       income    cigs      restaurn  lincome  agesq     lcigpric  \n",
    "\n",
    "  Obs:   807\n",
    "\n",
    "  1. educ                     years of schooling\n",
    "  2. cigpric                  state cigarette price, cents per pack\n",
    "  3. white                    =1 if white\n",
    "  4. age                      in years\n",
    "  5. income                   annual income, $\n",
    "  6. cigs                     cigs. smoked per day\n",
    "  7. restaurn                 =1 if state restaurant smoking restrictions\n",
    "  8. lincome                  log(income)\n",
    "  9. agesq                    age^2\n",
    " 10. lcigpric                 log(cigprice)"
   ],
   "cell_type": "markdown",
   "metadata": {}
  },
  {
   "cell_type": "code",
   "execution_count": 9,
   "metadata": {},
   "outputs": [
    {
     "output_type": "execute_result",
     "data": {
      "text/plain": [
       "     educ  cigpric  white  age  income  cigs  restaurn    lincome  agesq  \\\n",
       "0    16.0   60.506      1   46   20000     0         0   9.903487   2116   \n",
       "1    16.0   57.883      1   40   30000     0         0  10.308950   1600   \n",
       "2    12.0   57.664      1   58   30000     3         0  10.308950   3364   \n",
       "3    13.5   57.883      1   30   20000     0         0   9.903487    900   \n",
       "4    10.0   58.320      1   17   20000     0         0   9.903487    289   \n",
       "..    ...      ...    ...  ...     ...   ...       ...        ...    ...   \n",
       "802  18.0   61.818      0   52   30000    20         0  10.308950   2704   \n",
       "803  18.0   61.676      1   31   12500     0         0   9.433484    961   \n",
       "804  16.0   60.707      1   30   20000     0         0   9.903487    900   \n",
       "805  10.0   59.988      1   18   20000     0         0   9.903487    324   \n",
       "806  10.0   59.652      1   47   30000    20         0  10.308950   2209   \n",
       "\n",
       "     lcigpric  \n",
       "0    4.102743  \n",
       "1    4.058424  \n",
       "2    4.054633  \n",
       "3    4.058424  \n",
       "4    4.065945  \n",
       "..        ...  \n",
       "802  4.124195  \n",
       "803  4.121895  \n",
       "804  4.106059  \n",
       "805  4.094144  \n",
       "806  4.088528  \n",
       "\n",
       "[807 rows x 10 columns]"
      ],
      "text/html": "<div>\n<style scoped>\n    .dataframe tbody tr th:only-of-type {\n        vertical-align: middle;\n    }\n\n    .dataframe tbody tr th {\n        vertical-align: top;\n    }\n\n    .dataframe thead th {\n        text-align: right;\n    }\n</style>\n<table border=\"1\" class=\"dataframe\">\n  <thead>\n    <tr style=\"text-align: right;\">\n      <th></th>\n      <th>educ</th>\n      <th>cigpric</th>\n      <th>white</th>\n      <th>age</th>\n      <th>income</th>\n      <th>cigs</th>\n      <th>restaurn</th>\n      <th>lincome</th>\n      <th>agesq</th>\n      <th>lcigpric</th>\n    </tr>\n  </thead>\n  <tbody>\n    <tr>\n      <th>0</th>\n      <td>16.0</td>\n      <td>60.506</td>\n      <td>1</td>\n      <td>46</td>\n      <td>20000</td>\n      <td>0</td>\n      <td>0</td>\n      <td>9.903487</td>\n      <td>2116</td>\n      <td>4.102743</td>\n    </tr>\n    <tr>\n      <th>1</th>\n      <td>16.0</td>\n      <td>57.883</td>\n      <td>1</td>\n      <td>40</td>\n      <td>30000</td>\n      <td>0</td>\n      <td>0</td>\n      <td>10.308950</td>\n      <td>1600</td>\n      <td>4.058424</td>\n    </tr>\n    <tr>\n      <th>2</th>\n      <td>12.0</td>\n      <td>57.664</td>\n      <td>1</td>\n      <td>58</td>\n      <td>30000</td>\n      <td>3</td>\n      <td>0</td>\n      <td>10.308950</td>\n      <td>3364</td>\n      <td>4.054633</td>\n    </tr>\n    <tr>\n      <th>3</th>\n      <td>13.5</td>\n      <td>57.883</td>\n      <td>1</td>\n      <td>30</td>\n      <td>20000</td>\n      <td>0</td>\n      <td>0</td>\n      <td>9.903487</td>\n      <td>900</td>\n      <td>4.058424</td>\n    </tr>\n    <tr>\n      <th>4</th>\n      <td>10.0</td>\n      <td>58.320</td>\n      <td>1</td>\n      <td>17</td>\n      <td>20000</td>\n      <td>0</td>\n      <td>0</td>\n      <td>9.903487</td>\n      <td>289</td>\n      <td>4.065945</td>\n    </tr>\n    <tr>\n      <th>...</th>\n      <td>...</td>\n      <td>...</td>\n      <td>...</td>\n      <td>...</td>\n      <td>...</td>\n      <td>...</td>\n      <td>...</td>\n      <td>...</td>\n      <td>...</td>\n      <td>...</td>\n    </tr>\n    <tr>\n      <th>802</th>\n      <td>18.0</td>\n      <td>61.818</td>\n      <td>0</td>\n      <td>52</td>\n      <td>30000</td>\n      <td>20</td>\n      <td>0</td>\n      <td>10.308950</td>\n      <td>2704</td>\n      <td>4.124195</td>\n    </tr>\n    <tr>\n      <th>803</th>\n      <td>18.0</td>\n      <td>61.676</td>\n      <td>1</td>\n      <td>31</td>\n      <td>12500</td>\n      <td>0</td>\n      <td>0</td>\n      <td>9.433484</td>\n      <td>961</td>\n      <td>4.121895</td>\n    </tr>\n    <tr>\n      <th>804</th>\n      <td>16.0</td>\n      <td>60.707</td>\n      <td>1</td>\n      <td>30</td>\n      <td>20000</td>\n      <td>0</td>\n      <td>0</td>\n      <td>9.903487</td>\n      <td>900</td>\n      <td>4.106059</td>\n    </tr>\n    <tr>\n      <th>805</th>\n      <td>10.0</td>\n      <td>59.988</td>\n      <td>1</td>\n      <td>18</td>\n      <td>20000</td>\n      <td>0</td>\n      <td>0</td>\n      <td>9.903487</td>\n      <td>324</td>\n      <td>4.094144</td>\n    </tr>\n    <tr>\n      <th>806</th>\n      <td>10.0</td>\n      <td>59.652</td>\n      <td>1</td>\n      <td>47</td>\n      <td>30000</td>\n      <td>20</td>\n      <td>0</td>\n      <td>10.308950</td>\n      <td>2209</td>\n      <td>4.088528</td>\n    </tr>\n  </tbody>\n</table>\n<p>807 rows × 10 columns</p>\n</div>"
     },
     "metadata": {},
     "execution_count": 9
    }
   ],
   "source": [
    "colnames = ['educ', 'cigpric', 'white', 'age', 'income', 'cigs', 'restaurn', 'lincome', 'agesq', 'lcigpric']\n",
    "smoking = pd.read_excel(r'datasets\\SMOKE.xls', header = None, names = colnames)\n",
    "smoking"
   ]
  },
  {
   "source": [
    "Since there is not dummy variable smoker/non-smoker, we create one, based on the cigs variable"
   ],
   "cell_type": "markdown",
   "metadata": {}
  },
  {
   "cell_type": "code",
   "execution_count": 10,
   "metadata": {},
   "outputs": [
    {
     "output_type": "execute_result",
     "data": {
      "text/plain": [
       "     educ  cigpric  white  age  income  cigs  restaurn    lincome  agesq  \\\n",
       "0    16.0   60.506      1   46   20000     0         0   9.903487   2116   \n",
       "1    16.0   57.883      1   40   30000     0         0  10.308950   1600   \n",
       "2    12.0   57.664      1   58   30000     3         0  10.308950   3364   \n",
       "3    13.5   57.883      1   30   20000     0         0   9.903487    900   \n",
       "4    10.0   58.320      1   17   20000     0         0   9.903487    289   \n",
       "..    ...      ...    ...  ...     ...   ...       ...        ...    ...   \n",
       "802  18.0   61.818      0   52   30000    20         0  10.308950   2704   \n",
       "803  18.0   61.676      1   31   12500     0         0   9.433484    961   \n",
       "804  16.0   60.707      1   30   20000     0         0   9.903487    900   \n",
       "805  10.0   59.988      1   18   20000     0         0   9.903487    324   \n",
       "806  10.0   59.652      1   47   30000    20         0  10.308950   2209   \n",
       "\n",
       "     lcigpric  smoker  \n",
       "0    4.102743       0  \n",
       "1    4.058424       0  \n",
       "2    4.054633       1  \n",
       "3    4.058424       0  \n",
       "4    4.065945       0  \n",
       "..        ...     ...  \n",
       "802  4.124195       1  \n",
       "803  4.121895       0  \n",
       "804  4.106059       0  \n",
       "805  4.094144       0  \n",
       "806  4.088528       1  \n",
       "\n",
       "[807 rows x 11 columns]"
      ],
      "text/html": "<div>\n<style scoped>\n    .dataframe tbody tr th:only-of-type {\n        vertical-align: middle;\n    }\n\n    .dataframe tbody tr th {\n        vertical-align: top;\n    }\n\n    .dataframe thead th {\n        text-align: right;\n    }\n</style>\n<table border=\"1\" class=\"dataframe\">\n  <thead>\n    <tr style=\"text-align: right;\">\n      <th></th>\n      <th>educ</th>\n      <th>cigpric</th>\n      <th>white</th>\n      <th>age</th>\n      <th>income</th>\n      <th>cigs</th>\n      <th>restaurn</th>\n      <th>lincome</th>\n      <th>agesq</th>\n      <th>lcigpric</th>\n      <th>smoker</th>\n    </tr>\n  </thead>\n  <tbody>\n    <tr>\n      <th>0</th>\n      <td>16.0</td>\n      <td>60.506</td>\n      <td>1</td>\n      <td>46</td>\n      <td>20000</td>\n      <td>0</td>\n      <td>0</td>\n      <td>9.903487</td>\n      <td>2116</td>\n      <td>4.102743</td>\n      <td>0</td>\n    </tr>\n    <tr>\n      <th>1</th>\n      <td>16.0</td>\n      <td>57.883</td>\n      <td>1</td>\n      <td>40</td>\n      <td>30000</td>\n      <td>0</td>\n      <td>0</td>\n      <td>10.308950</td>\n      <td>1600</td>\n      <td>4.058424</td>\n      <td>0</td>\n    </tr>\n    <tr>\n      <th>2</th>\n      <td>12.0</td>\n      <td>57.664</td>\n      <td>1</td>\n      <td>58</td>\n      <td>30000</td>\n      <td>3</td>\n      <td>0</td>\n      <td>10.308950</td>\n      <td>3364</td>\n      <td>4.054633</td>\n      <td>1</td>\n    </tr>\n    <tr>\n      <th>3</th>\n      <td>13.5</td>\n      <td>57.883</td>\n      <td>1</td>\n      <td>30</td>\n      <td>20000</td>\n      <td>0</td>\n      <td>0</td>\n      <td>9.903487</td>\n      <td>900</td>\n      <td>4.058424</td>\n      <td>0</td>\n    </tr>\n    <tr>\n      <th>4</th>\n      <td>10.0</td>\n      <td>58.320</td>\n      <td>1</td>\n      <td>17</td>\n      <td>20000</td>\n      <td>0</td>\n      <td>0</td>\n      <td>9.903487</td>\n      <td>289</td>\n      <td>4.065945</td>\n      <td>0</td>\n    </tr>\n    <tr>\n      <th>...</th>\n      <td>...</td>\n      <td>...</td>\n      <td>...</td>\n      <td>...</td>\n      <td>...</td>\n      <td>...</td>\n      <td>...</td>\n      <td>...</td>\n      <td>...</td>\n      <td>...</td>\n      <td>...</td>\n    </tr>\n    <tr>\n      <th>802</th>\n      <td>18.0</td>\n      <td>61.818</td>\n      <td>0</td>\n      <td>52</td>\n      <td>30000</td>\n      <td>20</td>\n      <td>0</td>\n      <td>10.308950</td>\n      <td>2704</td>\n      <td>4.124195</td>\n      <td>1</td>\n    </tr>\n    <tr>\n      <th>803</th>\n      <td>18.0</td>\n      <td>61.676</td>\n      <td>1</td>\n      <td>31</td>\n      <td>12500</td>\n      <td>0</td>\n      <td>0</td>\n      <td>9.433484</td>\n      <td>961</td>\n      <td>4.121895</td>\n      <td>0</td>\n    </tr>\n    <tr>\n      <th>804</th>\n      <td>16.0</td>\n      <td>60.707</td>\n      <td>1</td>\n      <td>30</td>\n      <td>20000</td>\n      <td>0</td>\n      <td>0</td>\n      <td>9.903487</td>\n      <td>900</td>\n      <td>4.106059</td>\n      <td>0</td>\n    </tr>\n    <tr>\n      <th>805</th>\n      <td>10.0</td>\n      <td>59.988</td>\n      <td>1</td>\n      <td>18</td>\n      <td>20000</td>\n      <td>0</td>\n      <td>0</td>\n      <td>9.903487</td>\n      <td>324</td>\n      <td>4.094144</td>\n      <td>0</td>\n    </tr>\n    <tr>\n      <th>806</th>\n      <td>10.0</td>\n      <td>59.652</td>\n      <td>1</td>\n      <td>47</td>\n      <td>30000</td>\n      <td>20</td>\n      <td>0</td>\n      <td>10.308950</td>\n      <td>2209</td>\n      <td>4.088528</td>\n      <td>1</td>\n    </tr>\n  </tbody>\n</table>\n<p>807 rows × 11 columns</p>\n</div>"
     },
     "metadata": {},
     "execution_count": 10
    }
   ],
   "source": [
    "smoking['smoker'] = [1 if x > 0 else 0 for x in smoking['cigs']]\n",
    "smoking"
   ]
  },
  {
   "source": [
    "\n",
    "(a) Estimate a logit model using this data set and discuss the significance of each\n",
    "explanatory variable."
   ],
   "cell_type": "markdown",
   "metadata": {}
  },
  {
   "cell_type": "code",
   "execution_count": 11,
   "metadata": {},
   "outputs": [
    {
     "output_type": "stream",
     "name": "stdout",
     "text": [
      "Optimization terminated successfully.\n         Current function value: 0.649901\n         Iterations 5\n"
     ]
    },
    {
     "output_type": "execute_result",
     "data": {
      "text/plain": [
       "<class 'statsmodels.iolib.summary2.Summary'>\n",
       "\"\"\"\n",
       "                         Results: Logit\n",
       "=================================================================\n",
       "Model:              Logit            Pseudo R-squared: 0.024     \n",
       "Dependent Variable: smoker           AIC:              1056.9406 \n",
       "Date:               2021-04-08 16:08 BIC:              1075.7139 \n",
       "No. Observations:   807              Log-Likelihood:   -524.47   \n",
       "Df Model:           3                LL-Null:          -537.51   \n",
       "Df Residuals:       803              LLR p-value:      9.2187e-06\n",
       "Converged:          1.0000           Scale:            1.0000    \n",
       "No. Iterations:     5.0000                                       \n",
       "-------------------------------------------------------------------\n",
       "           Coef.    Std.Err.      z      P>|z|     [0.025    0.975]\n",
       "-------------------------------------------------------------------\n",
       "const      1.3639     0.4013    3.3983   0.0007    0.5773    2.1505\n",
       "educ      -0.1114     0.0267   -4.1757   0.0000   -0.1637   -0.0591\n",
       "income     0.0000     0.0000    1.1197   0.2628   -0.0000    0.0000\n",
       "age       -0.0157     0.0045   -3.5038   0.0005   -0.0245   -0.0069\n",
       "=================================================================\n",
       "\n",
       "\"\"\""
      ],
      "text/html": "<table class=\"simpletable\">\n<tr>\n        <td>Model:</td>              <td>Logit</td>      <td>Pseudo R-squared:</td>    <td>0.024</td>  \n</tr>\n<tr>\n  <td>Dependent Variable:</td>      <td>smoker</td>            <td>AIC:</td>         <td>1056.9406</td>\n</tr>\n<tr>\n         <td>Date:</td>        <td>2021-04-08 16:08</td>       <td>BIC:</td>         <td>1075.7139</td>\n</tr>\n<tr>\n   <td>No. Observations:</td>         <td>807</td>        <td>Log-Likelihood:</td>    <td>-524.47</td> \n</tr>\n<tr>\n       <td>Df Model:</td>              <td>3</td>            <td>LL-Null:</td>        <td>-537.51</td> \n</tr>\n<tr>\n     <td>Df Residuals:</td>           <td>803</td>         <td>LLR p-value:</td>    <td>9.2187e-06</td>\n</tr>\n<tr>\n      <td>Converged:</td>           <td>1.0000</td>           <td>Scale:</td>         <td>1.0000</td>  \n</tr>\n<tr>\n    <td>No. Iterations:</td>        <td>5.0000</td>              <td></td>               <td></td>     \n</tr>\n</table>\n<table class=\"simpletable\">\n<tr>\n     <td></td>     <th>Coef.</th>  <th>Std.Err.</th>    <th>z</th>     <th>P>|z|</th> <th>[0.025</th>  <th>0.975]</th> \n</tr>\n<tr>\n  <th>const</th>  <td>1.3639</td>   <td>0.4013</td>  <td>3.3983</td>  <td>0.0007</td> <td>0.5773</td>  <td>2.1505</td> \n</tr>\n<tr>\n  <th>educ</th>   <td>-0.1114</td>  <td>0.0267</td>  <td>-4.1757</td> <td>0.0000</td> <td>-0.1637</td> <td>-0.0591</td>\n</tr>\n<tr>\n  <th>income</th> <td>0.0000</td>   <td>0.0000</td>  <td>1.1197</td>  <td>0.2628</td> <td>-0.0000</td> <td>0.0000</td> \n</tr>\n<tr>\n  <th>age</th>    <td>-0.0157</td>  <td>0.0045</td>  <td>-3.5038</td> <td>0.0005</td> <td>-0.0245</td> <td>-0.0069</td>\n</tr>\n</table>"
     },
     "metadata": {},
     "execution_count": 11
    }
   ],
   "source": [
    "y = smoking['smoker']\n",
    "X = smoking[['educ', 'income', 'age']]\n",
    "logit_smoking = sm.Logit(y, sm.add_constant(X))\n",
    "logit_smoking_fit = logit_smoking.fit()\n",
    "logit_smoking_fit.summary2()"
   ]
  },
  {
   "source": [
    "(b) What does the sign of each coefficient tell you about the effect of each explanatory\n",
    "variable on choosing to smoke?"
   ],
   "cell_type": "markdown",
   "metadata": {}
  },
  {
   "cell_type": "code",
   "execution_count": 12,
   "metadata": {},
   "outputs": [
    {
     "output_type": "execute_result",
     "data": {
      "text/plain": [
       "        Significant  Negative impact on smoking\n",
       "const          True                       False\n",
       "educ           True                        True\n",
       "income        False                       False\n",
       "age            True                        True"
      ],
      "text/html": "<div>\n<style scoped>\n    .dataframe tbody tr th:only-of-type {\n        vertical-align: middle;\n    }\n\n    .dataframe tbody tr th {\n        vertical-align: top;\n    }\n\n    .dataframe thead th {\n        text-align: right;\n    }\n</style>\n<table border=\"1\" class=\"dataframe\">\n  <thead>\n    <tr style=\"text-align: right;\">\n      <th></th>\n      <th>Significant</th>\n      <th>Negative impact on smoking</th>\n    </tr>\n  </thead>\n  <tbody>\n    <tr>\n      <th>const</th>\n      <td>True</td>\n      <td>False</td>\n    </tr>\n    <tr>\n      <th>educ</th>\n      <td>True</td>\n      <td>True</td>\n    </tr>\n    <tr>\n      <th>income</th>\n      <td>False</td>\n      <td>False</td>\n    </tr>\n    <tr>\n      <th>age</th>\n      <td>True</td>\n      <td>True</td>\n    </tr>\n  </tbody>\n</table>\n</div>"
     },
     "metadata": {},
     "execution_count": 12
    }
   ],
   "source": [
    "pd.DataFrame({'Significant': logit_smoking_fit.pvalues < 0.1, 'Negative impact on smoking': logit_smoking_fit.params < 0})"
   ]
  },
  {
   "source": [
    "(c) Calculate the marginal effect of each explanatory variable on the probability\n",
    "of choosing to smoke. Interpret these marginal effects."
   ],
   "cell_type": "markdown",
   "metadata": {}
  },
  {
   "cell_type": "code",
   "execution_count": 13,
   "metadata": {},
   "outputs": [
    {
     "output_type": "execute_result",
     "data": {
      "text/plain": [
       "<class 'statsmodels.iolib.summary.Summary'>\n",
       "\"\"\"\n",
       "        Logit Marginal Effects       \n",
       "=====================================\n",
       "Dep. Variable:                 smoker\n",
       "Method:                          dydx\n",
       "At:                           overall\n",
       "==============================================================================\n",
       "                dy/dx    std err          z      P>|z|      [0.025      0.975]\n",
       "------------------------------------------------------------------------------\n",
       "educ          -0.0255      0.006     -4.352      0.000      -0.037      -0.014\n",
       "income      2.186e-06   1.95e-06      1.123      0.261   -1.63e-06       6e-06\n",
       "age           -0.0036      0.001     -3.606      0.000      -0.006      -0.002\n",
       "==============================================================================\n",
       "\"\"\""
      ],
      "text/html": "<table class=\"simpletable\">\n<caption>Logit Marginal Effects</caption>\n<tr>\n  <th>Dep. Variable:</th> <td>smoker</td> \n</tr>\n<tr>\n  <th>Method:</th>         <td>dydx</td>  \n</tr>\n<tr>\n  <th>At:</th>            <td>overall</td>\n</tr>\n</table>\n<table class=\"simpletable\">\n<tr>\n     <th></th>       <th>dy/dx</th>    <th>std err</th>      <th>z</th>      <th>P>|z|</th>  <th>[0.025</th>    <th>0.975]</th>  \n</tr>\n<tr>\n  <th>educ</th>   <td>   -0.0255</td> <td>    0.006</td> <td>   -4.352</td> <td> 0.000</td> <td>   -0.037</td> <td>   -0.014</td>\n</tr>\n<tr>\n  <th>income</th> <td> 2.186e-06</td> <td> 1.95e-06</td> <td>    1.123</td> <td> 0.261</td> <td>-1.63e-06</td> <td>    6e-06</td>\n</tr>\n<tr>\n  <th>age</th>    <td>   -0.0036</td> <td>    0.001</td> <td>   -3.606</td> <td> 0.000</td> <td>   -0.006</td> <td>   -0.002</td>\n</tr>\n</table>"
     },
     "metadata": {},
     "execution_count": 13
    }
   ],
   "source": [
    "margeff_logit_smoking = logit_smoking_fit.get_margeff()\n",
    "margeff_logit_smoking.summary()"
   ]
  },
  {
   "source": [
    "(d) Repeat parts (a) to (c) for a probit model."
   ],
   "cell_type": "markdown",
   "metadata": {}
  },
  {
   "cell_type": "code",
   "execution_count": 14,
   "metadata": {},
   "outputs": [
    {
     "output_type": "stream",
     "name": "stdout",
     "text": [
      "Optimization terminated successfully.\n         Current function value: 0.649661\n         Iterations 5\n"
     ]
    },
    {
     "output_type": "execute_result",
     "data": {
      "text/plain": [
       "<class 'statsmodels.iolib.summary2.Summary'>\n",
       "\"\"\"\n",
       "                         Results: Probit\n",
       "=================================================================\n",
       "Model:              Probit           Pseudo R-squared: 0.025     \n",
       "Dependent Variable: smoker           AIC:              1056.5523 \n",
       "Date:               2021-04-08 16:08 BIC:              1075.3256 \n",
       "No. Observations:   807              Log-Likelihood:   -524.28   \n",
       "Df Model:           3                LL-Null:          -537.51   \n",
       "Df Residuals:       803              LLR p-value:      7.6446e-06\n",
       "Converged:          1.0000           Scale:            1.0000    \n",
       "No. Iterations:     5.0000                                       \n",
       "-------------------------------------------------------------------\n",
       "           Coef.    Std.Err.      z      P>|z|     [0.025    0.975]\n",
       "-------------------------------------------------------------------\n",
       "const      0.8541     0.2473    3.4541   0.0006    0.3695    1.3388\n",
       "educ      -0.0694     0.0163   -4.2485   0.0000   -0.1014   -0.0374\n",
       "income     0.0000     0.0000    1.1131   0.2657   -0.0000    0.0000\n",
       "age       -0.0098     0.0028   -3.5551   0.0004   -0.0153   -0.0044\n",
       "=================================================================\n",
       "\n",
       "\"\"\""
      ],
      "text/html": "<table class=\"simpletable\">\n<tr>\n        <td>Model:</td>             <td>Probit</td>      <td>Pseudo R-squared:</td>    <td>0.025</td>  \n</tr>\n<tr>\n  <td>Dependent Variable:</td>      <td>smoker</td>            <td>AIC:</td>         <td>1056.5523</td>\n</tr>\n<tr>\n         <td>Date:</td>        <td>2021-04-08 16:08</td>       <td>BIC:</td>         <td>1075.3256</td>\n</tr>\n<tr>\n   <td>No. Observations:</td>         <td>807</td>        <td>Log-Likelihood:</td>    <td>-524.28</td> \n</tr>\n<tr>\n       <td>Df Model:</td>              <td>3</td>            <td>LL-Null:</td>        <td>-537.51</td> \n</tr>\n<tr>\n     <td>Df Residuals:</td>           <td>803</td>         <td>LLR p-value:</td>    <td>7.6446e-06</td>\n</tr>\n<tr>\n      <td>Converged:</td>           <td>1.0000</td>           <td>Scale:</td>         <td>1.0000</td>  \n</tr>\n<tr>\n    <td>No. Iterations:</td>        <td>5.0000</td>              <td></td>               <td></td>     \n</tr>\n</table>\n<table class=\"simpletable\">\n<tr>\n     <td></td>     <th>Coef.</th>  <th>Std.Err.</th>    <th>z</th>     <th>P>|z|</th> <th>[0.025</th>  <th>0.975]</th> \n</tr>\n<tr>\n  <th>const</th>  <td>0.8541</td>   <td>0.2473</td>  <td>3.4541</td>  <td>0.0006</td> <td>0.3695</td>  <td>1.3388</td> \n</tr>\n<tr>\n  <th>educ</th>   <td>-0.0694</td>  <td>0.0163</td>  <td>-4.2485</td> <td>0.0000</td> <td>-0.1014</td> <td>-0.0374</td>\n</tr>\n<tr>\n  <th>income</th> <td>0.0000</td>   <td>0.0000</td>  <td>1.1131</td>  <td>0.2657</td> <td>-0.0000</td> <td>0.0000</td> \n</tr>\n<tr>\n  <th>age</th>    <td>-0.0098</td>  <td>0.0028</td>  <td>-3.5551</td> <td>0.0004</td> <td>-0.0153</td> <td>-0.0044</td>\n</tr>\n</table>"
     },
     "metadata": {},
     "execution_count": 14
    }
   ],
   "source": [
    "probit_smoking = sm.Probit(y, sm.add_constant(X))\n",
    "probit_smoking_fit = probit_smoking.fit()\n",
    "probit_smoking_fit.summary2()"
   ]
  },
  {
   "cell_type": "code",
   "execution_count": 15,
   "metadata": {},
   "outputs": [
    {
     "output_type": "execute_result",
     "data": {
      "text/plain": [
       "        Significant  Negative impact on smoking\n",
       "const          True                       False\n",
       "educ           True                        True\n",
       "income        False                       False\n",
       "age            True                        True"
      ],
      "text/html": "<div>\n<style scoped>\n    .dataframe tbody tr th:only-of-type {\n        vertical-align: middle;\n    }\n\n    .dataframe tbody tr th {\n        vertical-align: top;\n    }\n\n    .dataframe thead th {\n        text-align: right;\n    }\n</style>\n<table border=\"1\" class=\"dataframe\">\n  <thead>\n    <tr style=\"text-align: right;\">\n      <th></th>\n      <th>Significant</th>\n      <th>Negative impact on smoking</th>\n    </tr>\n  </thead>\n  <tbody>\n    <tr>\n      <th>const</th>\n      <td>True</td>\n      <td>False</td>\n    </tr>\n    <tr>\n      <th>educ</th>\n      <td>True</td>\n      <td>True</td>\n    </tr>\n    <tr>\n      <th>income</th>\n      <td>False</td>\n      <td>False</td>\n    </tr>\n    <tr>\n      <th>age</th>\n      <td>True</td>\n      <td>True</td>\n    </tr>\n  </tbody>\n</table>\n</div>"
     },
     "metadata": {},
     "execution_count": 15
    }
   ],
   "source": [
    "pd.DataFrame({'Significant': probit_smoking_fit.pvalues < 0.1, 'Negative impact on smoking': probit_smoking_fit.params < 0})"
   ]
  },
  {
   "cell_type": "code",
   "execution_count": 16,
   "metadata": {},
   "outputs": [
    {
     "output_type": "execute_result",
     "data": {
      "text/plain": [
       "<class 'statsmodels.iolib.summary.Summary'>\n",
       "\"\"\"\n",
       "       Probit Marginal Effects       \n",
       "=====================================\n",
       "Dep. Variable:                 smoker\n",
       "Method:                          dydx\n",
       "At:                           overall\n",
       "==============================================================================\n",
       "                dy/dx    std err          z      P>|z|      [0.025      0.975]\n",
       "------------------------------------------------------------------------------\n",
       "educ          -0.0258      0.006     -4.400      0.000      -0.037      -0.014\n",
       "income      2.162e-06   1.94e-06      1.116      0.265   -1.64e-06    5.96e-06\n",
       "age           -0.0037      0.001     -3.644      0.000      -0.006      -0.002\n",
       "==============================================================================\n",
       "\"\"\""
      ],
      "text/html": "<table class=\"simpletable\">\n<caption>Probit Marginal Effects</caption>\n<tr>\n  <th>Dep. Variable:</th> <td>smoker</td> \n</tr>\n<tr>\n  <th>Method:</th>         <td>dydx</td>  \n</tr>\n<tr>\n  <th>At:</th>            <td>overall</td>\n</tr>\n</table>\n<table class=\"simpletable\">\n<tr>\n     <th></th>       <th>dy/dx</th>    <th>std err</th>      <th>z</th>      <th>P>|z|</th>  <th>[0.025</th>    <th>0.975]</th>  \n</tr>\n<tr>\n  <th>educ</th>   <td>   -0.0258</td> <td>    0.006</td> <td>   -4.400</td> <td> 0.000</td> <td>   -0.037</td> <td>   -0.014</td>\n</tr>\n<tr>\n  <th>income</th> <td> 2.162e-06</td> <td> 1.94e-06</td> <td>    1.116</td> <td> 0.265</td> <td>-1.64e-06</td> <td> 5.96e-06</td>\n</tr>\n<tr>\n  <th>age</th>    <td>   -0.0037</td> <td>    0.001</td> <td>   -3.644</td> <td> 0.000</td> <td>   -0.006</td> <td>   -0.002</td>\n</tr>\n</table>"
     },
     "metadata": {},
     "execution_count": 16
    }
   ],
   "source": [
    "margeff_probit_smoking = probit_smoking_fit.get_margeff()\n",
    "margeff_probit_smoking.summary()"
   ]
  },
  {
   "source": [
    "(e) Compare your logit and probit results. Do they lead to similar conclusions\n",
    "on which factors affect the decision to smoke?"
   ],
   "cell_type": "markdown",
   "metadata": {}
  },
  {
   "cell_type": "code",
   "execution_count": 17,
   "metadata": {},
   "outputs": [
    {
     "output_type": "execute_result",
     "data": {
      "text/plain": [
       "        Logit_param  Logit_pvalue  Probit_param  Probit_pvalue\n",
       "const      1.363913      0.000678      0.854136       0.000552\n",
       "educ      -0.111432      0.000030     -0.069388       0.000022\n",
       "income     0.000010      0.262823      0.000006       0.265659\n",
       "age       -0.015707      0.000459     -0.009837       0.000378"
      ],
      "text/html": "<div>\n<style scoped>\n    .dataframe tbody tr th:only-of-type {\n        vertical-align: middle;\n    }\n\n    .dataframe tbody tr th {\n        vertical-align: top;\n    }\n\n    .dataframe thead th {\n        text-align: right;\n    }\n</style>\n<table border=\"1\" class=\"dataframe\">\n  <thead>\n    <tr style=\"text-align: right;\">\n      <th></th>\n      <th>Logit_param</th>\n      <th>Logit_pvalue</th>\n      <th>Probit_param</th>\n      <th>Probit_pvalue</th>\n    </tr>\n  </thead>\n  <tbody>\n    <tr>\n      <th>const</th>\n      <td>1.363913</td>\n      <td>0.000678</td>\n      <td>0.854136</td>\n      <td>0.000552</td>\n    </tr>\n    <tr>\n      <th>educ</th>\n      <td>-0.111432</td>\n      <td>0.000030</td>\n      <td>-0.069388</td>\n      <td>0.000022</td>\n    </tr>\n    <tr>\n      <th>income</th>\n      <td>0.000010</td>\n      <td>0.262823</td>\n      <td>0.000006</td>\n      <td>0.265659</td>\n    </tr>\n    <tr>\n      <th>age</th>\n      <td>-0.015707</td>\n      <td>0.000459</td>\n      <td>-0.009837</td>\n      <td>0.000378</td>\n    </tr>\n  </tbody>\n</table>\n</div>"
     },
     "metadata": {},
     "execution_count": 17
    }
   ],
   "source": [
    "pd.DataFrame({'Logit_param': logit_smoking_fit.params, 'Logit_pvalue': logit_smoking_fit.pvalues,\n",
    "'Probit_param': probit_smoking_fit.params, 'Probit_pvalue': probit_smoking_fit.pvalues})"
   ]
  },
  {
   "source": [
    "(there is no f)\n",
    "\n",
    "(g) Which of the logit and probit models fits better, if you measure fit by the\n",
    "number of correct predictions each makes?"
   ],
   "cell_type": "markdown",
   "metadata": {}
  },
  {
   "cell_type": "code",
   "execution_count": 18,
   "metadata": {},
   "outputs": [
    {
     "output_type": "execute_result",
     "data": {
      "text/plain": [
       "         Correct  Pseudo R^2\n",
       "Logit   0.596035    0.024251\n",
       "Probit  0.596035    0.024613"
      ],
      "text/html": "<div>\n<style scoped>\n    .dataframe tbody tr th:only-of-type {\n        vertical-align: middle;\n    }\n\n    .dataframe tbody tr th {\n        vertical-align: top;\n    }\n\n    .dataframe thead th {\n        text-align: right;\n    }\n</style>\n<table border=\"1\" class=\"dataframe\">\n  <thead>\n    <tr style=\"text-align: right;\">\n      <th></th>\n      <th>Correct</th>\n      <th>Pseudo R^2</th>\n    </tr>\n  </thead>\n  <tbody>\n    <tr>\n      <th>Logit</th>\n      <td>0.596035</td>\n      <td>0.024251</td>\n    </tr>\n    <tr>\n      <th>Probit</th>\n      <td>0.596035</td>\n      <td>0.024613</td>\n    </tr>\n  </tbody>\n</table>\n</div>"
     },
     "metadata": {},
     "execution_count": 18
    }
   ],
   "source": [
    "import numpy as np\n",
    "# Logit\n",
    "logit_correct = (logit_smoking_fit.pred_table()[0, 0] + logit_smoking_fit.pred_table()[1, 1]) / np.sum(logit_smoking_fit.pred_table())\n",
    "# Probit\n",
    "probit_correct = (probit_smoking_fit.pred_table()[0, 0] + probit_smoking_fit.pred_table()[1, 1]) / np.sum(probit_smoking_fit.pred_table())\n",
    "pd.DataFrame({'Correct': [logit_correct, probit_correct],\n",
    "    'Pseudo R^2': [logit_smoking_fit.prsquared, probit_smoking_fit.prsquared]}, \n",
    "    index = (['Logit', 'Probit']))"
   ]
  }
 ],
 "metadata": {
  "kernelspec": {
   "name": "python374jvsc74a57bd0b3ba2566441a7c06988d0923437866b63cedc61552a5af99d1f4fb67d367b25f",
   "display_name": "Python 3.7.4 64-bit ('base': conda)"
  },
  "language_info": {
   "codemirror_mode": {
    "name": "ipython",
    "version": 3
   },
   "file_extension": ".py",
   "mimetype": "text/x-python",
   "name": "python",
   "nbconvert_exporter": "python",
   "pygments_lexer": "ipython3",
   "version": "3.7.4"
  }
 },
 "nbformat": 4,
 "nbformat_minor": 2
}