{
 "cells": [
  {
   "cell_type": "markdown",
   "metadata": {},
   "source": [
    "**Python solutions to Gary Koop's \"Analysis of Economic Data\" (4th ed., 2013)**\n",
    "\n",
    "**Chapter 11: Regression with Time Series Variables**\n",
    "\n",
    "Jakub Janus, [jakub.janus@uek.krakow.pl](jakub.janus@uek.krakow.pl)"
   ]
  },
  {
   "cell_type": "markdown",
   "metadata": {},
   "source": [
    "# Exercise 11.1\n",
    "Use the variables Y = percentage change in sales and X = percentage change in\n",
    "computer purchases in data set COMPUTER.XLS to decide whether the model\n",
    "estimated in Table 11.1 is a good one. In particular,\n",
    "\n",
    "(a) Establish whether Y and X really do not have unit roots as was assumed in\n",
    "Example 11.1."
   ]
  },
  {
   "cell_type": "code",
   "execution_count": 1,
   "metadata": {},
   "outputs": [
    {
     "data": {
      "text/html": [
       "<div>\n",
       "<style scoped>\n",
       "    .dataframe tbody tr th:only-of-type {\n",
       "        vertical-align: middle;\n",
       "    }\n",
       "\n",
       "    .dataframe tbody tr th {\n",
       "        vertical-align: top;\n",
       "    }\n",
       "\n",
       "    .dataframe thead th {\n",
       "        text-align: right;\n",
       "    }\n",
       "</style>\n",
       "<table border=\"1\" class=\"dataframe\">\n",
       "  <thead>\n",
       "    <tr style=\"text-align: right;\">\n",
       "      <th></th>\n",
       "      <th>Unnamed: 0</th>\n",
       "      <th>%ch sales</th>\n",
       "      <th>%ch comp. Purch.</th>\n",
       "      <th>purch.</th>\n",
       "    </tr>\n",
       "  </thead>\n",
       "  <tbody>\n",
       "    <tr>\n",
       "      <th>0</th>\n",
       "      <td>1</td>\n",
       "      <td>3.175741</td>\n",
       "      <td>1.675150</td>\n",
       "      <td>NaN</td>\n",
       "    </tr>\n",
       "    <tr>\n",
       "      <th>1</th>\n",
       "      <td>2</td>\n",
       "      <td>4.586927</td>\n",
       "      <td>0.246478</td>\n",
       "      <td>NaN</td>\n",
       "    </tr>\n",
       "    <tr>\n",
       "      <th>2</th>\n",
       "      <td>3</td>\n",
       "      <td>5.410200</td>\n",
       "      <td>0.333241</td>\n",
       "      <td>NaN</td>\n",
       "    </tr>\n",
       "    <tr>\n",
       "      <th>3</th>\n",
       "      <td>4</td>\n",
       "      <td>5.681870</td>\n",
       "      <td>0.969183</td>\n",
       "      <td>NaN</td>\n",
       "    </tr>\n",
       "    <tr>\n",
       "      <th>4</th>\n",
       "      <td>5</td>\n",
       "      <td>4.618571</td>\n",
       "      <td>0.147318</td>\n",
       "      <td>NaN</td>\n",
       "    </tr>\n",
       "    <tr>\n",
       "      <th>...</th>\n",
       "      <td>...</td>\n",
       "      <td>...</td>\n",
       "      <td>...</td>\n",
       "      <td>...</td>\n",
       "    </tr>\n",
       "    <tr>\n",
       "      <th>93</th>\n",
       "      <td>94</td>\n",
       "      <td>0.546180</td>\n",
       "      <td>1.079061</td>\n",
       "      <td>NaN</td>\n",
       "    </tr>\n",
       "    <tr>\n",
       "      <th>94</th>\n",
       "      <td>95</td>\n",
       "      <td>2.014954</td>\n",
       "      <td>1.534611</td>\n",
       "      <td>NaN</td>\n",
       "    </tr>\n",
       "    <tr>\n",
       "      <th>95</th>\n",
       "      <td>96</td>\n",
       "      <td>3.189212</td>\n",
       "      <td>1.674124</td>\n",
       "      <td>NaN</td>\n",
       "    </tr>\n",
       "    <tr>\n",
       "      <th>96</th>\n",
       "      <td>97</td>\n",
       "      <td>3.623817</td>\n",
       "      <td>0.953455</td>\n",
       "      <td>NaN</td>\n",
       "    </tr>\n",
       "    <tr>\n",
       "      <th>97</th>\n",
       "      <td>98</td>\n",
       "      <td>3.461036</td>\n",
       "      <td>0.977076</td>\n",
       "      <td>NaN</td>\n",
       "    </tr>\n",
       "  </tbody>\n",
       "</table>\n",
       "<p>98 rows × 4 columns</p>\n",
       "</div>"
      ],
      "text/plain": [
       "    Unnamed: 0  %ch sales  %ch comp. Purch.  purch.\n",
       "0            1   3.175741          1.675150     NaN\n",
       "1            2   4.586927          0.246478     NaN\n",
       "2            3   5.410200          0.333241     NaN\n",
       "3            4   5.681870          0.969183     NaN\n",
       "4            5   4.618571          0.147318     NaN\n",
       "..         ...        ...               ...     ...\n",
       "93          94   0.546180          1.079061     NaN\n",
       "94          95   2.014954          1.534611     NaN\n",
       "95          96   3.189212          1.674124     NaN\n",
       "96          97   3.623817          0.953455     NaN\n",
       "97          98   3.461036          0.977076     NaN\n",
       "\n",
       "[98 rows x 4 columns]"
      ]
     },
     "execution_count": 1,
     "metadata": {},
     "output_type": "execute_result"
    }
   ],
   "source": [
    "import pandas as pd\n",
    "computer = pd.read_excel(r'datasets\\COMPUTER.xls')\n",
    "computer"
   ]
  },
  {
   "cell_type": "code",
   "execution_count": 10,
   "metadata": {},
   "outputs": [
    {
     "data": {
      "text/plain": [
       "(-4.676982473510349,\n",
       " 9.294258206482468e-05,\n",
       " 9,\n",
       " 88,\n",
       " {'1%': -3.506944401824286,\n",
       "  '5%': -2.894989819214876,\n",
       "  '10%': -2.584614550619835},\n",
       " 252.5607533995115)"
      ]
     },
     "execution_count": 10,
     "metadata": {},
     "output_type": "execute_result"
    }
   ],
   "source": [
    "import statsmodels\n",
    "Y = computer['%ch sales']\n",
    "X = computer['%ch comp. Purch.']\n",
    "from statsmodels.tsa.stattools import adfuller\n",
    "adfuller(Y)"
   ]
  },
  {
   "cell_type": "markdown",
   "metadata": {},
   "source": [
    "(b) Beginning with an ADL(3,3) model with deterministic trend, perform statistical\n",
    "tests to choose suitable lag lengths. Were good choices for p and q\n",
    "made in Example 11.1? Should we have included a deterministic trend?"
   ]
  },
  {
   "cell_type": "code",
   "execution_count": null,
   "metadata": {},
   "outputs": [],
   "source": []
  },
  {
   "cell_type": "markdown",
   "metadata": {},
   "source": [
    "(c) If you found the variables do not have unit roots and made different choices\n",
    "from p and q than the ones in Example 11.1, calculate the long run multiplier\n",
    "and compare to the result in Example 11.1."
   ]
  },
  {
   "cell_type": "code",
   "execution_count": null,
   "metadata": {},
   "outputs": [],
   "source": []
  },
  {
   "cell_type": "markdown",
   "metadata": {},
   "source": [
    "# Exercise 11.2\n",
    "Data set COMPUTE1.XLS contains variables of the same form as COMPUTER.\n",
    "XLS, however for a company in a different industry.\n",
    "(a) Repeat the analysis of Exercise 11.1 using the data in COMPUTE1.XLS. That\n",
    "is, verify that Y and X are stationary and then test to find a suitable ADL(p,q)\n",
    "specification.\n",
    "(b) Calculate the long run multiplier for the model estimated in part (a)."
   ]
  },
  {
   "cell_type": "code",
   "execution_count": null,
   "metadata": {},
   "outputs": [],
   "source": []
  },
  {
   "cell_type": "markdown",
   "metadata": {},
   "source": [
    "# Exercise 11.3\n",
    "Use the data in ORANGE.XLS to complete Example 11.2. In particular:\n",
    "(a) Carry out a Dickey–Fuller test to verify that both orange price series have\n",
    "unit roots."
   ]
  },
  {
   "cell_type": "code",
   "execution_count": 13,
   "metadata": {},
   "outputs": [
    {
     "data": {
      "text/html": [
       "<div>\n",
       "<style scoped>\n",
       "    .dataframe tbody tr th:only-of-type {\n",
       "        vertical-align: middle;\n",
       "    }\n",
       "\n",
       "    .dataframe tbody tr th {\n",
       "        vertical-align: top;\n",
       "    }\n",
       "\n",
       "    .dataframe thead th {\n",
       "        text-align: right;\n",
       "    }\n",
       "</style>\n",
       "<table border=\"1\" class=\"dataframe\">\n",
       "  <thead>\n",
       "    <tr style=\"text-align: right;\">\n",
       "      <th></th>\n",
       "      <th>pence/lb.</th>\n",
       "      <th>pence/lb..1</th>\n",
       "    </tr>\n",
       "  </thead>\n",
       "  <tbody>\n",
       "    <tr>\n",
       "      <th>0</th>\n",
       "      <td>83.0273</td>\n",
       "      <td>66.5331</td>\n",
       "    </tr>\n",
       "    <tr>\n",
       "      <th>1</th>\n",
       "      <td>91.1854</td>\n",
       "      <td>66.4581</td>\n",
       "    </tr>\n",
       "    <tr>\n",
       "      <th>2</th>\n",
       "      <td>82.2809</td>\n",
       "      <td>66.3976</td>\n",
       "    </tr>\n",
       "    <tr>\n",
       "      <th>3</th>\n",
       "      <td>91.6732</td>\n",
       "      <td>66.3488</td>\n",
       "    </tr>\n",
       "    <tr>\n",
       "      <th>4</th>\n",
       "      <td>93.1171</td>\n",
       "      <td>67.5421</td>\n",
       "    </tr>\n",
       "    <tr>\n",
       "      <th>...</th>\n",
       "      <td>...</td>\n",
       "      <td>...</td>\n",
       "    </tr>\n",
       "    <tr>\n",
       "      <th>176</th>\n",
       "      <td>254.4391</td>\n",
       "      <td>234.7534</td>\n",
       "    </tr>\n",
       "    <tr>\n",
       "      <th>177</th>\n",
       "      <td>260.4922</td>\n",
       "      <td>234.8976</td>\n",
       "    </tr>\n",
       "    <tr>\n",
       "      <th>178</th>\n",
       "      <td>255.3228</td>\n",
       "      <td>236.1933</td>\n",
       "    </tr>\n",
       "    <tr>\n",
       "      <th>179</th>\n",
       "      <td>266.6988</td>\n",
       "      <td>238.1020</td>\n",
       "    </tr>\n",
       "    <tr>\n",
       "      <th>180</th>\n",
       "      <td>257.9388</td>\n",
       "      <td>243.5591</td>\n",
       "    </tr>\n",
       "  </tbody>\n",
       "</table>\n",
       "<p>181 rows × 2 columns</p>\n",
       "</div>"
      ],
      "text/plain": [
       "     pence/lb.  pence/lb..1\n",
       "0      83.0273      66.5331\n",
       "1      91.1854      66.4581\n",
       "2      82.2809      66.3976\n",
       "3      91.6732      66.3488\n",
       "4      93.1171      67.5421\n",
       "..         ...          ...\n",
       "176   254.4391     234.7534\n",
       "177   260.4922     234.8976\n",
       "178   255.3228     236.1933\n",
       "179   266.6988     238.1020\n",
       "180   257.9388     243.5591\n",
       "\n",
       "[181 rows x 2 columns]"
      ]
     },
     "execution_count": 13,
     "metadata": {},
     "output_type": "execute_result"
    }
   ],
   "source": [
    "orange = pd.read_excel(r'datasets\\ORANGE.xls', header = 1)\n",
    "orange"
   ]
  },
  {
   "cell_type": "markdown",
   "metadata": {},
   "source": [
    "(b) Carry out a sequential test to verify that the Dickey–Fuller test on the residuals\n",
    "was done correctly. That is, is an AR(1) model for the residuals appropriate?"
   ]
  },
  {
   "cell_type": "code",
   "execution_count": null,
   "metadata": {},
   "outputs": [],
   "source": []
  },
  {
   "cell_type": "code",
   "execution_count": null,
   "metadata": {},
   "outputs": [],
   "source": []
  },
  {
   "cell_type": "code",
   "execution_count": null,
   "metadata": {},
   "outputs": [],
   "source": []
  },
  {
   "cell_type": "code",
   "execution_count": null,
   "metadata": {},
   "outputs": [],
   "source": []
  },
  {
   "cell_type": "markdown",
   "metadata": {},
   "source": [
    "# Exercise 11.8\n",
    "The data set in WP.XLS contains annual data from 1857–1987 on wages (X) and\n",
    "the consumer price index in the UK (Y).14 It is commonly thought that wage\n",
    "pressures are a prime cause of inflation. You wish to investigate this claim by\n",
    "carrying out a time series analysis on the data.\n",
    "(a) Construct a time series plot of wages and prices. Do they both seem to be\n",
    "trending? Do they seem to be trending together?\n",
    "(b) Carry out unit root tests on X and Y. You should find evidence that they both\n",
    "have unit roots.\n",
    "(c) Carry out a cointegration test on X and Y. You should find evidence that they\n",
    "are not cointegrated.\n",
    "(d) Difference the data to obtain ΔX and ΔY. Repeat parts (a) and (b) with these\n",
    "new variables. You should find that they do not have unit roots.\n",
    "(e) Specify and estimate an ADL(p,q) model using the new variables, ΔX and ΔY.\n",
    "Discuss your results. Note that the change in the log of a price level is inflation.\n",
    "That is, ΔX and ΔY can be interpreted as wage and price inflation,\n",
    "respectively."
   ]
  },
  {
   "cell_type": "code",
   "execution_count": null,
   "metadata": {},
   "outputs": [],
   "source": []
  }
 ],
 "metadata": {
  "kernelspec": {
   "display_name": "Python 3",
   "language": "python",
   "name": "python3"
  },
  "language_info": {
   "codemirror_mode": {
    "name": "ipython",
    "version": 3
   },
   "file_extension": ".py",
   "mimetype": "text/x-python",
   "name": "python",
   "nbconvert_exporter": "python",
   "pygments_lexer": "ipython3",
   "version": "3.7.4"
  }
 },
 "nbformat": 4,
 "nbformat_minor": 2
}
