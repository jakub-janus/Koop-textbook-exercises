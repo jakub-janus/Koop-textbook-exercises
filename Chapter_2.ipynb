{
 "cells": [
  {
   "cell_type": "markdown",
   "metadata": {},
   "source": [
    "## Chapter 2"
   ]
  },
  {
   "cell_type": "markdown",
   "metadata": {},
   "source": [
    "### Exercise 2.1"
   ]
  },
  {
   "cell_type": "markdown",
   "metadata": {},
   "source": [
    "(a) Recreate Figure 2.1 from the data located in file EXRUK.XLS."
   ]
  },
  {
   "cell_type": "code",
   "execution_count": 1,
   "metadata": {},
   "outputs": [
    {
     "data": {
      "text/html": [
       "<div>\n",
       "<style scoped>\n",
       "    .dataframe tbody tr th:only-of-type {\n",
       "        vertical-align: middle;\n",
       "    }\n",
       "\n",
       "    .dataframe tbody tr th {\n",
       "        vertical-align: top;\n",
       "    }\n",
       "\n",
       "    .dataframe thead th {\n",
       "        text-align: right;\n",
       "    }\n",
       "</style>\n",
       "<table border=\"1\" class=\"dataframe\">\n",
       "  <thead>\n",
       "    <tr style=\"text-align: right;\">\n",
       "      <th></th>\n",
       "      <th>Pence per dollar</th>\n",
       "    </tr>\n",
       "    <tr>\n",
       "      <th>t</th>\n",
       "      <th></th>\n",
       "    </tr>\n",
       "  </thead>\n",
       "  <tbody>\n",
       "    <tr>\n",
       "      <th>1947-01-01</th>\n",
       "      <td>402.934</td>\n",
       "    </tr>\n",
       "    <tr>\n",
       "      <th>1947-02-01</th>\n",
       "      <td>402.740</td>\n",
       "    </tr>\n",
       "    <tr>\n",
       "      <th>1947-03-01</th>\n",
       "      <td>402.735</td>\n",
       "    </tr>\n",
       "    <tr>\n",
       "      <th>1947-04-01</th>\n",
       "      <td>402.743</td>\n",
       "    </tr>\n",
       "    <tr>\n",
       "      <th>1947-05-01</th>\n",
       "      <td>402.740</td>\n",
       "    </tr>\n",
       "    <tr>\n",
       "      <th>...</th>\n",
       "      <td>...</td>\n",
       "    </tr>\n",
       "    <tr>\n",
       "      <th>1996-06-01</th>\n",
       "      <td>154.160</td>\n",
       "    </tr>\n",
       "    <tr>\n",
       "      <th>1996-07-01</th>\n",
       "      <td>155.300</td>\n",
       "    </tr>\n",
       "    <tr>\n",
       "      <th>1996-08-01</th>\n",
       "      <td>154.990</td>\n",
       "    </tr>\n",
       "    <tr>\n",
       "      <th>1996-09-01</th>\n",
       "      <td>155.930</td>\n",
       "    </tr>\n",
       "    <tr>\n",
       "      <th>1996-10-01</th>\n",
       "      <td>158.630</td>\n",
       "    </tr>\n",
       "  </tbody>\n",
       "</table>\n",
       "<p>598 rows × 1 columns</p>\n",
       "</div>"
      ],
      "text/plain": [
       "            Pence per dollar\n",
       "t                           \n",
       "1947-01-01           402.934\n",
       "1947-02-01           402.740\n",
       "1947-03-01           402.735\n",
       "1947-04-01           402.743\n",
       "1947-05-01           402.740\n",
       "...                      ...\n",
       "1996-06-01           154.160\n",
       "1996-07-01           155.300\n",
       "1996-08-01           154.990\n",
       "1996-09-01           155.930\n",
       "1996-10-01           158.630\n",
       "\n",
       "[598 rows x 1 columns]"
      ]
     },
     "execution_count": 1,
     "metadata": {},
     "output_type": "execute_result"
    }
   ],
   "source": [
    "import pandas as pd\n",
    "colnames = ['t', 'Pence per dollar']\n",
    "exkruk = pd.read_excel(r'datasets\\EXRUK.xls', header = None,  index_col = 0, names = colnames)\n",
    "exkruk"
   ]
  },
  {
   "cell_type": "code",
   "execution_count": 71,
   "metadata": {},
   "outputs": [
    {
     "data": {
      "image/png": "[encoded data removed]",
      "text/plain": [
       "<Figure size 1080x432 with 1 Axes>"
      ]
     },
     "metadata": {
      "needs_background": "light"
     },
     "output_type": "display_data"
    }
   ],
   "source": [
    "import matplotlib.pyplot as plt\n",
    "import matplotlib.dates as mdates\n",
    "import matplotlib.ticker as ticker\n",
    "fig, ax = plt.subplots(figsize = (15,6))\n",
    "ax.plot('Pence per dollar', data = exkruk, color = 'k')\n",
    "ax.set_ylabel('Pence per dollar')\n",
    "ax.set_ylim(0, 450)\n",
    "ax.xaxis.set_major_formatter(mdates.DateFormatter('%b-%Y'))\n",
    "locator = mdates.YearLocator(1)\n",
    "ax.xaxis.set_major_locator(locator)\n",
    "for tick in ax.xaxis.get_major_ticks()[1::2]:\n",
    "    tick.set_visible(False)\n",
    "plt.xticks(rotation = 90) \n",
    "ax.margins(x = 0)"
   ]
  },
  {
   "cell_type": "markdown",
   "metadata": {},
   "source": [
    "(b) File INCOME.XLS contains data on the natural logarithm of personal income and consumption in the USA from 1954Q1 to 1994Q2.6 Make one time series graph that contains both of these variables."
   ]
  },
  {
   "cell_type": "code",
   "execution_count": 73,
   "metadata": {},
   "outputs": [
    {
     "data": {
      "text/html": [
       "<div>\n",
       "<style scoped>\n",
       "    .dataframe tbody tr th:only-of-type {\n",
       "        vertical-align: middle;\n",
       "    }\n",
       "\n",
       "    .dataframe tbody tr th {\n",
       "        vertical-align: top;\n",
       "    }\n",
       "\n",
       "    .dataframe thead th {\n",
       "        text-align: right;\n",
       "    }\n",
       "</style>\n",
       "<table border=\"1\" class=\"dataframe\">\n",
       "  <thead>\n",
       "    <tr style=\"text-align: right;\">\n",
       "      <th></th>\n",
       "      <th>Income</th>\n",
       "      <th>Consumption</th>\n",
       "    </tr>\n",
       "    <tr>\n",
       "      <th>Date</th>\n",
       "      <th></th>\n",
       "      <th></th>\n",
       "    </tr>\n",
       "  </thead>\n",
       "  <tbody>\n",
       "    <tr>\n",
       "      <th>1954Q1</th>\n",
       "      <td>6.968380</td>\n",
       "      <td>6.876368</td>\n",
       "    </tr>\n",
       "    <tr>\n",
       "      <th>1954Q2</th>\n",
       "      <td>6.962811</td>\n",
       "      <td>6.884384</td>\n",
       "    </tr>\n",
       "    <tr>\n",
       "      <th>1954Q3</th>\n",
       "      <td>6.978214</td>\n",
       "      <td>6.900630</td>\n",
       "    </tr>\n",
       "    <tr>\n",
       "      <th>1954Q4</th>\n",
       "      <td>6.997322</td>\n",
       "      <td>6.918102</td>\n",
       "    </tr>\n",
       "    <tr>\n",
       "      <th>1955Q1</th>\n",
       "      <td>7.004156</td>\n",
       "      <td>6.932545</td>\n",
       "    </tr>\n",
       "    <tr>\n",
       "      <th>...</th>\n",
       "      <td>...</td>\n",
       "      <td>...</td>\n",
       "    </tr>\n",
       "    <tr>\n",
       "      <th>1993Q4</th>\n",
       "      <td>8.228924</td>\n",
       "      <td>8.162294</td>\n",
       "    </tr>\n",
       "    <tr>\n",
       "      <th>1994Q1</th>\n",
       "      <td>8.237268</td>\n",
       "      <td>8.173671</td>\n",
       "    </tr>\n",
       "    <tr>\n",
       "      <th>1994Q2</th>\n",
       "      <td>8.245778</td>\n",
       "      <td>8.176909</td>\n",
       "    </tr>\n",
       "    <tr>\n",
       "      <th>1994Q3</th>\n",
       "      <td>8.253462</td>\n",
       "      <td>8.184438</td>\n",
       "    </tr>\n",
       "    <tr>\n",
       "      <th>1994Q4</th>\n",
       "      <td>8.271548</td>\n",
       "      <td>8.196875</td>\n",
       "    </tr>\n",
       "  </tbody>\n",
       "</table>\n",
       "<p>164 rows × 2 columns</p>\n",
       "</div>"
      ],
      "text/plain": [
       "          Income  Consumption\n",
       "Date                         \n",
       "1954Q1  6.968380     6.876368\n",
       "1954Q2  6.962811     6.884384\n",
       "1954Q3  6.978214     6.900630\n",
       "1954Q4  6.997322     6.918102\n",
       "1955Q1  7.004156     6.932545\n",
       "...          ...          ...\n",
       "1993Q4  8.228924     8.162294\n",
       "1994Q1  8.237268     8.173671\n",
       "1994Q2  8.245778     8.176909\n",
       "1994Q3  8.253462     8.184438\n",
       "1994Q4  8.271548     8.196875\n",
       "\n",
       "[164 rows x 2 columns]"
      ]
     },
     "execution_count": 73,
     "metadata": {},
     "output_type": "execute_result"
    }
   ],
   "source": [
    "income = pd.read_excel(r'datasets\\INCOME.xls', index_col = 0)\n",
    "income"
   ]
  },
  {
   "cell_type": "code",
   "execution_count": null,
   "metadata": {},
   "outputs": [],
   "source": []
  },
  {
   "cell_type": "markdown",
   "metadata": {},
   "source": [
    "(c) Transform the logged personal income data to growth rates. Note that the\n",
    "percentage change in personal income between period t − 1 and t is approximately\n",
    "100×[ln(Y_t) − ln(Yt−1)] and the data provided in INCOME.XLS is\n",
    "already logged. Make a time series graph of the series you have created."
   ]
  },
  {
   "cell_type": "code",
   "execution_count": null,
   "metadata": {},
   "outputs": [],
   "source": []
  },
  {
   "cell_type": "markdown",
   "metadata": {},
   "source": [
    "### Exercise 2.1"
   ]
  },
  {
   "cell_type": "code",
   "execution_count": null,
   "metadata": {},
   "outputs": [],
   "source": []
  }
 ],
 "metadata": {
  "kernelspec": {
   "display_name": "Python 3",
   "language": "python",
   "name": "python3"
  },
  "language_info": {
   "codemirror_mode": {
    "name": "ipython",
    "version": 3
   },
   "file_extension": ".py",
   "mimetype": "text/x-python",
   "name": "python",
   "nbconvert_exporter": "python",
   "pygments_lexer": "ipython3",
   "version": "3.7.4"
  }
 },
 "nbformat": 4,
 "nbformat_minor": 2
}
