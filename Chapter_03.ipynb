{
 "cells": [
  {
   "cell_type": "markdown",
   "metadata": {},
   "source": [
    "**Python solutions to Gary Koop's \"Analysis of Economic Data\" (4th ed., 2013)**\n",
    "\n",
    "**Chapter 3: Correlation**\n",
    "\n",
    "Jakub Janus, [jakub.janus@uek.krakow.pl](jakub.janus@uek.krakow.pl)"
   ]
  },
  {
   "cell_type": "markdown",
   "metadata": {},
   "source": [
    "# Exercise 3.1\n",
    "(a) Using the data in FOREST.XLS, calculate and interpret the mean, standard deviation, minimum and maximum of deforestation and population density."
   ]
  },
  {
   "cell_type": "code",
   "execution_count": 1,
   "metadata": {},
   "outputs": [
    {
     "name": "stdout",
     "output_type": "stream",
     "text": [
      "deforestation_mean =  1.1385714285714286 \n",
      "deforestation_std =  0.9281886454221916 \n",
      "deforestation_min =  0.0 \n",
      "deforestation_max =  5.3 \n",
      "population_density_mean =  639.427 \n",
      "population_density_std =  726.3399771803076 \n",
      "population_density_min =  0.89 \n",
      "population_density_max =  2769.0\n"
     ]
    }
   ],
   "source": [
    "import pandas as pd\n",
    "forest = pd.read_excel(r'datasets\\FOREST.xls')\n",
    "\n",
    "print('deforestation_mean = ', forest['Forest loss'].mean(), '\\n'\n",
    "      'deforestation_std = ', forest['Forest loss'].std(), '\\n'\n",
    "      'deforestation_min = ', forest['Forest loss'].min(), '\\n'\n",
    "      'deforestation_max = ', forest['Forest loss'].max(), '\\n'\n",
    "      'population_density_mean = ', forest['Pop dens'].mean(), '\\n'\n",
    "      'population_density_std = ', forest['Pop dens'].std(), '\\n'\n",
    "      'population_density_min = ', forest['Pop dens'].min(), '\\n'\n",
    "      'population_density_max = ', forest['Pop dens'].max())"
   ]
  },
  {
   "cell_type": "markdown",
   "metadata": {},
   "source": [
    "(b) Verify that the correlation between these two variables is 0.66."
   ]
  },
  {
   "cell_type": "code",
   "execution_count": 2,
   "metadata": {},
   "outputs": [
    {
     "name": "stdout",
     "output_type": "stream",
     "text": [
      "correlation =  0.66\n"
     ]
    }
   ],
   "source": [
    "correlation = forest['Forest loss'].corr(forest['Pop dens'])\n",
    "print('correlation = ', round(correlation, 2))"
   ]
  },
  {
   "cell_type": "markdown",
   "metadata": {},
   "source": [
    "# Exercise 3.2\n",
    "(a) Using the data in HPRICE.XLS, calculate and interpret the mean, standard deviation, minimum and maximum of Y (house price, labeled “sale price” in the file), X (lot size) and Z (number of bedrooms, labeled “#bedroom”)."
   ]
  },
  {
   "cell_type": "code",
   "execution_count": 3,
   "metadata": {},
   "outputs": [
    {
     "data": {
      "text/html": [
       "<div>\n",
       "<style scoped>\n",
       "    .dataframe tbody tr th:only-of-type {\n",
       "        vertical-align: middle;\n",
       "    }\n",
       "\n",
       "    .dataframe tbody tr th {\n",
       "        vertical-align: top;\n",
       "    }\n",
       "\n",
       "    .dataframe thead th {\n",
       "        text-align: right;\n",
       "    }\n",
       "</style>\n",
       "<table border=\"1\" class=\"dataframe\">\n",
       "  <thead>\n",
       "    <tr style=\"text-align: right;\">\n",
       "      <th></th>\n",
       "      <th>sale price</th>\n",
       "      <th>lot size</th>\n",
       "      <th>#bedroom</th>\n",
       "    </tr>\n",
       "  </thead>\n",
       "  <tbody>\n",
       "    <tr>\n",
       "      <th>count</th>\n",
       "      <td>546.000000</td>\n",
       "      <td>546.000000</td>\n",
       "      <td>546.000000</td>\n",
       "    </tr>\n",
       "    <tr>\n",
       "      <th>mean</th>\n",
       "      <td>68121.597070</td>\n",
       "      <td>5150.265568</td>\n",
       "      <td>2.965201</td>\n",
       "    </tr>\n",
       "    <tr>\n",
       "      <th>std</th>\n",
       "      <td>26702.670926</td>\n",
       "      <td>2168.158725</td>\n",
       "      <td>0.737388</td>\n",
       "    </tr>\n",
       "    <tr>\n",
       "      <th>min</th>\n",
       "      <td>25000.000000</td>\n",
       "      <td>1650.000000</td>\n",
       "      <td>1.000000</td>\n",
       "    </tr>\n",
       "    <tr>\n",
       "      <th>25%</th>\n",
       "      <td>49125.000000</td>\n",
       "      <td>3600.000000</td>\n",
       "      <td>2.000000</td>\n",
       "    </tr>\n",
       "    <tr>\n",
       "      <th>50%</th>\n",
       "      <td>62000.000000</td>\n",
       "      <td>4600.000000</td>\n",
       "      <td>3.000000</td>\n",
       "    </tr>\n",
       "    <tr>\n",
       "      <th>75%</th>\n",
       "      <td>82000.000000</td>\n",
       "      <td>6360.000000</td>\n",
       "      <td>3.000000</td>\n",
       "    </tr>\n",
       "    <tr>\n",
       "      <th>max</th>\n",
       "      <td>190000.000000</td>\n",
       "      <td>16200.000000</td>\n",
       "      <td>6.000000</td>\n",
       "    </tr>\n",
       "  </tbody>\n",
       "</table>\n",
       "</div>"
      ],
      "text/plain": [
       "          sale price      lot size    #bedroom\n",
       "count     546.000000    546.000000  546.000000\n",
       "mean    68121.597070   5150.265568    2.965201\n",
       "std     26702.670926   2168.158725    0.737388\n",
       "min     25000.000000   1650.000000    1.000000\n",
       "25%     49125.000000   3600.000000    2.000000\n",
       "50%     62000.000000   4600.000000    3.000000\n",
       "75%     82000.000000   6360.000000    3.000000\n",
       "max    190000.000000  16200.000000    6.000000"
      ]
     },
     "execution_count": 3,
     "metadata": {},
     "output_type": "execute_result"
    }
   ],
   "source": [
    "hprice = pd.read_excel(r'datasets\\HPRICE.xls')\n",
    "#using Pandas descriptive statistics\n",
    "hprice[['sale price', 'lot size', '#bedroom']].describe()"
   ]
  },
  {
   "cell_type": "markdown",
   "metadata": {},
   "source": [
    "(b) Verify that the correlation between X and Y is as given in the example. Repeat for X and Z and then for Y and Z."
   ]
  },
  {
   "cell_type": "code",
   "execution_count": 4,
   "metadata": {},
   "outputs": [
    {
     "name": "stdout",
     "output_type": "stream",
     "text": [
      "cor_X_Y = 0.54 \n",
      "cor_X_Z = 0.37 \n",
      "cor_Y_Z = 0.15\n"
     ]
    }
   ],
   "source": [
    "X = hprice['sale price']\n",
    "Y = hprice['lot size']\n",
    "Z = hprice['#bedroom']\n",
    "cor_X_Y = X.corr(Y)\n",
    "cor_X_Z = X.corr(Z)\n",
    "cor_Y_Z = Y.corr(Z)\n",
    "print('cor_X_Y =', round(cor_X_Y, 2) , '\\n'\n",
    "      'cor_X_Z =', round(cor_X_Z, 2) , '\\n'\n",
    "      'cor_Y_Z =', round(cor_Y_Z, 2))"
   ]
  },
  {
   "cell_type": "markdown",
   "metadata": {},
   "source": [
    "(c) Now add a new variable, W, the number of bathrooms (labeled “#bath”). Calculate the mean of W."
   ]
  },
  {
   "cell_type": "code",
   "execution_count": 5,
   "metadata": {},
   "outputs": [
    {
     "name": "stdout",
     "output_type": "stream",
     "text": [
      "W_mean =  1.2857142857142858\n"
     ]
    }
   ],
   "source": [
    "W = hprice['#bath']\n",
    "print('W_mean = ', W.mean())"
   ]
  },
  {
   "cell_type": "markdown",
   "metadata": {},
   "source": [
    "(d) Calculate and interpret the correlation between W and Y. Discuss to what extent it can be said that W causes Y."
   ]
  },
  {
   "cell_type": "code",
   "execution_count": 6,
   "metadata": {},
   "outputs": [
    {
     "name": "stdout",
     "output_type": "stream",
     "text": [
      "cor_W_Y = 0.19\n"
     ]
    }
   ],
   "source": [
    "cor_W_Y = W.corr(Y)\n",
    "print('cor_W_Y =', round(cor_W_Y, 2))"
   ]
  },
  {
   "cell_type": "markdown",
   "metadata": {},
   "source": [
    "(e) Repeat part (d) for W and X and then for W and Z."
   ]
  },
  {
   "cell_type": "code",
   "execution_count": 7,
   "metadata": {},
   "outputs": [
    {
     "name": "stdout",
     "output_type": "stream",
     "text": [
      "cor_W_X = 0.52\n",
      "cor_W_Z = 0.37\n"
     ]
    }
   ],
   "source": [
    "cor_W_X = W.corr(X)\n",
    "print('cor_W_X =', round(cor_W_X, 2))\n",
    "cor_W_Z = W.corr(Z)\n",
    "print('cor_W_Z =', round(cor_W_Z, 2))"
   ]
  },
  {
   "cell_type": "markdown",
   "metadata": {},
   "source": [
    "# Exercise 3.4\n",
    "The file EX34.XLS contains four variables: Y, X1, X2 and X3.\n",
    "\n",
    "(a) Calculate the correlation between Y and X1. Repeat for Y and X2, and for Y\n",
    "and X3."
   ]
  },
  {
   "cell_type": "code",
   "execution_count": 8,
   "metadata": {},
   "outputs": [
    {
     "name": "stdout",
     "output_type": "stream",
     "text": [
      "cor_Y_X1 = -0.01 \n",
      "cor_Y_X2 = -0.72 \n",
      "cor_Y_X3 = -1.0\n"
     ]
    }
   ],
   "source": [
    "ex34 = pd.read_excel(r'datasets\\EX34.xls')\n",
    "cor_Y_X1 = ex34['Y'].corr(ex34['X1'])\n",
    "cor_Y_X2 = ex34['Y'].corr(ex34['X2'])\n",
    "cor_Y_X3 = ex34['Y'].corr(ex34['X3'])\n",
    "print('cor_Y_X1 =', round(cor_Y_X1, 2) , '\\n'\n",
    "     'cor_Y_X2 =', round(cor_Y_X2, 2) , '\\n'\n",
    "     'cor_Y_X3 =', round(cor_Y_X3, 2))"
   ]
  },
  {
   "cell_type": "markdown",
   "metadata": {},
   "source": [
    "(b) Create an XY-plot involving Y and X1. Repeat for Y and X2, and for Y\n",
    "and X3."
   ]
  },
  {
   "cell_type": "code",
   "execution_count": 9,
   "metadata": {},
   "outputs": [
    {
     "data": {
      "image/png": "[encoded data removed]",
      "text/plain": [
       "<Figure size 1080x360 with 3 Axes>"
      ]
     },
     "metadata": {
      "needs_background": "light"
     },
     "output_type": "display_data"
    }
   ],
   "source": [
    "import matplotlib.pyplot as plt\n",
    "%matplotlib inline\n",
    "fig, axs = plt.subplots(1, 3, figsize = (15,5))\n",
    "axs[0].scatter(ex34['Y'], ex34['X1'])\n",
    "axs[0].set_title('Y-X1')\n",
    "axs[1].scatter(ex34['Y'], ex34['X2'])\n",
    "axs[1].set_title('Y-X2')\n",
    "axs[2].scatter(ex34['Y'], ex34['X3'])\n",
    "axs[2].set_title('Y-X3')\n",
    "plt.show()"
   ]
  },
  {
   "cell_type": "markdown",
   "metadata": {},
   "source": [
    "# Exercise 3.5\n",
    "(a) Using the data in FOREST.XLS, calculate and interpret a correlation matrix\n",
    "involving deforestation, population density, change in pasture and change in\n",
    "cropland."
   ]
  },
  {
   "cell_type": "code",
   "execution_count": 10,
   "metadata": {},
   "outputs": [
    {
     "data": {
      "text/html": [
       "<div>\n",
       "<style scoped>\n",
       "    .dataframe tbody tr th:only-of-type {\n",
       "        vertical-align: middle;\n",
       "    }\n",
       "\n",
       "    .dataframe tbody tr th {\n",
       "        vertical-align: top;\n",
       "    }\n",
       "\n",
       "    .dataframe thead th {\n",
       "        text-align: right;\n",
       "    }\n",
       "</style>\n",
       "<table border=\"1\" class=\"dataframe\">\n",
       "  <thead>\n",
       "    <tr style=\"text-align: right;\">\n",
       "      <th></th>\n",
       "      <th>Forest loss</th>\n",
       "      <th>Pop dens</th>\n",
       "      <th>Crop ch</th>\n",
       "      <th>Pasture ch</th>\n",
       "    </tr>\n",
       "  </thead>\n",
       "  <tbody>\n",
       "    <tr>\n",
       "      <th>Forest loss</th>\n",
       "      <td>1.000000</td>\n",
       "      <td>0.659150</td>\n",
       "      <td>-0.052436</td>\n",
       "      <td>0.301605</td>\n",
       "    </tr>\n",
       "    <tr>\n",
       "      <th>Pop dens</th>\n",
       "      <td>0.659150</td>\n",
       "      <td>1.000000</td>\n",
       "      <td>-0.126898</td>\n",
       "      <td>0.088625</td>\n",
       "    </tr>\n",
       "    <tr>\n",
       "      <th>Crop ch</th>\n",
       "      <td>-0.052436</td>\n",
       "      <td>-0.126898</td>\n",
       "      <td>1.000000</td>\n",
       "      <td>0.248937</td>\n",
       "    </tr>\n",
       "    <tr>\n",
       "      <th>Pasture ch</th>\n",
       "      <td>0.301605</td>\n",
       "      <td>0.088625</td>\n",
       "      <td>0.248937</td>\n",
       "      <td>1.000000</td>\n",
       "    </tr>\n",
       "  </tbody>\n",
       "</table>\n",
       "</div>"
      ],
      "text/plain": [
       "             Forest loss  Pop dens   Crop ch  Pasture ch\n",
       "Forest loss     1.000000  0.659150 -0.052436    0.301605\n",
       "Pop dens        0.659150  1.000000 -0.126898    0.088625\n",
       "Crop ch        -0.052436 -0.126898  1.000000    0.248937\n",
       "Pasture ch      0.301605  0.088625  0.248937    1.000000"
      ]
     },
     "execution_count": 10,
     "metadata": {},
     "output_type": "execute_result"
    }
   ],
   "source": [
    "#matrix\n",
    "forest_cor_matrix = forest.corr()\n",
    "forest_cor_matrix"
   ]
  },
  {
   "cell_type": "code",
   "execution_count": 11,
   "metadata": {},
   "outputs": [
    {
     "data": {
      "image/png": "[encoded data removed]",
      "text/plain": [
       "<Figure size 432x288 with 2 Axes>"
      ]
     },
     "metadata": {
      "needs_background": "light"
     },
     "output_type": "display_data"
    }
   ],
   "source": [
    "#heatmap\n",
    "import seaborn as sns\n",
    "sns.heatmap(forest_cor_matrix, cmap = \"cubehelix\")\n",
    "plt.show()"
   ]
  },
  {
   "cell_type": "markdown",
   "metadata": {},
   "source": [
    "(b) Calculate and interpret a correlation matrix using the following variables in\n",
    "the data set HPRICE.XLS: house price, lot size, number of bedrooms, number\n",
    "of bathrooms and number of stories. How many individual correlations have\n",
    "you calculated?"
   ]
  },
  {
   "cell_type": "code",
   "execution_count": 12,
   "metadata": {},
   "outputs": [
    {
     "data": {
      "text/html": [
       "<div>\n",
       "<style scoped>\n",
       "    .dataframe tbody tr th:only-of-type {\n",
       "        vertical-align: middle;\n",
       "    }\n",
       "\n",
       "    .dataframe tbody tr th {\n",
       "        vertical-align: top;\n",
       "    }\n",
       "\n",
       "    .dataframe thead th {\n",
       "        text-align: right;\n",
       "    }\n",
       "</style>\n",
       "<table border=\"1\" class=\"dataframe\">\n",
       "  <thead>\n",
       "    <tr style=\"text-align: right;\">\n",
       "      <th></th>\n",
       "      <th>sale price</th>\n",
       "      <th>lot size</th>\n",
       "      <th>#bedroom</th>\n",
       "      <th>#bath</th>\n",
       "      <th>#stories</th>\n",
       "    </tr>\n",
       "  </thead>\n",
       "  <tbody>\n",
       "    <tr>\n",
       "      <th>sale price</th>\n",
       "      <td>1.000000</td>\n",
       "      <td>0.535796</td>\n",
       "      <td>0.366447</td>\n",
       "      <td>0.516719</td>\n",
       "      <td>0.421190</td>\n",
       "    </tr>\n",
       "    <tr>\n",
       "      <th>lot size</th>\n",
       "      <td>0.535796</td>\n",
       "      <td>1.000000</td>\n",
       "      <td>0.151851</td>\n",
       "      <td>0.193833</td>\n",
       "      <td>0.083675</td>\n",
       "    </tr>\n",
       "    <tr>\n",
       "      <th>#bedroom</th>\n",
       "      <td>0.366447</td>\n",
       "      <td>0.151851</td>\n",
       "      <td>1.000000</td>\n",
       "      <td>0.373769</td>\n",
       "      <td>0.407974</td>\n",
       "    </tr>\n",
       "    <tr>\n",
       "      <th>#bath</th>\n",
       "      <td>0.516719</td>\n",
       "      <td>0.193833</td>\n",
       "      <td>0.373769</td>\n",
       "      <td>1.000000</td>\n",
       "      <td>0.324066</td>\n",
       "    </tr>\n",
       "    <tr>\n",
       "      <th>#stories</th>\n",
       "      <td>0.421190</td>\n",
       "      <td>0.083675</td>\n",
       "      <td>0.407974</td>\n",
       "      <td>0.324066</td>\n",
       "      <td>1.000000</td>\n",
       "    </tr>\n",
       "  </tbody>\n",
       "</table>\n",
       "</div>"
      ],
      "text/plain": [
       "            sale price  lot size  #bedroom     #bath  #stories\n",
       "sale price    1.000000  0.535796  0.366447  0.516719  0.421190\n",
       "lot size      0.535796  1.000000  0.151851  0.193833  0.083675\n",
       "#bedroom      0.366447  0.151851  1.000000  0.373769  0.407974\n",
       "#bath         0.516719  0.193833  0.373769  1.000000  0.324066\n",
       "#stories      0.421190  0.083675  0.407974  0.324066  1.000000"
      ]
     },
     "execution_count": 12,
     "metadata": {},
     "output_type": "execute_result"
    }
   ],
   "source": [
    "hprice_selected = hprice[['sale price', 'lot size', '#bedroom', '#bath', '#stories']]\n",
    "hprice_selected_cor_matrix = hprice_selected.corr()\n",
    "hprice_selected_cor_matrix"
   ]
  },
  {
   "cell_type": "code",
   "execution_count": 13,
   "metadata": {},
   "outputs": [
    {
     "data": {
      "image/png": "[encoded data removed]",
      "text/plain": [
       "<Figure size 432x288 with 2 Axes>"
      ]
     },
     "metadata": {
      "needs_background": "light"
     },
     "output_type": "display_data"
    }
   ],
   "source": [
    "sns.heatmap(hprice_selected_cor_matrix, cmap = \"cubehelix\")\n",
    "plt.show()"
   ]
  }
 ],
 "metadata": {
  "kernelspec": {
   "display_name": "Python 3",
   "language": "python",
   "name": "python3"
  },
  "language_info": {
   "codemirror_mode": {
    "name": "ipython",
    "version": 3
   },
   "file_extension": ".py",
   "mimetype": "text/x-python",
   "name": "python",
   "nbconvert_exporter": "python",
   "pygments_lexer": "ipython3",
   "version": "3.7.4"
  }
 },
 "nbformat": 4,
 "nbformat_minor": 2
}
