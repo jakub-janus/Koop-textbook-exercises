{
 "cells": [
  {
   "cell_type": "markdown",
   "metadata": {},
   "source": [
    "**Python solutions to Gary Koop's \"Analysis of Economic Data\" (4th ed., 2013)**\n",
    "\n",
    "**Chapter 9: Regression with Time Lags: Distributed Lag Models**\n",
    "\n",
    "Jakub Janus, [jakub.janus@uek.krakow.pl](jakub.janus@uek.krakow.pl)"
   ]
  },
  {
   "cell_type": "markdown",
   "metadata": {},
   "source": [
    "# Exercise 9.1\n",
    "The data set SAFETY.XLS contains T = 60 observations on accident losses (Y)\n",
    "and hours spent in safety training (X).\n",
    "(a) Create the explanatory variables you would use in a distributed lag model\n",
    "with lag length equal to four. How many observations do the explanatory\n",
    "variables have?\n",
    "(b) Using your answer to part (a), recreate the table in Example 9.1.\n",
    "(c) Create the explanatory variables you would use in a distributed lag model\n",
    "with lag length equal to two. How many observations do the explanatory\n",
    "variables have?\n",
    "(d) Using your answer to part (c), estimate the distributed lag model with q = 2.\n",
    "(e) Compare your answers to parts (d) and (b). Discuss why they differ, paying\n",
    "particular attention to the question of omitted variables bias (see Chapter 6\n",
    "if you have forgotten what this is)."
   ]
  },
  {
   "cell_type": "code",
   "execution_count": null,
   "metadata": {},
   "outputs": [],
   "source": []
  }
 ],
 "metadata": {
  "kernelspec": {
   "display_name": "Python 3",
   "language": "python",
   "name": "python3"
  },
  "language_info": {
   "codemirror_mode": {
    "name": "ipython",
    "version": 3
   },
   "file_extension": ".py",
   "mimetype": "text/x-python",
   "name": "python",
   "nbconvert_exporter": "python",
   "pygments_lexer": "ipython3",
   "version": "3.7.4"
  }
 },
 "nbformat": 4,
 "nbformat_minor": 2
}
