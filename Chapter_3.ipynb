{
 "cells": [
  {
   "cell_type": "markdown",
   "metadata": {},
   "source": [
    "## Python solutions to Gary Koop's \"Analysis of Economic Data\" (4th ed., 2013)\n",
    "## Chapter 3: Correlation\n",
    "Jakub Janus, [jakub.janus@uek.krakow.pl](jakub.janus@uek.krakow.pl)"
   ]
  },
  {
   "cell_type": "markdown",
   "metadata": {},
   "source": [
    "### Exercise 3.1"
   ]
  },
  {
   "cell_type": "markdown",
   "metadata": {},
   "source": [
    "(a) Using the data in FOREST.XLS, calculate and interpret the mean, standard deviation, minimum and maximum of deforestation and population density."
   ]
  },
  {
   "cell_type": "code",
   "execution_count": 5,
   "metadata": {},
   "outputs": [
    {
     "data": {
      "text/html": [
       "<div>\n",
       "<style scoped>\n",
       "    .dataframe tbody tr th:only-of-type {\n",
       "        vertical-align: middle;\n",
       "    }\n",
       "\n",
       "    .dataframe tbody tr th {\n",
       "        vertical-align: top;\n",
       "    }\n",
       "\n",
       "    .dataframe thead th {\n",
       "        text-align: right;\n",
       "    }\n",
       "</style>\n",
       "<table border=\"1\" class=\"dataframe\">\n",
       "  <thead>\n",
       "    <tr style=\"text-align: right;\">\n",
       "      <th></th>\n",
       "      <th>Forest loss</th>\n",
       "      <th>Pop dens</th>\n",
       "      <th>Crop ch</th>\n",
       "      <th>Pasture ch</th>\n",
       "    </tr>\n",
       "  </thead>\n",
       "  <tbody>\n",
       "    <tr>\n",
       "      <th>0</th>\n",
       "      <td>0.7</td>\n",
       "      <td>357.0</td>\n",
       "      <td>27.9</td>\n",
       "      <td>0.0</td>\n",
       "    </tr>\n",
       "    <tr>\n",
       "      <th>1</th>\n",
       "      <td>0.7</td>\n",
       "      <td>48.0</td>\n",
       "      <td>1.7</td>\n",
       "      <td>0.0</td>\n",
       "    </tr>\n",
       "    <tr>\n",
       "      <th>2</th>\n",
       "      <td>0.8</td>\n",
       "      <td>932.0</td>\n",
       "      <td>14.5</td>\n",
       "      <td>0.0</td>\n",
       "    </tr>\n",
       "    <tr>\n",
       "      <th>3</th>\n",
       "      <td>0.7</td>\n",
       "      <td>366.0</td>\n",
       "      <td>17.9</td>\n",
       "      <td>0.0</td>\n",
       "    </tr>\n",
       "    <tr>\n",
       "      <th>4</th>\n",
       "      <td>0.8</td>\n",
       "      <td>83.0</td>\n",
       "      <td>2.2</td>\n",
       "      <td>0.0</td>\n",
       "    </tr>\n",
       "    <tr>\n",
       "      <th>...</th>\n",
       "      <td>...</td>\n",
       "      <td>...</td>\n",
       "      <td>...</td>\n",
       "      <td>...</td>\n",
       "    </tr>\n",
       "    <tr>\n",
       "      <th>65</th>\n",
       "      <td>0.6</td>\n",
       "      <td>327.0</td>\n",
       "      <td>4.1</td>\n",
       "      <td>5.8</td>\n",
       "    </tr>\n",
       "    <tr>\n",
       "      <th>66</th>\n",
       "      <td>1.7</td>\n",
       "      <td>409.0</td>\n",
       "      <td>9.4</td>\n",
       "      <td>29.2</td>\n",
       "    </tr>\n",
       "    <tr>\n",
       "      <th>67</th>\n",
       "      <td>2.4</td>\n",
       "      <td>117.0</td>\n",
       "      <td>26.7</td>\n",
       "      <td>33.5</td>\n",
       "    </tr>\n",
       "    <tr>\n",
       "      <th>68</th>\n",
       "      <td>0.4</td>\n",
       "      <td>179.0</td>\n",
       "      <td>6.1</td>\n",
       "      <td>0.0</td>\n",
       "    </tr>\n",
       "    <tr>\n",
       "      <th>69</th>\n",
       "      <td>1.2</td>\n",
       "      <td>234.0</td>\n",
       "      <td>4.3</td>\n",
       "      <td>2.9</td>\n",
       "    </tr>\n",
       "  </tbody>\n",
       "</table>\n",
       "<p>70 rows × 4 columns</p>\n",
       "</div>"
      ],
      "text/plain": [
       "    Forest loss  Pop dens  Crop ch  Pasture ch\n",
       "0           0.7     357.0     27.9         0.0\n",
       "1           0.7      48.0      1.7         0.0\n",
       "2           0.8     932.0     14.5         0.0\n",
       "3           0.7     366.0     17.9         0.0\n",
       "4           0.8      83.0      2.2         0.0\n",
       "..          ...       ...      ...         ...\n",
       "65          0.6     327.0      4.1         5.8\n",
       "66          1.7     409.0      9.4        29.2\n",
       "67          2.4     117.0     26.7        33.5\n",
       "68          0.4     179.0      6.1         0.0\n",
       "69          1.2     234.0      4.3         2.9\n",
       "\n",
       "[70 rows x 4 columns]"
      ]
     },
     "execution_count": 5,
     "metadata": {},
     "output_type": "execute_result"
    }
   ],
   "source": [
    "import pandas as pd\n",
    "forest = pd.read_excel(r'datasets\\FOREST.xls')\n",
    "forest\n",
    "#print('deforestation_mean = ', forest['Forest loss'].mean(), '\\n'\n",
    " #    'deforestation_std = ', forest['Pasture ch'].std(), '\\n'\n",
    " #    'deforestation_min = ', forest['Pasture ch'].min(), '\\n'\n",
    " #    'deforestation_max = ', forest['Pasture ch'].max())"
   ]
  },
  {
   "cell_type": "markdown",
   "metadata": {},
   "source": [
    "(b) Verify that the correlation between these two variables is 0.66."
   ]
  },
  {
   "cell_type": "code",
   "execution_count": 15,
   "metadata": {},
   "outputs": [
    {
     "name": "stdout",
     "output_type": "stream",
     "text": [
      "corr =  0.66\n"
     ]
    }
   ],
   "source": [
    "corr = forest['Forest loss'].corr(forest['Pop dens'])\n",
    "print('corr = ', round(corr, 2))"
   ]
  },
  {
   "cell_type": "markdown",
   "metadata": {},
   "source": [
    "Exercise 3.2\n",
    "(a) Using the data in HPRICE.XLS, calculate and interpret the mean, standard deviation, minimum and maximum of Y (house price, labeled “sale price” in the file), X (lot size) and Z (number of bedrooms, labeled “#bedroom”).\n",
    "(b) Verify that the correlation between X and Y is as given in the example. Repeat for X and Z and then for Y and Z.\n",
    "(c) Now add a new variable, W, the number of bathrooms (labeled “#bath”). Calculate the mean of W.\n",
    "(d) Calculate and interpret the correlation between W and Y. Discuss to what extent it can be said that W causes Y.\n",
    "(e) Repeat part (d) for W and X and then for W and Z."
   ]
  },
  {
   "cell_type": "code",
   "execution_count": null,
   "metadata": {},
   "outputs": [],
   "source": []
  },
  {
   "cell_type": "markdown",
   "metadata": {},
   "source": [
    "Exercise 3.3\n",
    "People with university education tend to hold higher paying jobs than those with fewer educational qualifications. This could be due to the fact that a university education provides important skills that employers value highly. Alternatively, it could be the case that smart people tend to go to university and that employers want to hire these smart people (i.e. a university degree is of no interest in and of itself to employers).\n",
    "\n",
    "Suppose you have data on income (Y), number of years of schooling (X) and the results of an intelligence test of many people (Z), and that you have calculated rXY, rXZ and rYZ. In practice, what signs would you expect these correlations to have? Assuming the correlations do have the signs you expect, can you tell which of the two stories in the paragraph above is correct?"
   ]
  },
  {
   "cell_type": "code",
   "execution_count": null,
   "metadata": {},
   "outputs": [],
   "source": []
  },
  {
   "cell_type": "markdown",
   "metadata": {},
   "source": [
    "Exercise 3.4\n",
    "The file EX34.XLS contains four variables: Y, X1, X2 and X3.\n",
    "(a) Calculate the correlation between Y and X1. Repeat for Y and X2, and for Y\n",
    "and X3.\n",
    "(b) Create an XY-plot involving Y and X1. Repeat for Y and X2, and for Y\n",
    "and X3.\n",
    "(c) Interpret your results for (a) and (b)."
   ]
  },
  {
   "cell_type": "code",
   "execution_count": null,
   "metadata": {},
   "outputs": [],
   "source": []
  },
  {
   "cell_type": "code",
   "execution_count": null,
   "metadata": {},
   "outputs": [],
   "source": [
    "Exercise 3.5\n",
    "(a) Using the data in FOREST.XLS, calculate and interpret a correlation matrix\n",
    "involving deforestation, population density, change in pasture and change in\n",
    "cropland.\n",
    "(b) Calculate and interpret a correlation matrix using the following variables in\n",
    "the data set HPRICE.XLS: house price, lot size, number of bedrooms, number\n",
    "of bathrooms and number of stories. How many individual correlations have\n",
    "you calculated?"
   ]
  }
 ],
 "metadata": {
  "kernelspec": {
   "display_name": "Python 3",
   "language": "python",
   "name": "python3"
  },
  "language_info": {
   "codemirror_mode": {
    "name": "ipython",
    "version": 3
   },
   "file_extension": ".py",
   "mimetype": "text/x-python",
   "name": "python",
   "nbconvert_exporter": "python",
   "pygments_lexer": "ipython3",
   "version": "3.7.4"
  }
 },
 "nbformat": 4,
 "nbformat_minor": 2
}
