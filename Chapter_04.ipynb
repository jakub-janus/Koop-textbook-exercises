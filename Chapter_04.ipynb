{
 "cells": [
  {
   "cell_type": "markdown",
   "metadata": {},
   "source": [
    "**Python solutions to Gary Koop's \"Analysis of Economic Data\" (4th ed., 2013)**\n",
    "\n",
    "**Chapter 4: Introduction to Simple Regression**\n",
    "\n",
    "Jakub Janus, jakub.janus@uek.krakow.pl"
   ]
  },
  {
   "cell_type": "markdown",
   "metadata": {},
   "source": [
    "# Exercise 4.1\n",
    "The FOREST.XLS data set contains data on deforestation (Y), population density\n",
    "(X), change in cropland (W) and change in pasture land (Z).\n",
    "(a) Run a regression of Y on X and interpret the results."
   ]
  },
  {
   "cell_type": "code",
   "execution_count": 17,
   "metadata": {},
   "outputs": [
    {
     "output_type": "execute_result",
     "data": {
      "text/plain": [
       "<class 'statsmodels.iolib.summary.Summary'>\n",
       "\"\"\"\n",
       "                            OLS Regression Results                            \n",
       "==============================================================================\n",
       "Dep. Variable:            Forest loss   R-squared:                       0.434\n",
       "Model:                            OLS   Adj. R-squared:                  0.426\n",
       "Method:                 Least Squares   F-statistic:                     52.24\n",
       "Date:                Fri, 13 Nov 2020   Prob (F-statistic):           5.50e-10\n",
       "Time:                        21:16:56   Log-Likelihood:                -73.655\n",
       "No. Observations:                  70   AIC:                             151.3\n",
       "Df Residuals:                      68   BIC:                             155.8\n",
       "Df Model:                           1                                         \n",
       "Covariance Type:            nonrobust                                         \n",
       "==============================================================================\n",
       "                 coef    std err          t      P>|t|      [0.025      0.975]\n",
       "------------------------------------------------------------------------------\n",
       "const          0.6000      0.112      5.342      0.000       0.376       0.824\n",
       "Pop dens       0.0008      0.000      7.228      0.000       0.001       0.001\n",
       "==============================================================================\n",
       "Omnibus:                       21.745   Durbin-Watson:                   2.045\n",
       "Prob(Omnibus):                  0.000   Jarque-Bera (JB):               36.165\n",
       "Skew:                           1.136   Prob(JB):                     1.40e-08\n",
       "Kurtosis:                       5.691   Cond. No.                     1.29e+03\n",
       "==============================================================================\n",
       "\n",
       "Warnings:\n",
       "[1] Standard Errors assume that the covariance matrix of the errors is correctly specified.\n",
       "[2] The condition number is large, 1.29e+03. This might indicate that there are\n",
       "strong multicollinearity or other numerical problems.\n",
       "\"\"\""
      ],
      "text/html": "<table class=\"simpletable\">\n<caption>OLS Regression Results</caption>\n<tr>\n  <th>Dep. Variable:</th>       <td>Forest loss</td>   <th>  R-squared:         </th> <td>   0.434</td>\n</tr>\n<tr>\n  <th>Model:</th>                   <td>OLS</td>       <th>  Adj. R-squared:    </th> <td>   0.426</td>\n</tr>\n<tr>\n  <th>Method:</th>             <td>Least Squares</td>  <th>  F-statistic:       </th> <td>   52.24</td>\n</tr>\n<tr>\n  <th>Date:</th>             <td>Fri, 13 Nov 2020</td> <th>  Prob (F-statistic):</th> <td>5.50e-10</td>\n</tr>\n<tr>\n  <th>Time:</th>                 <td>21:16:56</td>     <th>  Log-Likelihood:    </th> <td> -73.655</td>\n</tr>\n<tr>\n  <th>No. Observations:</th>      <td>    70</td>      <th>  AIC:               </th> <td>   151.3</td>\n</tr>\n<tr>\n  <th>Df Residuals:</th>          <td>    68</td>      <th>  BIC:               </th> <td>   155.8</td>\n</tr>\n<tr>\n  <th>Df Model:</th>              <td>     1</td>      <th>                     </th>     <td> </td>   \n</tr>\n<tr>\n  <th>Covariance Type:</th>      <td>nonrobust</td>    <th>                     </th>     <td> </td>   \n</tr>\n</table>\n<table class=\"simpletable\">\n<tr>\n      <td></td>        <th>coef</th>     <th>std err</th>      <th>t</th>      <th>P>|t|</th>  <th>[0.025</th>    <th>0.975]</th>  \n</tr>\n<tr>\n  <th>const</th>    <td>    0.6000</td> <td>    0.112</td> <td>    5.342</td> <td> 0.000</td> <td>    0.376</td> <td>    0.824</td>\n</tr>\n<tr>\n  <th>Pop dens</th> <td>    0.0008</td> <td>    0.000</td> <td>    7.228</td> <td> 0.000</td> <td>    0.001</td> <td>    0.001</td>\n</tr>\n</table>\n<table class=\"simpletable\">\n<tr>\n  <th>Omnibus:</th>       <td>21.745</td> <th>  Durbin-Watson:     </th> <td>   2.045</td>\n</tr>\n<tr>\n  <th>Prob(Omnibus):</th> <td> 0.000</td> <th>  Jarque-Bera (JB):  </th> <td>  36.165</td>\n</tr>\n<tr>\n  <th>Skew:</th>          <td> 1.136</td> <th>  Prob(JB):          </th> <td>1.40e-08</td>\n</tr>\n<tr>\n  <th>Kurtosis:</th>      <td> 5.691</td> <th>  Cond. No.          </th> <td>1.29e+03</td>\n</tr>\n</table><br/><br/>Warnings:<br/>[1] Standard Errors assume that the covariance matrix of the errors is correctly specified.<br/>[2] The condition number is large, 1.29e+03. This might indicate that there are<br/>strong multicollinearity or other numerical problems."
     },
     "metadata": {},
     "execution_count": 17
    }
   ],
   "source": [
    "import pandas as pd\n",
    "import statsmodels.api as sm\n",
    "forest = pd.read_excel(r'datasets\\FOREST.xls')\n",
    "Y = forest['Forest loss']\n",
    "X = forest['Pop dens']\n",
    "W = forest['Crop ch']\n",
    "Z = forest['Pasture ch']\n",
    "# Regression\n",
    "formula_Y_X = sm.OLS(Y, sm.add_constant(X))\n",
    "reg_Y_X = formula_Y_X.fit()\n",
    "reg_Y_X.summary()"
   ]
  },
  {
   "cell_type": "markdown",
   "metadata": {},
   "source": [
    "(b) Run a regression of Y on W and one of Y on Z and interpret the results."
   ]
  },
  {
   "cell_type": "code",
   "execution_count": 18,
   "metadata": {},
   "outputs": [
    {
     "output_type": "execute_result",
     "data": {
      "text/plain": [
       "<IPython.core.display.HTML object>"
      ],
      "text/html": "<table style=\"text-align:center\"><tr><td colspan=\"3\" style=\"border-bottom: 1px solid black\"></td></tr><tr><td style=\"text-align:left\"></td><td colspan=\"2\"><em>Dependent variable:</em></td></tr><tr><td style=\"text-align:left\"></td><tr><td style=\"text-align:left\"></td><td>(1)</td><td>(2)</td></tr><tr><td colspan=\"3\" style=\"border-bottom: 1px solid black\"></td></tr><tr><td style=\"text-align:left\">Crop ch</td><td>-0.006<sup></sup></td><td></td></tr><tr><td style=\"text-align:left\"></td><td>(0.014)</td><td></td></tr><tr><td style=\"text-align:left\">Pasture ch</td><td></td><td>0.033<sup>**</sup></td></tr><tr><td style=\"text-align:left\"></td><td></td><td>(0.013)</td></tr><tr><td style=\"text-align:left\">const</td><td>1.179<sup>***</sup></td><td>1.039<sup>***</sup></td></tr><tr><td style=\"text-align:left\"></td><td>(0.146)</td><td>(0.113)</td></tr><td colspan=\"3\" style=\"border-bottom: 1px solid black\"></td></tr><tr><td style=\"text-align: left\">Observations</td><td>70.0</td><td>70.0</td></tr><tr><td style=\"text-align: left\">R<sup>2</sup></td><td>0.003</td><td>0.091</td></tr><tr><td style=\"text-align: left\">Adjusted R<sup>2</sup></td><td>-0.012</td><td>0.078</td></tr><tr><td style=\"text-align: left\">Residual Std. Error</td><td>0.934(df = 68.0)</td><td>0.891(df = 68.0)</td></tr><tr><td style=\"text-align: left\">F Statistic</td><td>0.187<sup></sup>(df = 1.0; 68.0)</td><td>6.805<sup>**</sup>(df = 1.0; 68.0)</td></tr><tr><td colspan=\"3\" style=\"border-bottom: 1px solid black\"></td></tr><tr><td style=\"text-align: left\">Note:</td>\n <td colspan=\"2\" style=\"text-align: right\">\n  <sup>*</sup>p&lt;0.1;\n  <sup>**</sup>p&lt;0.05;\n  <sup>***</sup>p&lt;0.01\n </td></tr></table>"
     },
     "metadata": {},
     "execution_count": 18
    }
   ],
   "source": [
    "#Results using Stargazer\n",
    "from stargazer.stargazer import Stargazer\n",
    "from IPython.core.display import HTML\n",
    "formula_Y_W = sm.OLS(Y, sm.add_constant(W))\n",
    "reg_Y_W = formula_Y_W.fit()\n",
    "formula_Y_Z = sm.OLS(Y, sm.add_constant(Z))\n",
    "reg_Y_Z = formula_Y_Z.fit()\n",
    "stargazer_reg_Y_W_reg_Y_Z = Stargazer([reg_Y_W, reg_Y_Z])\n",
    "HTML(stargazer_reg_Y_W_reg_Y_Z.render_html())"
   ]
  },
  {
   "cell_type": "markdown",
   "metadata": {},
   "source": [
    "(c) Create a new variable, V, by dividing X by 100. What are the units in terms\n",
    "of which V is measured?"
   ]
  },
  {
   "cell_type": "code",
   "execution_count": 19,
   "metadata": {},
   "outputs": [],
   "source": [
    "V = X / 100"
   ]
  },
  {
   "cell_type": "markdown",
   "metadata": {},
   "source": [
    "(d) Run a regression of Y on V. Compare your results to those for part (a). How do you interpret your coefficient estimate of $\\beta$? How does x differ between part (a) and part (d)?"
   ]
  },
  {
   "cell_type": "code",
   "execution_count": 20,
   "metadata": {},
   "outputs": [
    {
     "output_type": "execute_result",
     "data": {
      "text/plain": [
       "<IPython.core.display.HTML object>"
      ],
      "text/html": "<table style=\"text-align:center\"><tr><td colspan=\"2\" style=\"border-bottom: 1px solid black\"></td></tr><tr><td style=\"text-align:left\"></td><td colspan=\"1\"><em>Dependent variable:</em></td></tr><tr><td style=\"text-align:left\"></td><tr><td style=\"text-align:left\"></td><td>(1)</td></tr><tr><td colspan=\"2\" style=\"border-bottom: 1px solid black\"></td></tr><tr><td style=\"text-align:left\">Pop dens</td><td>0.084<sup>***</sup></td></tr><tr><td style=\"text-align:left\"></td><td>(0.012)</td></tr><tr><td style=\"text-align:left\">const</td><td>0.6<sup>***</sup></td></tr><tr><td style=\"text-align:left\"></td><td>(0.112)</td></tr><td colspan=\"2\" style=\"border-bottom: 1px solid black\"></td></tr><tr><td style=\"text-align: left\">Observations</td><td>70.0</td></tr><tr><td style=\"text-align: left\">R<sup>2</sup></td><td>0.434</td></tr><tr><td style=\"text-align: left\">Adjusted R<sup>2</sup></td><td>0.426</td></tr><tr><td style=\"text-align: left\">Residual Std. Error</td><td>0.703(df = 68.0)</td></tr><tr><td style=\"text-align: left\">F Statistic</td><td>52.243<sup>***</sup>(df = 1.0; 68.0)</td></tr><tr><td colspan=\"2\" style=\"border-bottom: 1px solid black\"></td></tr><tr><td style=\"text-align: left\">Note:</td>\n <td colspan=\"1\" style=\"text-align: right\">\n  <sup>*</sup>p&lt;0.1;\n  <sup>**</sup>p&lt;0.05;\n  <sup>***</sup>p&lt;0.01\n </td></tr></table>"
     },
     "metadata": {},
     "execution_count": 20
    }
   ],
   "source": [
    "formula_Y_V = sm.OLS(Y, sm.add_constant(V))\n",
    "reg_Y_V = formula_Y_V.fit()\n",
    "HTML(Stargazer([reg_Y_V]).render_html())"
   ]
  },
  {
   "cell_type": "markdown",
   "metadata": {},
   "source": [
    "(e) Experiment with scaling dependent and explanatory variables (i.e. by dividing\n",
    "them by a constant) and see what effect this has on your coefficient\n",
    "estimates."
   ]
  },
  {
   "cell_type": "code",
   "execution_count": 21,
   "metadata": {},
   "outputs": [
    {
     "output_type": "execute_result",
     "data": {
      "text/plain": [
       "<IPython.core.display.HTML object>"
      ],
      "text/html": "<table style=\"text-align:center\"><tr><td colspan=\"3\" style=\"border-bottom: 1px solid black\"></td></tr><tr><td style=\"text-align:left\"></td><td colspan=\"2\"><em>Dependent variable:</em></td></tr><tr><td style=\"text-align:left\"></td><tr><td style=\"text-align:left\"></td><td>(1)</td><td>(2)</td></tr><tr><td colspan=\"3\" style=\"border-bottom: 1px solid black\"></td></tr><tr><td style=\"text-align:left\">Crop ch</td><td>-0.012<sup></sup></td><td></td></tr><tr><td style=\"text-align:left\"></td><td>(0.027)</td><td></td></tr><tr><td style=\"text-align:left\">const</td><td>1.179<sup>***</sup></td><td>1.139<sup>***</sup></td></tr><tr><td style=\"text-align:left\"></td><td>(0.146)</td><td>(0.107)</td></tr><tr><td style=\"text-align:left\">x1</td><td></td><td>0.28<sup>**</sup></td></tr><tr><td style=\"text-align:left\"></td><td></td><td>(0.107)</td></tr><td colspan=\"3\" style=\"border-bottom: 1px solid black\"></td></tr><tr><td style=\"text-align: left\">Observations</td><td>70.0</td><td>70.0</td></tr><tr><td style=\"text-align: left\">R<sup>2</sup></td><td>0.003</td><td>0.091</td></tr><tr><td style=\"text-align: left\">Adjusted R<sup>2</sup></td><td>-0.012</td><td>0.078</td></tr><tr><td style=\"text-align: left\">Residual Std. Error</td><td>0.934(df = 68.0)</td><td>0.891(df = 68.0)</td></tr><tr><td style=\"text-align: left\">F Statistic</td><td>0.187<sup></sup>(df = 1.0; 68.0)</td><td>6.805<sup>**</sup>(df = 1.0; 68.0)</td></tr><tr><td colspan=\"3\" style=\"border-bottom: 1px solid black\"></td></tr><tr><td style=\"text-align: left\">Note:</td>\n <td colspan=\"2\" style=\"text-align: right\">\n  <sup>*</sup>p&lt;0.1;\n  <sup>**</sup>p&lt;0.05;\n  <sup>***</sup>p&lt;0.01\n </td></tr></table>"
     },
     "metadata": {},
     "execution_count": 21
    }
   ],
   "source": [
    "W1 = W / 2\n",
    "Z1 = [(z - Z.mean()) / Z.std() for z in Z]\n",
    "formula_Y_W1 = sm.OLS(Y, sm.add_constant(W1))\n",
    "reg_Y_W1 = formula_Y_W1.fit()\n",
    "formula_Y_Z1 = sm.OLS(Y, sm.add_constant(Z1))\n",
    "reg_Y_Z1 = formula_Y_Z1.fit()\n",
    "stargazer_reg_Y_W1_reg_Y_Z1 = Stargazer([reg_Y_W1, reg_Y_Z1])\n",
    "HTML(stargazer_reg_Y_W1_reg_Y_Z1.render_html())"
   ]
  },
  {
   "cell_type": "markdown",
   "metadata": {},
   "source": [
    "# Exercise 4.2\n",
    "Using the data in FOREST.XLS (see Exercise 4.1), run a regression of Y on X and\n",
    "compare the actual observations to the fitted values."
   ]
  },
  {
   "cell_type": "code",
   "execution_count": 23,
   "metadata": {},
   "outputs": [
    {
     "output_type": "execute_result",
     "data": {
      "text/plain": [
       "        X    Y  fitted Y\n",
       "0   357.0  0.7  0.900676\n",
       "1    48.0  0.7  0.640397\n",
       "2   932.0  0.8  1.385014\n",
       "3   366.0  0.7  0.908257\n",
       "4    83.0  0.8  0.669878\n",
       "..    ...  ...       ...\n",
       "65  327.0  0.6  0.875406\n",
       "66  409.0  1.7  0.944477\n",
       "67  117.0  2.4  0.698517\n",
       "68  179.0  0.4  0.750741\n",
       "69  234.0  1.2  0.797069\n",
       "\n",
       "[70 rows x 3 columns]"
      ],
      "text/html": "<div>\n<style scoped>\n    .dataframe tbody tr th:only-of-type {\n        vertical-align: middle;\n    }\n\n    .dataframe tbody tr th {\n        vertical-align: top;\n    }\n\n    .dataframe thead th {\n        text-align: right;\n    }\n</style>\n<table border=\"1\" class=\"dataframe\">\n  <thead>\n    <tr style=\"text-align: right;\">\n      <th></th>\n      <th>X</th>\n      <th>Y</th>\n      <th>fitted Y</th>\n    </tr>\n  </thead>\n  <tbody>\n    <tr>\n      <th>0</th>\n      <td>357.0</td>\n      <td>0.7</td>\n      <td>0.900676</td>\n    </tr>\n    <tr>\n      <th>1</th>\n      <td>48.0</td>\n      <td>0.7</td>\n      <td>0.640397</td>\n    </tr>\n    <tr>\n      <th>2</th>\n      <td>932.0</td>\n      <td>0.8</td>\n      <td>1.385014</td>\n    </tr>\n    <tr>\n      <th>3</th>\n      <td>366.0</td>\n      <td>0.7</td>\n      <td>0.908257</td>\n    </tr>\n    <tr>\n      <th>4</th>\n      <td>83.0</td>\n      <td>0.8</td>\n      <td>0.669878</td>\n    </tr>\n    <tr>\n      <th>...</th>\n      <td>...</td>\n      <td>...</td>\n      <td>...</td>\n    </tr>\n    <tr>\n      <th>65</th>\n      <td>327.0</td>\n      <td>0.6</td>\n      <td>0.875406</td>\n    </tr>\n    <tr>\n      <th>66</th>\n      <td>409.0</td>\n      <td>1.7</td>\n      <td>0.944477</td>\n    </tr>\n    <tr>\n      <th>67</th>\n      <td>117.0</td>\n      <td>2.4</td>\n      <td>0.698517</td>\n    </tr>\n    <tr>\n      <th>68</th>\n      <td>179.0</td>\n      <td>0.4</td>\n      <td>0.750741</td>\n    </tr>\n    <tr>\n      <th>69</th>\n      <td>234.0</td>\n      <td>1.2</td>\n      <td>0.797069</td>\n    </tr>\n  </tbody>\n</table>\n<p>70 rows × 3 columns</p>\n</div>"
     },
     "metadata": {},
     "execution_count": 23
    }
   ],
   "source": [
    "formula_Y_X = sm.OLS(Y, sm.add_constant(X))\n",
    "reg_Y_X = formula_Y_X.fit()\n",
    "fitted_reg_Y_X = reg_Y_X.fittedvalues\n",
    "compare = pd.DataFrame(columns = ['X', 'Y', 'fitted Y'])\n",
    "compare['X'] = X\n",
    "compare['Y'] = Y\n",
    "compare['fitted Y'] = fitted_reg_Y_X\n",
    "compare"
   ]
  },
  {
   "cell_type": "code",
   "execution_count": 25,
   "metadata": {},
   "outputs": [
    {
     "output_type": "display_data",
     "data": {
      "text/plain": "<Figure size 432x288 with 1 Axes>",
      "image/png": "[encoded data removed]"
     },
     "metadata": {
      "needs_background": "light"
     }
    }
   ],
   "source": [
    "import matplotlib.pyplot as plt\n",
    "fig, ax = plt.subplots()\n",
    "ax.scatter(compare['X'], compare['Y'], s = 10, c = 'r', marker = 'o', label = 'Y')\n",
    "ax.scatter(compare['X'], compare['fitted Y'], s=10, c = 'g', marker = 'o', label = 'fitted Y')\n",
    "ax.set_xlabel('X')\n",
    "plt.legend(loc = 'upper left')\n",
    "plt.show()"
   ]
  },
  {
   "cell_type": "markdown",
   "metadata": {},
   "source": [
    "# Exercise 4.3\n",
    "(a) Using the data in FOREST.XLS (see Exercise 4.1) run a regression of Y on X and obtain the residuals. How would you interpret the residuals? Are there\n",
    "any outliers?"
   ]
  },
  {
   "cell_type": "code",
   "execution_count": 27,
   "metadata": {},
   "outputs": [
    {
     "output_type": "execute_result",
     "data": {
      "text/plain": [
       "0    -0.200676\n",
       "1     0.059603\n",
       "2    -0.585014\n",
       "3    -0.208257\n",
       "4     0.130122\n",
       "        ...   \n",
       "65   -0.275406\n",
       "66    0.755523\n",
       "67    1.701483\n",
       "68   -0.350741\n",
       "69    0.402931\n",
       "Length: 70, dtype: float64"
      ]
     },
     "metadata": {},
     "execution_count": 27
    }
   ],
   "source": [
    "residuals_reg_Y_X = reg_Y_X.resid\n",
    "residuals_reg_Y_X"
   ]
  },
  {
   "cell_type": "code",
   "execution_count": 28,
   "metadata": {},
   "outputs": [
    {
     "output_type": "display_data",
     "data": {
      "text/plain": "<Figure size 432x288 with 1 Axes>",
      "image/png": "[encoded data removed]"
     },
     "metadata": {
      "needs_background": "light"
     }
    }
   ],
   "source": [
    "residuals_reg_Y_X.plot(c = 'g');"
   ]
  },
  {
   "cell_type": "markdown",
   "metadata": {},
   "source": [
    "(b) Repeat part (a) for the other variables, W and Z in this data set."
   ]
  },
  {
   "cell_type": "code",
   "execution_count": null,
   "metadata": {},
   "outputs": [],
   "source": []
  },
  {
   "cell_type": "markdown",
   "metadata": {},
   "source": [
    "#Exercise 4.4\n",
    "(a) Using the data in FOREST.XLS (see Exercise 4.1) run a regression of Y on\n",
    "X. What is R2?\n"
   ]
  },
  {
   "cell_type": "code",
   "execution_count": 29,
   "metadata": {},
   "outputs": [
    {
     "output_type": "execute_result",
     "data": {
      "text/plain": [
       "0.43447889049101684"
      ]
     },
     "metadata": {},
     "execution_count": 29
    }
   ],
   "source": [
    "rsquared_reg_Y_X = reg_Y_X.rsquared\n",
    "rsquared_reg_Y_X"
   ]
  },
  {
   "cell_type": "markdown",
   "metadata": {},
   "source": [
    "(b) Calculate the correlation between Y and X."
   ]
  },
  {
   "cell_type": "code",
   "execution_count": 30,
   "metadata": {},
   "outputs": [
    {
     "output_type": "execute_result",
     "data": {
      "text/plain": [
       "0.6591501274300242"
      ]
     },
     "metadata": {},
     "execution_count": 30
    }
   ],
   "source": [
    "cor_Y_X = X.corr(Y)\n",
    "cor_Y_X"
   ]
  },
  {
   "cell_type": "markdown",
   "metadata": {},
   "source": [
    "(c) Discuss the relationship between your answers in parts (a) and (b)."
   ]
  },
  {
   "cell_type": "code",
   "execution_count": 31,
   "metadata": {},
   "outputs": [
    {
     "output_type": "execute_result",
     "data": {
      "text/plain": [
       "True"
      ]
     },
     "metadata": {},
     "execution_count": 31
    }
   ],
   "source": [
    "(cor_Y_X**2).round(10) ==  rsquared_reg_Y_X.round(10)"
   ]
  },
  {
   "cell_type": "markdown",
   "metadata": {},
   "source": [
    "(d) Redo part (a) for various regressions involving the variables W, X, Y and Z\n",
    "in the data set. Comment on the fit of each of these regressions."
   ]
  },
  {
   "cell_type": "code",
   "execution_count": null,
   "metadata": {},
   "outputs": [],
   "source": []
  },
  {
   "cell_type": "markdown",
   "metadata": {},
   "source": [
    "# Exercise 4.5\n",
    "Using the data in FOREST.XLS examine different XY-plots involving the variables\n",
    "X, Y, W and Z (see Exercise 4.1 for a definition of these variables). Does\n",
    "there seem to be a nonlinear relationship between any pair of variables? Repeat\n",
    "the exercise using the data in the advertising example (ADVERT.XLS)."
   ]
  },
  {
   "cell_type": "code",
   "execution_count": null,
   "metadata": {},
   "outputs": [],
   "source": []
  },
  {
   "cell_type": "code",
   "execution_count": null,
   "metadata": {},
   "outputs": [],
   "source": []
  },
  {
   "cell_type": "markdown",
   "metadata": {},
   "source": [
    "# Exercise 4.6\n",
    "Data set EX46.XLS contains two variables, labeled Y and X.\n",
    "\n",
    "(a) Make an XY-plot of these two variables. Does the relationship between Y and\n",
    "X appear to be linear?"
   ]
  },
  {
   "cell_type": "code",
   "execution_count": null,
   "metadata": {},
   "outputs": [],
   "source": []
  },
  {
   "source": [
    "(b) Calculate the square root of variable X."
   ],
   "cell_type": "markdown",
   "metadata": {}
  },
  {
   "cell_type": "code",
   "execution_count": null,
   "metadata": {},
   "outputs": [],
   "source": []
  },
  {
   "source": [
    "(c) Make an XY-plot of the square root of X against Y. Does this relationship appear to be linear?"
   ],
   "cell_type": "markdown",
   "metadata": {}
  },
  {
   "cell_type": "code",
   "execution_count": null,
   "metadata": {},
   "outputs": [],
   "source": []
  },
  {
   "cell_type": "code",
   "execution_count": null,
   "metadata": {},
   "outputs": [],
   "source": []
  },
  {
   "cell_type": "markdown",
   "metadata": {},
   "source": [
    "# Exercise 4.7\n",
    "Use the data in Example 4.1 (costs of production in the electricity utility industry,\n",
    "ELECTRIC.XLS), where Y is the cost of production and X is the output.\n",
    "\n",
    "(a) Run a regression of Y on X."
   ]
  },
  {
   "cell_type": "code",
   "execution_count": 32,
   "metadata": {},
   "outputs": [
    {
     "output_type": "execute_result",
     "data": {
      "text/plain": [
       "<class 'statsmodels.iolib.summary.Summary'>\n",
       "\"\"\"\n",
       "                            OLS Regression Results                            \n",
       "==============================================================================\n",
       "Dep. Variable:                 Output   R-squared:                       0.916\n",
       "Model:                            OLS   Adj. R-squared:                  0.916\n",
       "Method:                 Least Squares   F-statistic:                     1323.\n",
       "Date:                Fri, 13 Nov 2020   Prob (F-statistic):           5.36e-67\n",
       "Time:                        21:18:20   Log-Likelihood:                -1169.5\n",
       "No. Observations:                 123   AIC:                             2343.\n",
       "Df Residuals:                     121   BIC:                             2349.\n",
       "Df Model:                           1                                         \n",
       "Covariance Type:            nonrobust                                         \n",
       "==============================================================================\n",
       "                 coef    std err          t      P>|t|      [0.025      0.975]\n",
       "------------------------------------------------------------------------------\n",
       "const        317.0380    376.683      0.842      0.402    -428.705    1062.781\n",
       "Cost         191.3326      5.260     36.376      0.000     180.919     201.746\n",
       "==============================================================================\n",
       "Omnibus:                       51.127   Durbin-Watson:                   1.599\n",
       "Prob(Omnibus):                  0.000   Jarque-Bera (JB):             1013.014\n",
       "Skew:                           0.743   Prob(JB):                    1.06e-220\n",
       "Kurtosis:                      16.980   Cond. No.                         91.1\n",
       "==============================================================================\n",
       "\n",
       "Warnings:\n",
       "[1] Standard Errors assume that the covariance matrix of the errors is correctly specified.\n",
       "\"\"\""
      ],
      "text/html": "<table class=\"simpletable\">\n<caption>OLS Regression Results</caption>\n<tr>\n  <th>Dep. Variable:</th>         <td>Output</td>      <th>  R-squared:         </th> <td>   0.916</td>\n</tr>\n<tr>\n  <th>Model:</th>                   <td>OLS</td>       <th>  Adj. R-squared:    </th> <td>   0.916</td>\n</tr>\n<tr>\n  <th>Method:</th>             <td>Least Squares</td>  <th>  F-statistic:       </th> <td>   1323.</td>\n</tr>\n<tr>\n  <th>Date:</th>             <td>Fri, 13 Nov 2020</td> <th>  Prob (F-statistic):</th> <td>5.36e-67</td>\n</tr>\n<tr>\n  <th>Time:</th>                 <td>21:18:20</td>     <th>  Log-Likelihood:    </th> <td> -1169.5</td>\n</tr>\n<tr>\n  <th>No. Observations:</th>      <td>   123</td>      <th>  AIC:               </th> <td>   2343.</td>\n</tr>\n<tr>\n  <th>Df Residuals:</th>          <td>   121</td>      <th>  BIC:               </th> <td>   2349.</td>\n</tr>\n<tr>\n  <th>Df Model:</th>              <td>     1</td>      <th>                     </th>     <td> </td>   \n</tr>\n<tr>\n  <th>Covariance Type:</th>      <td>nonrobust</td>    <th>                     </th>     <td> </td>   \n</tr>\n</table>\n<table class=\"simpletable\">\n<tr>\n    <td></td>       <th>coef</th>     <th>std err</th>      <th>t</th>      <th>P>|t|</th>  <th>[0.025</th>    <th>0.975]</th>  \n</tr>\n<tr>\n  <th>const</th> <td>  317.0380</td> <td>  376.683</td> <td>    0.842</td> <td> 0.402</td> <td> -428.705</td> <td> 1062.781</td>\n</tr>\n<tr>\n  <th>Cost</th>  <td>  191.3326</td> <td>    5.260</td> <td>   36.376</td> <td> 0.000</td> <td>  180.919</td> <td>  201.746</td>\n</tr>\n</table>\n<table class=\"simpletable\">\n<tr>\n  <th>Omnibus:</th>       <td>51.127</td> <th>  Durbin-Watson:     </th> <td>   1.599</td> \n</tr>\n<tr>\n  <th>Prob(Omnibus):</th> <td> 0.000</td> <th>  Jarque-Bera (JB):  </th> <td>1013.014</td> \n</tr>\n<tr>\n  <th>Skew:</th>          <td> 0.743</td> <th>  Prob(JB):          </th> <td>1.06e-220</td>\n</tr>\n<tr>\n  <th>Kurtosis:</th>      <td>16.980</td> <th>  Cond. No.          </th> <td>    91.1</td> \n</tr>\n</table><br/><br/>Warnings:<br/>[1] Standard Errors assume that the covariance matrix of the errors is correctly specified."
     },
     "metadata": {},
     "execution_count": 32
    }
   ],
   "source": [
    "electric = pd.read_excel(r'datasets\\ELECTRIC.xls').drop([0, 0]).reset_index()\n",
    "X = electric['Cost'].astype(float)\n",
    "Y = electric['Output'].astype(float)\n",
    "formula_Y_X = sm.OLS(Y, sm.add_constant(X))\n",
    "reg_Y_X = formula_Y_X.fit()\n",
    "reg_Y_X.summary()"
   ]
  },
  {
   "cell_type": "markdown",
   "metadata": {},
   "source": [
    "(b) Take a log transformation of both variables."
   ]
  },
  {
   "cell_type": "code",
   "execution_count": 33,
   "metadata": {},
   "outputs": [],
   "source": [
    "import numpy as np\n",
    "Y_log = np.log(Y)\n",
    "X_log = np.log(X)"
   ]
  },
  {
   "cell_type": "markdown",
   "metadata": {},
   "source": [
    "(c) Run a regression of ln(Y) on ln(X) and interpret your results verbally."
   ]
  },
  {
   "cell_type": "code",
   "execution_count": 34,
   "metadata": {},
   "outputs": [
    {
     "output_type": "execute_result",
     "data": {
      "text/plain": [
       "<class 'statsmodels.iolib.summary.Summary'>\n",
       "\"\"\"\n",
       "                            OLS Regression Results                            \n",
       "==============================================================================\n",
       "Dep. Variable:                 Output   R-squared:                       0.963\n",
       "Model:                            OLS   Adj. R-squared:                  0.963\n",
       "Method:                 Least Squares   F-statistic:                     3138.\n",
       "Date:                Fri, 13 Nov 2020   Prob (F-statistic):           2.15e-88\n",
       "Time:                        21:18:25   Log-Likelihood:                -43.729\n",
       "No. Observations:                 123   AIC:                             91.46\n",
       "Df Residuals:                     121   BIC:                             97.08\n",
       "Df Model:                           1                                         \n",
       "Covariance Type:            nonrobust                                         \n",
       "==============================================================================\n",
       "                 coef    std err          t      P>|t|      [0.025      0.975]\n",
       "------------------------------------------------------------------------------\n",
       "const          4.7108      0.069     68.382      0.000       4.574       4.847\n",
       "Cost           1.1578      0.021     56.020      0.000       1.117       1.199\n",
       "==============================================================================\n",
       "Omnibus:                        6.055   Durbin-Watson:                   1.288\n",
       "Prob(Omnibus):                  0.048   Jarque-Bera (JB):                8.313\n",
       "Skew:                          -0.202   Prob(JB):                       0.0157\n",
       "Kurtosis:                       4.208   Cond. No.                         7.85\n",
       "==============================================================================\n",
       "\n",
       "Warnings:\n",
       "[1] Standard Errors assume that the covariance matrix of the errors is correctly specified.\n",
       "\"\"\""
      ],
      "text/html": "<table class=\"simpletable\">\n<caption>OLS Regression Results</caption>\n<tr>\n  <th>Dep. Variable:</th>         <td>Output</td>      <th>  R-squared:         </th> <td>   0.963</td>\n</tr>\n<tr>\n  <th>Model:</th>                   <td>OLS</td>       <th>  Adj. R-squared:    </th> <td>   0.963</td>\n</tr>\n<tr>\n  <th>Method:</th>             <td>Least Squares</td>  <th>  F-statistic:       </th> <td>   3138.</td>\n</tr>\n<tr>\n  <th>Date:</th>             <td>Fri, 13 Nov 2020</td> <th>  Prob (F-statistic):</th> <td>2.15e-88</td>\n</tr>\n<tr>\n  <th>Time:</th>                 <td>21:18:25</td>     <th>  Log-Likelihood:    </th> <td> -43.729</td>\n</tr>\n<tr>\n  <th>No. Observations:</th>      <td>   123</td>      <th>  AIC:               </th> <td>   91.46</td>\n</tr>\n<tr>\n  <th>Df Residuals:</th>          <td>   121</td>      <th>  BIC:               </th> <td>   97.08</td>\n</tr>\n<tr>\n  <th>Df Model:</th>              <td>     1</td>      <th>                     </th>     <td> </td>   \n</tr>\n<tr>\n  <th>Covariance Type:</th>      <td>nonrobust</td>    <th>                     </th>     <td> </td>   \n</tr>\n</table>\n<table class=\"simpletable\">\n<tr>\n    <td></td>       <th>coef</th>     <th>std err</th>      <th>t</th>      <th>P>|t|</th>  <th>[0.025</th>    <th>0.975]</th>  \n</tr>\n<tr>\n  <th>const</th> <td>    4.7108</td> <td>    0.069</td> <td>   68.382</td> <td> 0.000</td> <td>    4.574</td> <td>    4.847</td>\n</tr>\n<tr>\n  <th>Cost</th>  <td>    1.1578</td> <td>    0.021</td> <td>   56.020</td> <td> 0.000</td> <td>    1.117</td> <td>    1.199</td>\n</tr>\n</table>\n<table class=\"simpletable\">\n<tr>\n  <th>Omnibus:</th>       <td> 6.055</td> <th>  Durbin-Watson:     </th> <td>   1.288</td>\n</tr>\n<tr>\n  <th>Prob(Omnibus):</th> <td> 0.048</td> <th>  Jarque-Bera (JB):  </th> <td>   8.313</td>\n</tr>\n<tr>\n  <th>Skew:</th>          <td>-0.202</td> <th>  Prob(JB):          </th> <td>  0.0157</td>\n</tr>\n<tr>\n  <th>Kurtosis:</th>      <td> 4.208</td> <th>  Cond. No.          </th> <td>    7.85</td>\n</tr>\n</table><br/><br/>Warnings:<br/>[1] Standard Errors assume that the covariance matrix of the errors is correctly specified."
     },
     "metadata": {},
     "execution_count": 34
    }
   ],
   "source": [
    "formula_Y_log_X_log = sm.OLS(Y_log, sm.add_constant(X_log))\n",
    "reg_Y_log_X_log = formula_Y_log_X_log.fit()\n",
    "reg_Y_log_X_log.summary()"
   ]
  }
 ],
 "metadata": {
  "kernelspec": {
   "name": "python3",
   "display_name": "Python 3.7.4 64-bit (conda)",
   "metadata": {
    "interpreter": {
     "hash": "b3ba2566441a7c06988d0923437866b63cedc61552a5af99d1f4fb67d367b25f"
    }
   }
  },
  "language_info": {
   "codemirror_mode": {
    "name": "ipython",
    "version": 3
   },
   "file_extension": ".py",
   "mimetype": "text/x-python",
   "name": "python",
   "nbconvert_exporter": "python",
   "pygments_lexer": "ipython3",
   "version": "3.7.4-final"
  }
 },
 "nbformat": 4,
 "nbformat_minor": 2
}