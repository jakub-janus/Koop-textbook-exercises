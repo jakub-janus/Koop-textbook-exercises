{
 "cells": [
  {
   "cell_type": "markdown",
   "metadata": {},
   "source": [
    "**Python solutions to Gary Koop's \"Analysis of Economic Data\" (4th ed., 2013)**\n",
    "\n",
    "**Chapter 5: Statistical Aspects of Regression**\n",
    "\n",
    "Jakub Janus, [jakub.janus@uek.krakow.pl](jakub.janus@uek.krakow.pl)"
   ]
  },
  {
   "cell_type": "markdown",
   "metadata": {},
   "source": [
    "# Exercise 5.1\n",
    "The data sets used to calculate Figures 5.1, 5.2, 5.3 and 5.4 are in FIG51.XLS, FIG52.XLS, FIG53.XLS and FIG54.XLS. \n",
    "\n",
    "(a) Calculate the OLS estimates alpha and beta for these four data sets. How close are they to 0 and 1 (the values we used to artificially simulate the data)?"
   ]
  },
  {
   "cell_type": "code",
   "execution_count": 8,
   "metadata": {},
   "outputs": [
    {
     "output_type": "execute_result",
     "data": {
      "text/plain": [
       "<IPython.core.display.HTML object>"
      ],
      "text/html": "<table style=\"text-align:center\"><tr><td colspan=\"5\" style=\"border-bottom: 1px solid black\"></td></tr><tr><td style=\"text-align:left\"></td><td colspan=\"4\"><em>Dependent variable:</em></td></tr><tr><td style=\"text-align:left\"></td><tr><td style=\"text-align:left\"></td><td>(1)</td><td>(2)</td><td>(3)</td><td>(4)</td></tr><tr><td colspan=\"5\" style=\"border-bottom: 1px solid black\"></td></tr><tr><td style=\"text-align:left\">X</td><td>0.911<sup></sup></td><td>1.039<sup>***</sup></td><td>1.003<sup>***</sup></td><td>1.515<sup></sup></td></tr><tr><td style=\"text-align:left\"></td><td>(0.779)</td><td>(0.172)</td><td>(0.009)</td><td>(1.712)</td></tr><tr><td style=\"text-align:left\">const</td><td>-0.942<sup></sup></td><td>-0.132<sup></sup></td><td>-0.008<sup></sup></td><td>-1.552<sup></sup></td></tr><tr><td style=\"text-align:left\"></td><td>(1.928)</td><td>(0.556)</td><td>(0.028)</td><td>(5.147)</td></tr><td colspan=\"5\" style=\"border-bottom: 1px solid black\"></td></tr><tr><td style=\"text-align: left\">Observations</td><td>5.0</td><td>100.0</td><td>100.0</td><td>100.0</td></tr><tr><td style=\"text-align: left\">R<sup>2</sup></td><td>0.313</td><td>0.271</td><td>0.993</td><td>0.008</td></tr><tr><td style=\"text-align: left\">Adjusted R<sup>2</sup></td><td>0.084</td><td>0.264</td><td>0.993</td><td>-0.002</td></tr><tr><td style=\"text-align: left\">Residual Std. Error</td><td>2.289(df = 3.0)</td><td>1.937(df = 98.0)</td><td>0.097(df = 98.0)</td><td>1.94(df = 98.0)</td></tr><tr><td style=\"text-align: left\">F Statistic</td><td>1.366<sup></sup>(df = 1.0; 3.0)</td><td>36.523<sup>***</sup>(df = 1.0; 98.0)</td><td>13721.34<sup>***</sup>(df = 1.0; 98.0)</td><td>0.784<sup></sup>(df = 1.0; 98.0)</td></tr><tr><td colspan=\"5\" style=\"border-bottom: 1px solid black\"></td></tr><tr><td style=\"text-align: left\">Note:</td>\n <td colspan=\"4\" style=\"text-align: right\">\n  <sup>*</sup>p&lt;0.1;\n  <sup>**</sup>p&lt;0.05;\n  <sup>***</sup>p&lt;0.01\n </td></tr></table>"
     },
     "metadata": {},
     "execution_count": 8
    }
   ],
   "source": [
    "import pandas as pd\n",
    "import statsmodels.api as sm\n",
    "from stargazer.stargazer import Stargazer\n",
    "from IPython.core.display import HTML\n",
    "# fig51\n",
    "fig51 = pd.read_excel(r'datasets\\FIG51.xls')\n",
    "formula_fig51 = sm.OLS(fig51['Y'], sm.add_constant(fig51['X']))\n",
    "reg_fig51 = formula_fig51.fit()\n",
    "# fig52\n",
    "fig52 = pd.read_excel(r'datasets\\FIG52.xls')\n",
    "formula_fig52 = sm.OLS(fig52['Y'], sm.add_constant(fig52['X']))\n",
    "reg_fig52 = formula_fig52.fit()\n",
    "# fig53\n",
    "fig53 = pd.read_excel(r'datasets\\FIG53.xls')\n",
    "formula_fig53 = sm.OLS(fig53['Y'], sm.add_constant(fig53['X']))\n",
    "reg_fig53 = formula_fig53.fit()\n",
    "# fig54\n",
    "fig54 = pd.read_excel(r'datasets\\FIG54.xls')\n",
    "formula_fig54 = sm.OLS(fig54['Y'], sm.add_constant(fig54['X']))\n",
    "reg_fig54 = formula_fig54.fit()\n",
    "# Comparison\n",
    "stargazer_fig51_fig52_fig53_fig54 = Stargazer([reg_fig51, reg_fig52, reg_fig53, reg_fig54])\n",
    "HTML(stargazer_fig51_fig52_fig53_fig54.render_html())"
   ]
  },
  {
   "source": [
    "(b) Calculate confidence intervals for $\\hat{\\alpha}$ for the four data sets. Examine how the\n",
    "width of the confidence interval relates to N and the variability of the errors."
   ],
   "cell_type": "markdown",
   "metadata": {}
  },
  {
   "cell_type": "code",
   "execution_count": null,
   "metadata": {},
   "outputs": [],
   "source": []
  },
  {
   "cell_type": "markdown",
   "metadata": {},
   "source": [
    "(c) Calculate 99% and 90% confidence intervals for the data sets. How do these\n",
    "differ from the 95% confidence intervals in part (b)?"
   ]
  },
  {
   "cell_type": "code",
   "execution_count": null,
   "metadata": {},
   "outputs": [],
   "source": []
  },
  {
   "source": [
    "# Exercise 5.2\n",
    "The file ADVERT.XLS contains data on annual sales (Y) and advertising expenditure\n",
    "(X) (both measured in millions of dollars) for 84 companies in the USA.\n",
    "\n",
    "(a) Run a regression of Y on X and obtain 95% confidence intervals for\n",
    "α and β."
   ],
   "cell_type": "markdown",
   "metadata": {}
  },
  {
   "cell_type": "code",
   "execution_count": null,
   "metadata": {},
   "outputs": [],
   "source": []
  },
  {
   "source": [
    "(b) Write a sentence explaining verbally what the 95% confidence interval for β\n",
    "means in terms of the possible range of values that the effect of the explanatory\n",
    "variable on the dependent variable may take."
   ],
   "cell_type": "markdown",
   "metadata": {}
  },
  {
   "cell_type": "code",
   "execution_count": null,
   "metadata": {},
   "outputs": [],
   "source": []
  },
  {
   "source": [
    "# Exercise 5.3\n",
    "The file ELECTRIC.XLS contains data on the costs of production (Y, measured\n",
    "in millions of dollars) and output (X, measured in thousands of kilowatt hours)\n",
    "for 123 electricity utility companies in the USA. Repeat Exercise 5.2 for this\n",
    "data set."
   ],
   "cell_type": "markdown",
   "metadata": {}
  },
  {
   "cell_type": "code",
   "execution_count": null,
   "metadata": {},
   "outputs": [],
   "source": []
  },
  {
   "cell_type": "code",
   "execution_count": null,
   "metadata": {},
   "outputs": [],
   "source": []
  }
 ],
 "metadata": {
  "kernelspec": {
   "name": "python3",
   "display_name": "Python 3.7.4 64-bit (conda)",
   "metadata": {
    "interpreter": {
     "hash": "b3ba2566441a7c06988d0923437866b63cedc61552a5af99d1f4fb67d367b25f"
    }
   }
  },
  "language_info": {
   "codemirror_mode": {
    "name": "ipython",
    "version": 3
   },
   "file_extension": ".py",
   "mimetype": "text/x-python",
   "name": "python",
   "nbconvert_exporter": "python",
   "pygments_lexer": "ipython3",
   "version": "3.7.4-final"
  }
 },
 "nbformat": 4,
 "nbformat_minor": 2
}