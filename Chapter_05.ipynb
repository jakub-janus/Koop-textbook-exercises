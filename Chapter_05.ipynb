{
 "cells": [
  {
   "cell_type": "markdown",
   "metadata": {},
   "source": [
    "**Python solutions to Gary Koop's \"Analysis of Economic Data\" (4th ed., 2013)**\n",
    "\n",
    "**Chapter 5: Statistical Aspects of Regression**\n",
    "\n",
    "Jakub Janus, [jakub.janus@uek.krakow.pl](jakub.janus@uek.krakow.pl)"
   ]
  },
  {
   "cell_type": "markdown",
   "metadata": {},
   "source": [
    "# Exercise 5.1\n",
    "The data sets used to calculate Figures 5.1, 5.2, 5.3 and 5.4 are in FIG51.XLS, FIG52.XLS, FIG53.XLS and FIG54.XLS. (a) Calculate the OLS estimates alpha and beta for these four data sets. How close are they to 0 and 1 (the values we used to artificially simulate the data)?"
   ]
  },
  {
   "cell_type": "code",
   "execution_count": null,
   "metadata": {},
   "outputs": [],
   "source": []
  },
  {
   "cell_type": "code",
   "execution_count": null,
   "metadata": {},
   "outputs": [],
   "source": []
  },
  {
   "cell_type": "code",
   "execution_count": null,
   "metadata": {},
   "outputs": [],
   "source": []
  },
  {
   "cell_type": "markdown",
   "metadata": {},
   "source": [
    "Exercise 5.1\n",
    "The data sets used to calculate Figures 5.1, 5.2, 5.3 and 5.4 are in FIG51.XLS,\n",
    "FIG52.XLS, FIG53.XLS and FIG54.XLS.\n",
    "(a) Calculate the OLS estimates alpha and beta for these four data sets. How close are\n",
    "they to 0 and 1 (the values we used to artificially simulate the data)?\n",
    "(b) Calculate confidence intervals for $\\hat{\\alpha}$ for the four data sets. Examine how the\n",
    "width of the confidence interval relates to N and the variability of the errors.\n",
    "(c) Calculate 99% and 90% confidence intervals for the data sets. How do these\n",
    "differ from the 95% confidence intervals in part (b)?"
   ]
  },
  {
   "cell_type": "code",
   "execution_count": null,
   "metadata": {},
   "outputs": [],
   "source": []
  }
 ],
 "metadata": {
  "kernelspec": {
   "display_name": "Python 3",
   "language": "python",
   "name": "python3"
  },
  "language_info": {
   "codemirror_mode": {
    "name": "ipython",
    "version": 3
   },
   "file_extension": ".py",
   "mimetype": "text/x-python",
   "name": "python",
   "nbconvert_exporter": "python",
   "pygments_lexer": "ipython3",
   "version": "3.7.4"
  }
 },
 "nbformat": 4,
 "nbformat_minor": 2
}
