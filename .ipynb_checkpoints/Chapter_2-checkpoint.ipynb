{
 "cells": [
  {
   "cell_type": "markdown",
   "metadata": {},
   "source": [
    "# Python solutions to Gary Koop's \"Analysis of Economic Data\" (4th ed., 2013)\n",
    "# Chapter 2: Basic Data Handling\n",
    "Jakub Janus, [jakub.janus@uek.krakow.pl](jakub.janus@uek.krakow.pl)"
   ]
  },
  {
   "cell_type": "markdown",
   "metadata": {},
   "source": [
    "## Exercise 2.1"
   ]
  },
  {
   "cell_type": "markdown",
   "metadata": {},
   "source": [
    "(a) Recreate Figure 2.1 from the data located in file EXRUK.XLS."
   ]
  },
  {
   "cell_type": "code",
   "execution_count": 10,
   "metadata": {},
   "outputs": [
    {
     "data": {
      "text/html": [
       "<div>\n",
       "<style scoped>\n",
       "    .dataframe tbody tr th:only-of-type {\n",
       "        vertical-align: middle;\n",
       "    }\n",
       "\n",
       "    .dataframe tbody tr th {\n",
       "        vertical-align: top;\n",
       "    }\n",
       "\n",
       "    .dataframe thead th {\n",
       "        text-align: right;\n",
       "    }\n",
       "</style>\n",
       "<table border=\"1\" class=\"dataframe\">\n",
       "  <thead>\n",
       "    <tr style=\"text-align: right;\">\n",
       "      <th></th>\n",
       "      <th>Pence per dollar</th>\n",
       "    </tr>\n",
       "    <tr>\n",
       "      <th>t</th>\n",
       "      <th></th>\n",
       "    </tr>\n",
       "  </thead>\n",
       "  <tbody>\n",
       "    <tr>\n",
       "      <th>1947-01-01</th>\n",
       "      <td>402.934</td>\n",
       "    </tr>\n",
       "    <tr>\n",
       "      <th>1947-02-01</th>\n",
       "      <td>402.740</td>\n",
       "    </tr>\n",
       "    <tr>\n",
       "      <th>1947-03-01</th>\n",
       "      <td>402.735</td>\n",
       "    </tr>\n",
       "    <tr>\n",
       "      <th>1947-04-01</th>\n",
       "      <td>402.743</td>\n",
       "    </tr>\n",
       "    <tr>\n",
       "      <th>1947-05-01</th>\n",
       "      <td>402.740</td>\n",
       "    </tr>\n",
       "    <tr>\n",
       "      <th>...</th>\n",
       "      <td>...</td>\n",
       "    </tr>\n",
       "    <tr>\n",
       "      <th>1996-06-01</th>\n",
       "      <td>154.160</td>\n",
       "    </tr>\n",
       "    <tr>\n",
       "      <th>1996-07-01</th>\n",
       "      <td>155.300</td>\n",
       "    </tr>\n",
       "    <tr>\n",
       "      <th>1996-08-01</th>\n",
       "      <td>154.990</td>\n",
       "    </tr>\n",
       "    <tr>\n",
       "      <th>1996-09-01</th>\n",
       "      <td>155.930</td>\n",
       "    </tr>\n",
       "    <tr>\n",
       "      <th>1996-10-01</th>\n",
       "      <td>158.630</td>\n",
       "    </tr>\n",
       "  </tbody>\n",
       "</table>\n",
       "<p>598 rows × 1 columns</p>\n",
       "</div>"
      ],
      "text/plain": [
       "            Pence per dollar\n",
       "t                           \n",
       "1947-01-01           402.934\n",
       "1947-02-01           402.740\n",
       "1947-03-01           402.735\n",
       "1947-04-01           402.743\n",
       "1947-05-01           402.740\n",
       "...                      ...\n",
       "1996-06-01           154.160\n",
       "1996-07-01           155.300\n",
       "1996-08-01           154.990\n",
       "1996-09-01           155.930\n",
       "1996-10-01           158.630\n",
       "\n",
       "[598 rows x 1 columns]"
      ]
     },
     "execution_count": 10,
     "metadata": {},
     "output_type": "execute_result"
    }
   ],
   "source": [
    "import pandas as pd\n",
    "colnames = ['t', 'Pence per dollar']\n",
    "exkruk = pd.read_excel(r'datasets\\EXRUK.xls', header = None, names = colnames, index_col = 0)\n",
    "#exkruk = pd.read_excel(r'datasets\\EXRUK.xls',  **kwargs)\n",
    "exkruk"
   ]
  },
  {
   "cell_type": "code",
   "execution_count": 25,
   "metadata": {},
   "outputs": [
    {
     "data": {
      "image/png": "[encoded data removed]",
      "text/plain": [
       "<Figure size 1008x360 with 1 Axes>"
      ]
     },
     "metadata": {
      "needs_background": "light"
     },
     "output_type": "display_data"
    }
   ],
   "source": [
    "import matplotlib.pyplot as plt\n",
    "%matplotlib inline\n",
    "import matplotlib.dates as mdates\n",
    "import matplotlib.ticker as ticker\n",
    "fig, ax = plt.subplots(figsize = (14,5))\n",
    "ax.plot('Pence per dollar', data = exkruk, color = 'k')\n",
    "ax.set_ylabel('Pence per dollar')\n",
    "ax.set_ylim(0, 450)\n",
    "ax.xaxis.set_major_formatter(mdates.DateFormatter('%b-%Y'))\n",
    "locator = mdates.YearLocator(1)\n",
    "ax.xaxis.set_major_locator(locator)\n",
    "for tick in ax.xaxis.get_major_ticks()[1::2]:\n",
    "    tick.set_visible(False)\n",
    "plt.xticks(rotation = 90) \n",
    "ax.margins(x = 0)"
   ]
  },
  {
   "cell_type": "code",
   "execution_count": 26,
   "metadata": {},
   "outputs": [
    {
     "data": {
      "text/plain": [
       "<matplotlib.axes._subplots.AxesSubplot at 0x2243878d708>"
      ]
     },
     "execution_count": 26,
     "metadata": {},
     "output_type": "execute_result"
    },
    {
     "data": {
      "image/png": "[encoded data removed]",
      "text/plain": [
       "<Figure size 432x288 with 1 Axes>"
      ]
     },
     "metadata": {
      "needs_background": "light"
     },
     "output_type": "display_data"
    }
   ],
   "source": [
    "#plt.plot(exkruk); # matplotlib\n",
    "exkruk.plot(); # pandas\n",
    "#wrapper"
   ]
  },
  {
   "cell_type": "markdown",
   "metadata": {},
   "source": [
    "(b) File INCOME.XLS contains data on the natural logarithm of personal income and consumption in the USA from 1954Q1 to 1994Q2.6 Make one time series graph that contains both of these variables."
   ]
  },
  {
   "cell_type": "code",
   "execution_count": 3,
   "metadata": {},
   "outputs": [
    {
     "data": {
      "text/html": [
       "<div>\n",
       "<style scoped>\n",
       "    .dataframe tbody tr th:only-of-type {\n",
       "        vertical-align: middle;\n",
       "    }\n",
       "\n",
       "    .dataframe tbody tr th {\n",
       "        vertical-align: top;\n",
       "    }\n",
       "\n",
       "    .dataframe thead th {\n",
       "        text-align: right;\n",
       "    }\n",
       "</style>\n",
       "<table border=\"1\" class=\"dataframe\">\n",
       "  <thead>\n",
       "    <tr style=\"text-align: right;\">\n",
       "      <th></th>\n",
       "      <th>Income</th>\n",
       "      <th>Consumption</th>\n",
       "    </tr>\n",
       "    <tr>\n",
       "      <th>Date</th>\n",
       "      <th></th>\n",
       "      <th></th>\n",
       "    </tr>\n",
       "  </thead>\n",
       "  <tbody>\n",
       "    <tr>\n",
       "      <th>1954Q1</th>\n",
       "      <td>6.968380</td>\n",
       "      <td>6.876368</td>\n",
       "    </tr>\n",
       "    <tr>\n",
       "      <th>1954Q2</th>\n",
       "      <td>6.962811</td>\n",
       "      <td>6.884384</td>\n",
       "    </tr>\n",
       "    <tr>\n",
       "      <th>1954Q3</th>\n",
       "      <td>6.978214</td>\n",
       "      <td>6.900630</td>\n",
       "    </tr>\n",
       "    <tr>\n",
       "      <th>1954Q4</th>\n",
       "      <td>6.997322</td>\n",
       "      <td>6.918102</td>\n",
       "    </tr>\n",
       "    <tr>\n",
       "      <th>1955Q1</th>\n",
       "      <td>7.004156</td>\n",
       "      <td>6.932545</td>\n",
       "    </tr>\n",
       "    <tr>\n",
       "      <th>...</th>\n",
       "      <td>...</td>\n",
       "      <td>...</td>\n",
       "    </tr>\n",
       "    <tr>\n",
       "      <th>1993Q4</th>\n",
       "      <td>8.228924</td>\n",
       "      <td>8.162294</td>\n",
       "    </tr>\n",
       "    <tr>\n",
       "      <th>1994Q1</th>\n",
       "      <td>8.237268</td>\n",
       "      <td>8.173671</td>\n",
       "    </tr>\n",
       "    <tr>\n",
       "      <th>1994Q2</th>\n",
       "      <td>8.245778</td>\n",
       "      <td>8.176909</td>\n",
       "    </tr>\n",
       "    <tr>\n",
       "      <th>1994Q3</th>\n",
       "      <td>8.253462</td>\n",
       "      <td>8.184438</td>\n",
       "    </tr>\n",
       "    <tr>\n",
       "      <th>1994Q4</th>\n",
       "      <td>8.271548</td>\n",
       "      <td>8.196875</td>\n",
       "    </tr>\n",
       "  </tbody>\n",
       "</table>\n",
       "<p>164 rows × 2 columns</p>\n",
       "</div>"
      ],
      "text/plain": [
       "          Income  Consumption\n",
       "Date                         \n",
       "1954Q1  6.968380     6.876368\n",
       "1954Q2  6.962811     6.884384\n",
       "1954Q3  6.978214     6.900630\n",
       "1954Q4  6.997322     6.918102\n",
       "1955Q1  7.004156     6.932545\n",
       "...          ...          ...\n",
       "1993Q4  8.228924     8.162294\n",
       "1994Q1  8.237268     8.173671\n",
       "1994Q2  8.245778     8.176909\n",
       "1994Q3  8.253462     8.184438\n",
       "1994Q4  8.271548     8.196875\n",
       "\n",
       "[164 rows x 2 columns]"
      ]
     },
     "execution_count": 3,
     "metadata": {},
     "output_type": "execute_result"
    }
   ],
   "source": [
    "income = pd.read_excel(r'datasets\\INCOME.xls', index_col = 0)\n",
    "income"
   ]
  },
  {
   "cell_type": "code",
   "execution_count": 4,
   "metadata": {},
   "outputs": [
    {
     "data": {
      "image/png": "[encoded data removed]",
      "text/plain": [
       "<Figure size 432x288 with 1 Axes>"
      ]
     },
     "metadata": {
      "needs_background": "light"
     },
     "output_type": "display_data"
    }
   ],
   "source": [
    "income.plot();"
   ]
  },
  {
   "cell_type": "markdown",
   "metadata": {},
   "source": [
    "(c) Transform the logged personal income data to growth rates. Note that the\n",
    "percentage change in personal income between period t − 1 and t is approximately\n",
    "100×[ln(Y_t) − ln(Yt−1)] and the data provided in INCOME.XLS is\n",
    "already logged. Make a time series graph of the series you have created."
   ]
  },
  {
   "cell_type": "code",
   "execution_count": 5,
   "metadata": {},
   "outputs": [
    {
     "data": {
      "text/plain": [
       "Date\n",
       "1954Q1         NaN\n",
       "1954Q2   -0.005568\n",
       "1954Q3    0.015402\n",
       "1954Q4    0.019108\n",
       "1955Q1    0.006834\n",
       "            ...   \n",
       "1993Q4    0.010568\n",
       "1994Q1    0.008343\n",
       "1994Q2    0.008511\n",
       "1994Q3    0.007684\n",
       "1994Q4    0.018086\n",
       "Name: Income, Length: 164, dtype: float64"
      ]
     },
     "execution_count": 5,
     "metadata": {},
     "output_type": "execute_result"
    }
   ],
   "source": [
    "d_income = income['Income'].diff(1)\n",
    "d_income"
   ]
  },
  {
   "cell_type": "code",
   "execution_count": 6,
   "metadata": {},
   "outputs": [
    {
     "data": {
      "image/png": "[encoded data removed]",
      "text/plain": [
       "<Figure size 432x288 with 1 Axes>"
      ]
     },
     "metadata": {
      "needs_background": "light"
     },
     "output_type": "display_data"
    }
   ],
   "source": [
    "d_income.plot(color = 'r');"
   ]
  },
  {
   "cell_type": "markdown",
   "metadata": {},
   "source": [
    "## Exercise 2.2"
   ]
  },
  {
   "cell_type": "markdown",
   "metadata": {},
   "source": [
    "(a) Recreate the histogram in Figure 2.2."
   ]
  },
  {
   "cell_type": "code",
   "execution_count": 7,
   "metadata": {},
   "outputs": [
    {
     "data": {
      "text/html": [
       "<div>\n",
       "<style scoped>\n",
       "    .dataframe tbody tr th:only-of-type {\n",
       "        vertical-align: middle;\n",
       "    }\n",
       "\n",
       "    .dataframe tbody tr th {\n",
       "        vertical-align: top;\n",
       "    }\n",
       "\n",
       "    .dataframe thead th {\n",
       "        text-align: right;\n",
       "    }\n",
       "</style>\n",
       "<table border=\"1\" class=\"dataframe\">\n",
       "  <thead>\n",
       "    <tr style=\"text-align: right;\">\n",
       "      <th></th>\n",
       "      <th>1</th>\n",
       "      <th>2</th>\n",
       "      <th>3</th>\n",
       "    </tr>\n",
       "    <tr>\n",
       "      <th>0</th>\n",
       "      <th></th>\n",
       "      <th></th>\n",
       "      <th></th>\n",
       "    </tr>\n",
       "  </thead>\n",
       "  <tbody>\n",
       "    <tr>\n",
       "      <th>1</th>\n",
       "      <td>ALGERIA</td>\n",
       "      <td>1992</td>\n",
       "      <td>2719</td>\n",
       "    </tr>\n",
       "    <tr>\n",
       "      <th>2</th>\n",
       "      <td>BURKINA</td>\n",
       "      <td>1992</td>\n",
       "      <td>514</td>\n",
       "    </tr>\n",
       "    <tr>\n",
       "      <th>3</th>\n",
       "      <td>BURUNDI</td>\n",
       "      <td>1992</td>\n",
       "      <td>569</td>\n",
       "    </tr>\n",
       "    <tr>\n",
       "      <th>4</th>\n",
       "      <td>CAMEROON</td>\n",
       "      <td>1992</td>\n",
       "      <td>1029</td>\n",
       "    </tr>\n",
       "    <tr>\n",
       "      <th>5</th>\n",
       "      <td>CAPEVER</td>\n",
       "      <td>1992</td>\n",
       "      <td>1085</td>\n",
       "    </tr>\n",
       "    <tr>\n",
       "      <th>...</th>\n",
       "      <td>...</td>\n",
       "      <td>...</td>\n",
       "      <td>...</td>\n",
       "    </tr>\n",
       "    <tr>\n",
       "      <th>86</th>\n",
       "      <td>TURKEY</td>\n",
       "      <td>1992</td>\n",
       "      <td>3807</td>\n",
       "    </tr>\n",
       "    <tr>\n",
       "      <th>87</th>\n",
       "      <td>U.K.</td>\n",
       "      <td>1992</td>\n",
       "      <td>12724</td>\n",
       "    </tr>\n",
       "    <tr>\n",
       "      <th>88</th>\n",
       "      <td>AUSTRALIA</td>\n",
       "      <td>1992</td>\n",
       "      <td>14458</td>\n",
       "    </tr>\n",
       "    <tr>\n",
       "      <th>89</th>\n",
       "      <td>N.ZEALAND</td>\n",
       "      <td>1992</td>\n",
       "      <td>11363</td>\n",
       "    </tr>\n",
       "    <tr>\n",
       "      <th>90</th>\n",
       "      <td>PAP.N.GUI</td>\n",
       "      <td>1992</td>\n",
       "      <td>1606</td>\n",
       "    </tr>\n",
       "  </tbody>\n",
       "</table>\n",
       "<p>90 rows × 3 columns</p>\n",
       "</div>"
      ],
      "text/plain": [
       "            1     2      3\n",
       "0                         \n",
       "1     ALGERIA  1992   2719\n",
       "2     BURKINA  1992    514\n",
       "3     BURUNDI  1992    569\n",
       "4    CAMEROON  1992   1029\n",
       "5     CAPEVER  1992   1085\n",
       "..        ...   ...    ...\n",
       "86     TURKEY  1992   3807\n",
       "87       U.K.  1992  12724\n",
       "88  AUSTRALIA  1992  14458\n",
       "89  N.ZEALAND  1992  11363\n",
       "90  PAP.N.GUI  1992   1606\n",
       "\n",
       "[90 rows x 3 columns]"
      ]
     },
     "execution_count": 7,
     "metadata": {},
     "output_type": "execute_result"
    }
   ],
   "source": [
    "gdp_pc = pd.read_excel(r'datasets\\GDPPC.xls', index_col = 0, header = None)\n",
    "gdp_pc"
   ]
  },
  {
   "cell_type": "code",
   "execution_count": 8,
   "metadata": {},
   "outputs": [
    {
     "data": {
      "image/png": "[encoded data removed]",
      "text/plain": [
       "<Figure size 432x288 with 1 Axes>"
      ]
     },
     "metadata": {
      "needs_background": "light"
     },
     "output_type": "display_data"
    }
   ],
   "source": [
    "bins = [0, 2000, 4000, 6000, 8000, 10000, 12000, 14000, 16000]  \n",
    "plt.figure()\n",
    "hist = gdp_pc[3].hist(color = 'grey', grid = False, bins = bins, rwidth = 0.7)\n",
    "hist.set(xlabel = 'Bin', ylabel = 'Frequency')\n",
    "plt.show()"
   ]
  },
  {
   "cell_type": "markdown",
   "metadata": {},
   "source": [
    "(b) Create histograms using different class intervals. For instance, begin by letting\n",
    "your software package choose default values and see what you get, then try\n",
    "values of your own."
   ]
  },
  {
   "cell_type": "code",
   "execution_count": 9,
   "metadata": {},
   "outputs": [
    {
     "data": {
      "image/png": "[encoded data removed]",
      "text/plain": [
       "<Figure size 432x288 with 1 Axes>"
      ]
     },
     "metadata": {
      "needs_background": "light"
     },
     "output_type": "display_data"
    }
   ],
   "source": [
    "gdp_pc[3].hist();"
   ]
  },
  {
   "cell_type": "markdown",
   "metadata": {},
   "source": [
    "## Exercise 2.3"
   ]
  },
  {
   "cell_type": "markdown",
   "metadata": {},
   "source": [
    "The file FOREST.XLS contains data on the percentage increase in cropland from\n",
    "1980 to 1990 and on the percentage increase in permanent pasture over the same\n",
    "period.\n",
    "\n",
    "(a) Construct and interpret XY-plots of these two variables (one at a time) against deforestation.\n",
    "\n",
    "(b) Does there seem to be a positive relationship between deforestation and expansion of pasture land?\n",
    "\n",
    "(c) How about between deforestation and the expansion of cropland?"
   ]
  },
  {
   "cell_type": "code",
   "execution_count": 10,
   "metadata": {
    "scrolled": true
   },
   "outputs": [
    {
     "data": {
      "text/html": [
       "<div>\n",
       "<style scoped>\n",
       "    .dataframe tbody tr th:only-of-type {\n",
       "        vertical-align: middle;\n",
       "    }\n",
       "\n",
       "    .dataframe tbody tr th {\n",
       "        vertical-align: top;\n",
       "    }\n",
       "\n",
       "    .dataframe thead th {\n",
       "        text-align: right;\n",
       "    }\n",
       "</style>\n",
       "<table border=\"1\" class=\"dataframe\">\n",
       "  <thead>\n",
       "    <tr style=\"text-align: right;\">\n",
       "      <th></th>\n",
       "      <th>Forest loss</th>\n",
       "      <th>Pop dens</th>\n",
       "      <th>Crop ch</th>\n",
       "      <th>Pasture ch</th>\n",
       "    </tr>\n",
       "  </thead>\n",
       "  <tbody>\n",
       "    <tr>\n",
       "      <th>0</th>\n",
       "      <td>0.7</td>\n",
       "      <td>357.0</td>\n",
       "      <td>27.9</td>\n",
       "      <td>0.0</td>\n",
       "    </tr>\n",
       "    <tr>\n",
       "      <th>1</th>\n",
       "      <td>0.7</td>\n",
       "      <td>48.0</td>\n",
       "      <td>1.7</td>\n",
       "      <td>0.0</td>\n",
       "    </tr>\n",
       "    <tr>\n",
       "      <th>2</th>\n",
       "      <td>0.8</td>\n",
       "      <td>932.0</td>\n",
       "      <td>14.5</td>\n",
       "      <td>0.0</td>\n",
       "    </tr>\n",
       "    <tr>\n",
       "      <th>3</th>\n",
       "      <td>0.7</td>\n",
       "      <td>366.0</td>\n",
       "      <td>17.9</td>\n",
       "      <td>0.0</td>\n",
       "    </tr>\n",
       "    <tr>\n",
       "      <th>4</th>\n",
       "      <td>0.8</td>\n",
       "      <td>83.0</td>\n",
       "      <td>2.2</td>\n",
       "      <td>0.0</td>\n",
       "    </tr>\n",
       "    <tr>\n",
       "      <th>...</th>\n",
       "      <td>...</td>\n",
       "      <td>...</td>\n",
       "      <td>...</td>\n",
       "      <td>...</td>\n",
       "    </tr>\n",
       "    <tr>\n",
       "      <th>65</th>\n",
       "      <td>0.6</td>\n",
       "      <td>327.0</td>\n",
       "      <td>4.1</td>\n",
       "      <td>5.8</td>\n",
       "    </tr>\n",
       "    <tr>\n",
       "      <th>66</th>\n",
       "      <td>1.7</td>\n",
       "      <td>409.0</td>\n",
       "      <td>9.4</td>\n",
       "      <td>29.2</td>\n",
       "    </tr>\n",
       "    <tr>\n",
       "      <th>67</th>\n",
       "      <td>2.4</td>\n",
       "      <td>117.0</td>\n",
       "      <td>26.7</td>\n",
       "      <td>33.5</td>\n",
       "    </tr>\n",
       "    <tr>\n",
       "      <th>68</th>\n",
       "      <td>0.4</td>\n",
       "      <td>179.0</td>\n",
       "      <td>6.1</td>\n",
       "      <td>0.0</td>\n",
       "    </tr>\n",
       "    <tr>\n",
       "      <th>69</th>\n",
       "      <td>1.2</td>\n",
       "      <td>234.0</td>\n",
       "      <td>4.3</td>\n",
       "      <td>2.9</td>\n",
       "    </tr>\n",
       "  </tbody>\n",
       "</table>\n",
       "<p>70 rows × 4 columns</p>\n",
       "</div>"
      ],
      "text/plain": [
       "    Forest loss  Pop dens  Crop ch  Pasture ch\n",
       "0           0.7     357.0     27.9         0.0\n",
       "1           0.7      48.0      1.7         0.0\n",
       "2           0.8     932.0     14.5         0.0\n",
       "3           0.7     366.0     17.9         0.0\n",
       "4           0.8      83.0      2.2         0.0\n",
       "..          ...       ...      ...         ...\n",
       "65          0.6     327.0      4.1         5.8\n",
       "66          1.7     409.0      9.4        29.2\n",
       "67          2.4     117.0     26.7        33.5\n",
       "68          0.4     179.0      6.1         0.0\n",
       "69          1.2     234.0      4.3         2.9\n",
       "\n",
       "[70 rows x 4 columns]"
      ]
     },
     "execution_count": 10,
     "metadata": {},
     "output_type": "execute_result"
    }
   ],
   "source": [
    "forest = pd.read_excel(r'datasets\\FOREST.xls')\n",
    "forest"
   ]
  },
  {
   "cell_type": "code",
   "execution_count": 11,
   "metadata": {},
   "outputs": [
    {
     "data": {
      "image/png": "[encoded data removed]",
      "text/plain": [
       "<Figure size 432x288 with 1 Axes>"
      ]
     },
     "metadata": {
      "needs_background": "light"
     },
     "output_type": "display_data"
    }
   ],
   "source": [
    "forest.plot.scatter(x = 'Pasture ch', y = 'Forest loss', c = 'yellow', s = 25);"
   ]
  },
  {
   "cell_type": "markdown",
   "metadata": {},
   "source": [
    "Yes, there seem to be a (somehow) positive relationship between deforestation and expansion of pasture land, although there are some major outliers in the graph."
   ]
  },
  {
   "cell_type": "code",
   "execution_count": 12,
   "metadata": {},
   "outputs": [
    {
     "data": {
      "image/png": "[encoded data removed]",
      "text/plain": [
       "<Figure size 432x288 with 1 Axes>"
      ]
     },
     "metadata": {
      "needs_background": "light"
     },
     "output_type": "display_data"
    }
   ],
   "source": [
    "forest.plot.scatter(x = 'Forest loss', y = 'Crop ch', c = 'blue', s = 25);"
   ]
  },
  {
   "cell_type": "markdown",
   "metadata": {},
   "source": [
    "A relationship between variables is much harder to assess in this case."
   ]
  },
  {
   "cell_type": "markdown",
   "metadata": {},
   "source": [
    "### Exercise 2.4"
   ]
  },
  {
   "cell_type": "markdown",
   "metadata": {},
   "source": [
    "Construct and interpret descriptive statistics for the pasture change and cropland change variables in FOREST.XLS."
   ]
  },
  {
   "cell_type": "code",
   "execution_count": 13,
   "metadata": {},
   "outputs": [
    {
     "name": "stdout",
     "output_type": "stream",
     "text": [
      "pasture_ch_mean =  3.002857142857143 \n",
      "cropland_ch_mean =  6.937142857142858 \n",
      "pasture_ch_std =  8.44480753641681 \n",
      "cropland_ch_std =  8.305021554624306\n"
     ]
    }
   ],
   "source": [
    "print('pasture_ch_mean = ', forest['Pasture ch'].mean(), '\\n'\n",
    "    'cropland_ch_mean = ', forest['Crop ch'].mean(), '\\n'\n",
    "    'pasture_ch_std = ', forest['Pasture ch'].std(), '\\n'\n",
    "    'cropland_ch_std = ', forest['Crop ch'].std())"
   ]
  }
 ],
 "metadata": {
  "kernelspec": {
   "display_name": "Python 3",
   "language": "python",
   "name": "python3"
  },
  "language_info": {
   "codemirror_mode": {
    "name": "ipython",
    "version": 3
   },
   "file_extension": ".py",
   "mimetype": "text/x-python",
   "name": "python",
   "nbconvert_exporter": "python",
   "pygments_lexer": "ipython3",
   "version": "3.7.4"
  }
 },
 "nbformat": 4,
 "nbformat_minor": 2
}
