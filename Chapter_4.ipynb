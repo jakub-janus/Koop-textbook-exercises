{
 "cells": [
  {
   "cell_type": "markdown",
   "metadata": {},
   "source": [
    "## Python solutions to Gary Koop's \"Analysis of Economic Data\" (4th ed., 2013)\n",
    "## Chapter 4: Introduction to Simple Regression\n",
    "Jakub Janus, [jakub.janus@uek.krakow.pl](jakub.janus@uek.krakow.pl)"
   ]
  },
  {
   "cell_type": "markdown",
   "metadata": {},
   "source": [
    "### Exercise 4.1"
   ]
  },
  {
   "cell_type": "markdown",
   "metadata": {},
   "source": [
    "The FOREST.XLS data set contains data on deforestation (Y), population density\n",
    "(X), change in cropland (W) and change in pasture land (Z).\n",
    "(a) Run a regression of Y on X and interpret the results.\n",
    "(b) Run a regression of Y on W and one of Y on Z and interpret the results.\n",
    "(c) Create a new variable, V, by dividing X by 100. What are the units in terms\n",
    "of which V is measured?\n",
    "(d) Run a regression of Y on V. Compare your results to those for part (a). How\n",
    "do you interpret your coefficient estimate of β? How does \u001fˆ differ between\n",
    "part (a) and part (d)?\n",
    "(e) Experiment with scaling dependent and explanatory variables (i.e. by dividing\n",
    "them by a constant) and see what effect this has on your coefficient\n",
    "estimates."
   ]
  },
  {
   "cell_type": "code",
   "execution_count": null,
   "metadata": {},
   "outputs": [],
   "source": []
  },
  {
   "cell_type": "markdown",
   "metadata": {},
   "source": [
    "Exercise 4.2\n",
    "Using the data in FOREST.XLS (see Exercise 4.1), run a regression of Y on X and\n",
    "compare the actual observations to the fitted values."
   ]
  },
  {
   "cell_type": "code",
   "execution_count": null,
   "metadata": {},
   "outputs": [],
   "source": []
  },
  {
   "cell_type": "code",
   "execution_count": null,
   "metadata": {},
   "outputs": [],
   "source": [
    "Exercise 4.3\n",
    "(a) Using the data in FOREST.XLS (see Exercise 4.1) run a regression of Y on X and obtain the residuals. How would you interpret the residuals? Are there\n",
    "any outliers?\n",
    "(b) Repeat part (a) for the other variables, W and Z in this data set."
   ]
  },
  {
   "cell_type": "code",
   "execution_count": null,
   "metadata": {},
   "outputs": [],
   "source": []
  },
  {
   "cell_type": "code",
   "execution_count": null,
   "metadata": {},
   "outputs": [],
   "source": [
    "Exercise 4.4\n",
    "(a) Using the data in FOREST.XLS (see Exercise 4.1) run a regression of Y on\n",
    "X. What is R2?\n",
    "(b) Calculate the correlation between Y and X.\n",
    "(c) Discuss the relationship between your answers in parts (a) and (b).\n",
    "(d) Redo part (a) for various regressions involving the variables W, X, Y and Z\n",
    "in the data set. Comment on the fit of each of these regressions."
   ]
  },
  {
   "cell_type": "code",
   "execution_count": null,
   "metadata": {},
   "outputs": [],
   "source": []
  },
  {
   "cell_type": "code",
   "execution_count": null,
   "metadata": {},
   "outputs": [],
   "source": [
    "Exercise 4.5\n",
    "Using the data in FOREST.XLS examine different XY-plots involving the variables\n",
    "X, Y, W and Z (see Exercise 4.1 for a definition of these variables). Does\n",
    "there seem to be a nonlinear relationship between any pair of variables? Repeat\n",
    "the exercise using the data in the advertising example (ADVERT.XLS)."
   ]
  },
  {
   "cell_type": "code",
   "execution_count": null,
   "metadata": {},
   "outputs": [],
   "source": []
  },
  {
   "cell_type": "code",
   "execution_count": null,
   "metadata": {},
   "outputs": [],
   "source": [
    "Exercise 4.6\n",
    "Data set EX46.XLS contains two variables, labeled Y and X.\n",
    "(a) Make an XY-plot of these two variables. Does the relationship between Y and\n",
    "X appear to be linear?\n",
    "(b) Calculate the square root of variable X.\n",
    "(c) Make an XY-plot of the square root of X against Y. Does this relationship\n",
    "appear to be linear?"
   ]
  },
  {
   "cell_type": "code",
   "execution_count": null,
   "metadata": {},
   "outputs": [],
   "source": []
  },
  {
   "cell_type": "code",
   "execution_count": null,
   "metadata": {},
   "outputs": [],
   "source": [
    "Exercise 4.7\n",
    "Use the data in Example 4.1 (costs of production in the electricity utility industry,\n",
    "ELECTRIC.XLS), where Y is the cost of production and X is the output.\n",
    "(a) Run a regression of Y on X.\n",
    "(b) Take a log transformation of both variables.\n",
    "(c) Run a regression of ln(Y) on ln(X) and interpret your results verbally."
   ]
  },
  {
   "cell_type": "code",
   "execution_count": null,
   "metadata": {},
   "outputs": [],
   "source": []
  }
 ],
 "metadata": {
  "kernelspec": {
   "display_name": "Python 3",
   "language": "python",
   "name": "python3"
  },
  "language_info": {
   "codemirror_mode": {
    "name": "ipython",
    "version": 3
   },
   "file_extension": ".py",
   "mimetype": "text/x-python",
   "name": "python",
   "nbconvert_exporter": "python",
   "pygments_lexer": "ipython3",
   "version": "3.7.4"
  }
 },
 "nbformat": 4,
 "nbformat_minor": 2
}
